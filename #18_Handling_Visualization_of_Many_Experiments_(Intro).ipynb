{
  "nbformat": 4,
  "nbformat_minor": 0,
  "metadata": {
    "colab": {
      "name": "#18_Handling_Visualization_of_Many_Experiments_(Intro).ipynb",
      "provenance": [],
      "authorship_tag": "ABX9TyPBkblnpl77EYuKKU6ZMmQr",
      "include_colab_link": true
    },
    "kernelspec": {
      "name": "python3",
      "display_name": "Python 3"
    },
    "language_info": {
      "name": "python"
    }
  },
  "cells": [
    {
      "cell_type": "markdown",
      "metadata": {
        "id": "view-in-github",
        "colab_type": "text"
      },
      "source": [
        "<a href=\"https://colab.research.google.com/github/young-hwanlee/stand_alone_deep_learning/blob/main/%2318_Handling_Visualization_of_Many_Experiments_(Intro).ipynb\" target=\"_parent\"><img src=\"https://colab.research.google.com/assets/colab-badge.svg\" alt=\"Open In Colab\"/></a>"
      ]
    },
    {
      "cell_type": "markdown",
      "source": [
        "# Save results as json file"
      ],
      "metadata": {
        "id": "ZFqHswK11Oew"
      }
    },
    {
      "cell_type": "code",
      "execution_count": 1,
      "metadata": {
        "id": "IS7wGbBsQ1VX"
      },
      "outputs": [],
      "source": [
        "import json\n",
        "a = {'value1':5, 'value2':10}\n",
        "\n",
        "filename = 'test.json'\n",
        "with open(filename, 'w') as f:\n",
        "    json.dump(a, f)"
      ]
    },
    {
      "cell_type": "code",
      "source": [
        "!ls"
      ],
      "metadata": {
        "colab": {
          "base_uri": "https://localhost:8080/"
        },
        "id": "ZmAZDWY0pGst",
        "outputId": "e4035c4f-87f1-4584-9587-221805017733"
      },
      "execution_count": 2,
      "outputs": [
        {
          "output_type": "stream",
          "name": "stdout",
          "text": [
            "sample_data  test.json\n"
          ]
        }
      ]
    },
    {
      "cell_type": "code",
      "source": [
        "!cat test.json"
      ],
      "metadata": {
        "colab": {
          "base_uri": "https://localhost:8080/"
        },
        "id": "eYVaSuSMpG3K",
        "outputId": "fc9374f6-371d-4538-8a5e-8e7aaccd54ec"
      },
      "execution_count": 3,
      "outputs": [
        {
          "output_type": "stream",
          "name": "stdout",
          "text": [
            "{\"value1\": 5, \"value2\": 10}"
          ]
        }
      ]
    },
    {
      "cell_type": "code",
      "source": [
        "b = {'value1':5, 'value2':10, 'seq':[1,2,3,4,5]}\n",
        "with open(filename, 'w') as f:\n",
        "    json.dump(b, f)"
      ],
      "metadata": {
        "id": "0iSdy5U8pG9C"
      },
      "execution_count": 4,
      "outputs": []
    },
    {
      "cell_type": "code",
      "source": [
        "!ls"
      ],
      "metadata": {
        "id": "90qhpzYJpHLO",
        "colab": {
          "base_uri": "https://localhost:8080/"
        },
        "outputId": "872a65b7-fc50-41ff-ac78-c290cf48fcfa"
      },
      "execution_count": 5,
      "outputs": [
        {
          "output_type": "stream",
          "name": "stdout",
          "text": [
            "sample_data  test.json\n"
          ]
        }
      ]
    },
    {
      "cell_type": "code",
      "source": [
        "!cat test.json"
      ],
      "metadata": {
        "colab": {
          "base_uri": "https://localhost:8080/"
        },
        "id": "lJ45NHJlybc-",
        "outputId": "5aa4d467-e646-491a-8441-ea754ba33dc3"
      },
      "execution_count": 6,
      "outputs": [
        {
          "output_type": "stream",
          "name": "stdout",
          "text": [
            "{\"value1\": 5, \"value2\": 10, \"seq\": [1, 2, 3, 4, 5]}"
          ]
        }
      ]
    },
    {
      "cell_type": "markdown",
      "source": [
        "# Load the results from json file"
      ],
      "metadata": {
        "id": "DGmay_nQ1ZD5"
      }
    },
    {
      "cell_type": "code",
      "source": [
        "with open(filename, 'r') as f:\n",
        "    result = json.load(f)\n",
        "    print(result)"
      ],
      "metadata": {
        "colab": {
          "base_uri": "https://localhost:8080/"
        },
        "id": "Oehk1txeyiaK",
        "outputId": "3f5a6f7f-38ac-4da1-e694-4365694987d5"
      },
      "execution_count": 7,
      "outputs": [
        {
          "output_type": "stream",
          "name": "stdout",
          "text": [
            "{'value1': 5, 'value2': 10, 'seq': [1, 2, 3, 4, 5]}\n"
          ]
        }
      ]
    },
    {
      "cell_type": "markdown",
      "source": [
        "# How to name each result"
      ],
      "metadata": {
        "id": "Uv-AFrHS1gm1"
      }
    },
    {
      "cell_type": "code",
      "source": [
        "import hashlib\n",
        "c = 'I am Megatron'\n",
        "hash_key = hashlib.sha1(c.encode()).hexdigest()\n",
        "print(hash_key)\n",
        "\n",
        "hash_key = hashlib.sha1(c.encode()).hexdigest()[:6]\n",
        "print(hash_key)"
      ],
      "metadata": {
        "colab": {
          "base_uri": "https://localhost:8080/"
        },
        "id": "YrhS3QPIyiiH",
        "outputId": "4d51f082-5b62-4d85-ed09-06ff4cdb9f08"
      },
      "execution_count": 9,
      "outputs": [
        {
          "output_type": "stream",
          "name": "stdout",
          "text": [
            "641b7161ac684be90eda9f6f58234fbc8ac6e517\n",
            "641b71\n"
          ]
        }
      ]
    },
    {
      "cell_type": "code",
      "source": [
        "c = 'I am Megatron!'\n",
        "hash_key = hashlib.sha1(c.encode()).hexdigest()[:6]\n",
        "print(hash_key)"
      ],
      "metadata": {
        "colab": {
          "base_uri": "https://localhost:8080/"
        },
        "id": "BIfftnnPyink",
        "outputId": "5bde1ce9-20a3-42d7-c622-f46c21024742"
      },
      "execution_count": 10,
      "outputs": [
        {
          "output_type": "stream",
          "name": "stdout",
          "text": [
            "5198d3\n"
          ]
        }
      ]
    },
    {
      "cell_type": "markdown",
      "source": [
        "## Same setting, same hash"
      ],
      "metadata": {
        "id": "4pLCTVZl2yi2"
      }
    },
    {
      "cell_type": "code",
      "source": [
        "setting = {'value1':5, 'value2':10, 'seq':[1,2,3,4,5]}\n",
        "hash_key = hashlib.sha1(str(setting).encode()).hexdigest()[:6]      # to change dict into str\n",
        "print(hash_key)"
      ],
      "metadata": {
        "colab": {
          "base_uri": "https://localhost:8080/"
        },
        "id": "3jeAAYTCyisy",
        "outputId": "3fc2a521-1223-4ee1-a482-74ad34433dc4"
      },
      "execution_count": 11,
      "outputs": [
        {
          "output_type": "stream",
          "name": "stdout",
          "text": [
            "c40aaa\n"
          ]
        }
      ]
    },
    {
      "cell_type": "code",
      "source": [
        "setting = {'value1':6, 'value2':10, 'seq':[1,2,3,4,5]}\n",
        "hash_key = hashlib.sha1(str(setting).encode()).hexdigest()[:6]\n",
        "print(hash_key)"
      ],
      "metadata": {
        "colab": {
          "base_uri": "https://localhost:8080/"
        },
        "id": "m-QM-dEb18H8",
        "outputId": "9cf523a6-4e02-4c5e-d570-de7f3f3473ae"
      },
      "execution_count": 12,
      "outputs": [
        {
          "output_type": "stream",
          "name": "stdout",
          "text": [
            "10e2f9\n"
          ]
        }
      ]
    },
    {
      "cell_type": "code",
      "source": [
        "setting = {'value1':5, 'value2':10, 'seq':[1,2,3,4,5]}\n",
        "hash_key = hashlib.sha1(str(setting).encode()).hexdigest()[:6]\n",
        "print(hash_key)"
      ],
      "metadata": {
        "colab": {
          "base_uri": "https://localhost:8080/"
        },
        "id": "FgCVT4Y218N0",
        "outputId": "2ee3ffdc-cddb-408b-bb34-6628e7047120"
      },
      "execution_count": 13,
      "outputs": [
        {
          "output_type": "stream",
          "name": "stdout",
          "text": [
            "c40aaa\n"
          ]
        }
      ]
    },
    {
      "cell_type": "markdown",
      "source": [
        "## Name with hash"
      ],
      "metadata": {
        "id": "3QpO01sp3U41"
      }
    },
    {
      "cell_type": "code",
      "source": [
        "setting = {'value1':5, 'value2':10, 'seq':[1,2,3,4,5], 'exp_name':'exp1'}\n",
        "exp_name = setting['exp_name']\n",
        "hash_key = hashlib.sha1(str(setting).encode()).hexdigest()[:6]\n",
        "filename = '{}-{}.json'.format(exp_name, hash_key)\n",
        "print(filename)"
      ],
      "metadata": {
        "colab": {
          "base_uri": "https://localhost:8080/"
        },
        "id": "4og3wcgr18Rz",
        "outputId": "c726f468-ad68-4c5b-be44-27f2b8e46c11"
      },
      "execution_count": 14,
      "outputs": [
        {
          "output_type": "stream",
          "name": "stdout",
          "text": [
            "exp1-4766aa.json\n"
          ]
        }
      ]
    },
    {
      "cell_type": "code",
      "source": [
        "setting = {'value1':6, 'value2':10, 'seq':[1,2,3,4,5], 'exp_name':'exp1'}\n",
        "exp_name = setting['exp_name']\n",
        "hash_key = hashlib.sha1(str(setting).encode()).hexdigest()[:6]\n",
        "filename = '{}-{}.json'.format(exp_name, hash_key)\n",
        "print(filename)"
      ],
      "metadata": {
        "colab": {
          "base_uri": "https://localhost:8080/"
        },
        "id": "aft7Jh5w3Ks0",
        "outputId": "3b4773db-7d04-4b55-c521-216f72e75fb2"
      },
      "execution_count": 15,
      "outputs": [
        {
          "output_type": "stream",
          "name": "stdout",
          "text": [
            "exp1-91fb1f.json\n"
          ]
        }
      ]
    }
  ]
}