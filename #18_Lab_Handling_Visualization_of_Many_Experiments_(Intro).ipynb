{
  "nbformat": 4,
  "nbformat_minor": 0,
  "metadata": {
    "colab": {
      "name": "#18_Lab_Handling_Visualization_of_Many_Experiments_(Intro).ipynb",
      "provenance": [],
      "authorship_tag": "ABX9TyPBkblnpl77EYuKKU6ZMmQr",
      "include_colab_link": true
    },
    "kernelspec": {
      "name": "python3",
      "display_name": "Python 3"
    },
    "language_info": {
      "name": "python"
    }
  },
  "cells": [
    {
      "cell_type": "markdown",
      "metadata": {
        "id": "view-in-github",
        "colab_type": "text"
      },
      "source": [
        "<a href=\"https://colab.research.google.com/github/young-hwanlee/stand_alone_deep_learning/blob/main/%2318_Lab_Handling_Visualization_of_Many_Experiments_(Intro).ipynb\" target=\"_parent\"><img src=\"https://colab.research.google.com/assets/colab-badge.svg\" alt=\"Open In Colab\"/></a>"
      ]
    },
    {
      "cell_type": "markdown",
      "source": [
        "# Save results as json file"
      ],
      "metadata": {
        "id": "ZFqHswK11Oew"
      }
    },
    {
      "cell_type": "code",
      "execution_count": 1,
      "metadata": {
        "id": "IS7wGbBsQ1VX"
      },
      "outputs": [],
      "source": [
        "import json\n",
        "a = {'value1':5, 'value2':10}\n",
        "\n",
        "filename = 'test.json'\n",
        "with open(filename, 'w') as f:\n",
        "    json.dump(a, f)"
      ]
    },
    {
      "cell_type": "code",
      "source": [
        "!ls"
      ],
      "metadata": {
        "colab": {
          "base_uri": "https://localhost:8080/"
        },
        "id": "ZmAZDWY0pGst",
        "outputId": "ae49e11d-9cf8-4497-8328-354a4877b0e5"
      },
      "execution_count": 2,
      "outputs": [
        {
          "output_type": "stream",
          "name": "stdout",
          "text": [
            "sample_data  test.json\n"
          ]
        }
      ]
    },
    {
      "cell_type": "code",
      "source": [
        "!cat test.json"
      ],
      "metadata": {
        "colab": {
          "base_uri": "https://localhost:8080/"
        },
        "id": "eYVaSuSMpG3K",
        "outputId": "fbe363f8-627b-4a43-9bb1-6aeb0cf89f4d"
      },
      "execution_count": 3,
      "outputs": [
        {
          "output_type": "stream",
          "name": "stdout",
          "text": [
            "{\"value1\": 5, \"value2\": 10}"
          ]
        }
      ]
    },
    {
      "cell_type": "code",
      "source": [
        "b = {'value1':5, 'value2':10, 'seq':[1,2,3,4,5]}\n",
        "with open(filename, 'w') as f:\n",
        "    json.dump(b, f)"
      ],
      "metadata": {
        "id": "0iSdy5U8pG9C"
      },
      "execution_count": 4,
      "outputs": []
    },
    {
      "cell_type": "code",
      "source": [
        "!ls"
      ],
      "metadata": {
        "id": "90qhpzYJpHLO",
        "colab": {
          "base_uri": "https://localhost:8080/"
        },
        "outputId": "5eb377cf-cbb3-46fb-9847-79917c983d23"
      },
      "execution_count": 5,
      "outputs": [
        {
          "output_type": "stream",
          "name": "stdout",
          "text": [
            "sample_data  test.json\n"
          ]
        }
      ]
    },
    {
      "cell_type": "code",
      "source": [
        "!cat test.json"
      ],
      "metadata": {
        "colab": {
          "base_uri": "https://localhost:8080/"
        },
        "id": "lJ45NHJlybc-",
        "outputId": "6fca2816-56a3-4395-b1cf-e2dd68127f2d"
      },
      "execution_count": 6,
      "outputs": [
        {
          "output_type": "stream",
          "name": "stdout",
          "text": [
            "{\"value1\": 5, \"value2\": 10, \"seq\": [1, 2, 3, 4, 5]}"
          ]
        }
      ]
    },
    {
      "cell_type": "markdown",
      "source": [
        "# Load the results from json file"
      ],
      "metadata": {
        "id": "DGmay_nQ1ZD5"
      }
    },
    {
      "cell_type": "code",
      "source": [
        "with open(filename, 'r') as f:\n",
        "    result = json.load(f)\n",
        "    print(result)"
      ],
      "metadata": {
        "colab": {
          "base_uri": "https://localhost:8080/"
        },
        "id": "Oehk1txeyiaK",
        "outputId": "c08b567e-9c42-4be7-e94d-d978277ba470"
      },
      "execution_count": 7,
      "outputs": [
        {
          "output_type": "stream",
          "name": "stdout",
          "text": [
            "{'value1': 5, 'value2': 10, 'seq': [1, 2, 3, 4, 5]}\n"
          ]
        }
      ]
    },
    {
      "cell_type": "markdown",
      "source": [
        "# How to name each result"
      ],
      "metadata": {
        "id": "Uv-AFrHS1gm1"
      }
    },
    {
      "cell_type": "code",
      "source": [
        "import hashlib\n",
        "c = 'I am Megatron'\n",
        "hash_key = hashlib.sha1(c.encode()).hexdigest()\n",
        "print(hash_key)\n",
        "\n",
        "hash_key = hashlib.sha1(c.encode()).hexdigest()[:6]\n",
        "print(hash_key)"
      ],
      "metadata": {
        "colab": {
          "base_uri": "https://localhost:8080/"
        },
        "id": "YrhS3QPIyiiH",
        "outputId": "d47f9d6f-fd3b-4e79-edda-b809e543e3dc"
      },
      "execution_count": 8,
      "outputs": [
        {
          "output_type": "stream",
          "name": "stdout",
          "text": [
            "641b7161ac684be90eda9f6f58234fbc8ac6e517\n",
            "641b71\n"
          ]
        }
      ]
    },
    {
      "cell_type": "code",
      "source": [
        "c = 'I am Megatron!'\n",
        "hash_key = hashlib.sha1(c.encode()).hexdigest()[:6]\n",
        "print(hash_key)"
      ],
      "metadata": {
        "colab": {
          "base_uri": "https://localhost:8080/"
        },
        "id": "BIfftnnPyink",
        "outputId": "6dd3dd84-fbec-45f5-e399-4fe779a15613"
      },
      "execution_count": 9,
      "outputs": [
        {
          "output_type": "stream",
          "name": "stdout",
          "text": [
            "5198d3\n"
          ]
        }
      ]
    },
    {
      "cell_type": "markdown",
      "source": [
        "## Same setting, same hash"
      ],
      "metadata": {
        "id": "4pLCTVZl2yi2"
      }
    },
    {
      "cell_type": "code",
      "source": [
        "setting = {'value1':5, 'value2':10, 'seq':[1,2,3,4,5]}\n",
        "hash_key = hashlib.sha1(str(setting).encode()).hexdigest()[:6]      # to change dict into str\n",
        "print(hash_key)"
      ],
      "metadata": {
        "colab": {
          "base_uri": "https://localhost:8080/"
        },
        "id": "3jeAAYTCyisy",
        "outputId": "df89ae09-5aff-4e51-fe54-c3de16f2b6e3"
      },
      "execution_count": 10,
      "outputs": [
        {
          "output_type": "stream",
          "name": "stdout",
          "text": [
            "c40aaa\n"
          ]
        }
      ]
    },
    {
      "cell_type": "code",
      "source": [
        "setting = {'value1':6, 'value2':10, 'seq':[1,2,3,4,5]}\n",
        "hash_key = hashlib.sha1(str(setting).encode()).hexdigest()[:6]\n",
        "print(hash_key)"
      ],
      "metadata": {
        "colab": {
          "base_uri": "https://localhost:8080/"
        },
        "id": "m-QM-dEb18H8",
        "outputId": "f09a356b-f41f-43d9-83e7-2f541c919b50"
      },
      "execution_count": 11,
      "outputs": [
        {
          "output_type": "stream",
          "name": "stdout",
          "text": [
            "10e2f9\n"
          ]
        }
      ]
    },
    {
      "cell_type": "code",
      "source": [
        "setting = {'value1':5, 'value2':10, 'seq':[1,2,3,4,5]}\n",
        "hash_key = hashlib.sha1(str(setting).encode()).hexdigest()[:6]\n",
        "print(hash_key)"
      ],
      "metadata": {
        "colab": {
          "base_uri": "https://localhost:8080/"
        },
        "id": "FgCVT4Y218N0",
        "outputId": "2eb36c84-ff3f-499a-9b7d-7500cb2d216f"
      },
      "execution_count": 12,
      "outputs": [
        {
          "output_type": "stream",
          "name": "stdout",
          "text": [
            "c40aaa\n"
          ]
        }
      ]
    },
    {
      "cell_type": "markdown",
      "source": [
        "## Name with hash"
      ],
      "metadata": {
        "id": "3QpO01sp3U41"
      }
    },
    {
      "cell_type": "code",
      "source": [
        "setting = {'value1':5, 'value2':10, 'seq':[1,2,3,4,5], 'exp_name':'exp1'}\n",
        "exp_name = setting['exp_name']\n",
        "hash_key = hashlib.sha1(str(setting).encode()).hexdigest()[:6]\n",
        "filename = '{}-{}.json'.format(exp_name, hash_key)\n",
        "print(filename)"
      ],
      "metadata": {
        "colab": {
          "base_uri": "https://localhost:8080/"
        },
        "id": "4og3wcgr18Rz",
        "outputId": "648ede34-74af-400d-f719-96fe49fcc205"
      },
      "execution_count": 13,
      "outputs": [
        {
          "output_type": "stream",
          "name": "stdout",
          "text": [
            "exp1-4766aa.json\n"
          ]
        }
      ]
    },
    {
      "cell_type": "code",
      "source": [
        "setting = {'value1':6, 'value2':10, 'seq':[1,2,3,4,5], 'exp_name':'exp1'}\n",
        "exp_name = setting['exp_name']\n",
        "hash_key = hashlib.sha1(str(setting).encode()).hexdigest()[:6]\n",
        "filename = '{}-{}.json'.format(exp_name, hash_key)\n",
        "print(filename)"
      ],
      "metadata": {
        "colab": {
          "base_uri": "https://localhost:8080/"
        },
        "id": "aft7Jh5w3Ks0",
        "outputId": "d93899d9-225f-48f9-8d0e-c5025fbff02f"
      },
      "execution_count": 14,
      "outputs": [
        {
          "output_type": "stream",
          "name": "stdout",
          "text": [
            "exp1-91fb1f.json\n"
          ]
        }
      ]
    }
  ]
}