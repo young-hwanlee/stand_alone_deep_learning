{
  "nbformat": 4,
  "nbformat_minor": 0,
  "metadata": {
    "colab": {
      "name": "#15_How_to_Write_Well-Organized_DL_Code_from_Scratch.ipynb",
      "provenance": [],
      "authorship_tag": "ABX9TyMLSYlY0Azn32tYs7oGkQyl",
      "include_colab_link": true
    },
    "kernelspec": {
      "name": "python3",
      "display_name": "Python 3"
    },
    "language_info": {
      "name": "python"
    },
    "accelerator": "GPU",
    "gpuClass": "standard"
  },
  "cells": [
    {
      "cell_type": "markdown",
      "metadata": {
        "id": "view-in-github",
        "colab_type": "text"
      },
      "source": [
        "<a href=\"https://colab.research.google.com/github/young-hwanlee/stand_alone_deep_learning/blob/main/%2315_How_to_Write_Well_Organized_DL_Code_from_Scratch.ipynb\" target=\"_parent\"><img src=\"https://colab.research.google.com/assets/colab-badge.svg\" alt=\"Open In Colab\"/></a>"
      ]
    },
    {
      "cell_type": "markdown",
      "source": [
        "Refer to : https://pytorch.org/tutorials/beginner/blitz/cifar10_tutorial.html"
      ],
      "metadata": {
        "id": "jmxcGNlbXr3Z"
      }
    },
    {
      "cell_type": "code",
      "source": [
        "# !pip install -q torch==1.0.0 torchvision\n",
        "import torch\n",
        "print(torch.__version__)"
      ],
      "metadata": {
        "colab": {
          "base_uri": "https://localhost:8080/"
        },
        "id": "Z9tD5HYnEKyT",
        "outputId": "c772f62b-841f-45c9-d58d-1ee3bf5ce9f8"
      },
      "execution_count": 1,
      "outputs": [
        {
          "output_type": "stream",
          "name": "stdout",
          "text": [
            "1.12.0+cu113\n"
          ]
        }
      ]
    },
    {
      "cell_type": "code",
      "execution_count": 2,
      "metadata": {
        "id": "laySo3smepkd"
      },
      "outputs": [],
      "source": [
        "import torch\n",
        "import torchvision\n",
        "import torchvision.transforms as transforms"
      ]
    },
    {
      "cell_type": "code",
      "source": [
        "# to make the image files into the PyTorch tensor\n",
        "transform = transforms.Compose(\n",
        "    [transforms.ToTensor(),                                                   # RGB : [0~255] -> [0~1]\n",
        "     transforms.Normalize((0.5, 0.5, 0.5), (0.5, 0.5, 0.5))])   # RGB : [0~1] -> [-0.5~0.5], and then divide by std = 0.5\n",
        "batch_size = 4\n",
        "\n",
        "trainset = torchvision.datasets.CIFAR10(root='./data', train=True,\n",
        "                                        download=True, transform=transform)\n",
        "# -----------------------------------------------------------------------------------------------------------------------------------\n",
        "trainset, valset = torch.utils.data.random_split(trainset, [40000, 10000])\n",
        "# -----------------------------------------------------------------------------------------------------------------------------------\n",
        "testset = torchvision.datasets.CIFAR10(root='./data', train=False,\n",
        "                                       download=True, transform=transform)\n",
        "\n",
        "trainloader = torch.utils.data.DataLoader(trainset, batch_size=batch_size,\n",
        "                                          shuffle=True, num_workers=2)\n",
        "# -----------------------------------------------------------------------------------------------------------------------------------\n",
        "valloader = torch.utils.data.DataLoader(valset, batch_size=batch_size, shuffle=False)\n",
        "# -----------------------------------------------------------------------------------------------------------------------------------\n",
        "testloader = torch.utils.data.DataLoader(testset, batch_size=batch_size,\n",
        "                                         shuffle=False, num_workers=2)\n",
        "\n",
        "classes = ('plane', 'car', 'bird', 'cat',\n",
        "           'deer', 'dog', 'frog', 'horse', 'ship', 'truck')"
      ],
      "metadata": {
        "colab": {
          "base_uri": "https://localhost:8080/"
        },
        "id": "17JLtum4D7uE",
        "outputId": "b80cac92-2844-475d-87e9-c97e9b882b0f"
      },
      "execution_count": 3,
      "outputs": [
        {
          "output_type": "stream",
          "name": "stdout",
          "text": [
            "Files already downloaded and verified\n",
            "Files already downloaded and verified\n"
          ]
        }
      ]
    },
    {
      "cell_type": "code",
      "source": [
        "import numpy as np\n",
        "print(np.min(testset.data), np.max(testset.data))"
      ],
      "metadata": {
        "id": "qKkJYYPqD74U",
        "colab": {
          "base_uri": "https://localhost:8080/"
        },
        "outputId": "58a46df8-cda0-4bd2-d3ad-af0e6d87a16b"
      },
      "execution_count": 4,
      "outputs": [
        {
          "output_type": "stream",
          "name": "stdout",
          "text": [
            "0 255\n"
          ]
        }
      ]
    },
    {
      "cell_type": "code",
      "source": [
        "import matplotlib.pyplot as plt\n",
        "import numpy as np\n",
        "\n",
        "# functions to show an image\n",
        "def imshow(img):\n",
        "    img = img / 2 + 0.5     # unnormalize\n",
        "    npimg = img.numpy()\n",
        "    plt.imshow(np.transpose(npimg, (1, 2, 0)))\n",
        "    plt.show()\n",
        "\n",
        "# get some random training images\n",
        "dataiter = iter(trainloader)\n",
        "images, labels = dataiter.next()\n",
        "\n",
        "# show images\n",
        "imshow(torchvision.utils.make_grid(images))\n",
        "\n",
        "# print labels\n",
        "print(' '.join('%5s' % classes[labels[j]] for j in range(batch_size)))\n",
        "# print(' '.join(f'{classes[labels[j]]:5s}' for j in range(batch_size)))"
      ],
      "metadata": {
        "id": "CvGBY3WhD7_i",
        "colab": {
          "base_uri": "https://localhost:8080/",
          "height": 155
        },
        "outputId": "4bf5b605-6b16-453a-d171-bfbc04208e2f"
      },
      "execution_count": 5,
      "outputs": [
        {
          "output_type": "display_data",
          "data": {
            "text/plain": [
              "<Figure size 432x288 with 1 Axes>"
            ],
            "image/png": "[encoded data removed]"
          },
          "metadata": {
            "needs_background": "light"
          }
        },
        {
          "output_type": "stream",
          "name": "stdout",
          "text": [
            "plane   car  frog truck\n"
          ]
        }
      ]
    },
    {
      "cell_type": "code",
      "source": [
        "print(type(images))\n",
        "print(images.shape)     # [batch_size = 4, no. of channel (RGB) = 3, image size = 32 X 32]\n",
        "\n",
        "print(labels)                  # classes = ('plane', 'car', 'bird', 'cat', 'deer', 'dog', 'frog', 'horse', 'ship', 'truck')\n",
        "print(type(labels))\n",
        "print(labels.shape)"
      ],
      "metadata": {
        "id": "ywowZGCrD8Ev",
        "colab": {
          "base_uri": "https://localhost:8080/"
        },
        "outputId": "ff11bf03-3e2e-49ad-8140-cdb3575ef3d4"
      },
      "execution_count": 6,
      "outputs": [
        {
          "output_type": "stream",
          "name": "stdout",
          "text": [
            "<class 'torch.Tensor'>\n",
            "torch.Size([4, 3, 32, 32])\n",
            "tensor([0, 1, 6, 9])\n",
            "<class 'torch.Tensor'>\n",
            "torch.Size([4])\n"
          ]
        }
      ]
    },
    {
      "cell_type": "code",
      "source": [
        "import torch.nn as nn\n",
        "import torch.nn.functional as F\n",
        "\n",
        "# -----------------------------------------------------------------------------------------------------------------------------------\n",
        "class MLP(nn.Module):\n",
        "    def __init__(self, in_dim, out_dim, hid_dim, n_layer, act):\n",
        "        super(MLP, self).__init__()\n",
        "        \n",
        "        self.in_dim = in_dim\n",
        "        self.out_dim = out_dim\n",
        "        self.hid_dim = hid_dim\n",
        "        self.n_layer = n_layer\n",
        "        self.act = act\n",
        "\n",
        "        self.fc = nn.Linear(self.in_dim, self.hid_dim)\n",
        "        self.linears = nn.ModuleList()\n",
        "        \n",
        "        for i in range(self.n_layer - 1):\n",
        "            self.linears.append(nn.Linear(self.hid_dim, self.hid_dim))\n",
        "        self.fc2 = nn.Linear(self.hid_dim, self.out_dim)\n",
        "\n",
        "        if self.act == 'relu':\n",
        "            self.act = nn.ReLU()\n",
        "\n",
        "    def forward(self, x):\n",
        "        x = self.act(self.fc(x))\n",
        "        for fc in self.linears:\n",
        "            x = self.act(fc(x))\n",
        "        x = self.fc2(x)\n",
        "\n",
        "        return x\n",
        "# -----------------------------------------------------------------------------------------------------------------------------------"
      ],
      "metadata": {
        "id": "HezXzogiD8Ke"
      },
      "execution_count": 7,
      "outputs": []
    },
    {
      "cell_type": "code",
      "source": [
        "net = MLP(in_dim=3072, out_dim=10, hid_dim=100, n_layer=4, act='relu')\n",
        "print(net)"
      ],
      "metadata": {
        "colab": {
          "base_uri": "https://localhost:8080/"
        },
        "id": "wRXxfJcxHb7k",
        "outputId": "ee78ade5-7b89-414c-bad3-c85e40a7b2b0"
      },
      "execution_count": 8,
      "outputs": [
        {
          "output_type": "stream",
          "name": "stdout",
          "text": [
            "MLP(\n",
            "  (fc): Linear(in_features=3072, out_features=100, bias=True)\n",
            "  (linears): ModuleList(\n",
            "    (0): Linear(in_features=100, out_features=100, bias=True)\n",
            "    (1): Linear(in_features=100, out_features=100, bias=True)\n",
            "    (2): Linear(in_features=100, out_features=100, bias=True)\n",
            "  )\n",
            "  (fc2): Linear(in_features=100, out_features=10, bias=True)\n",
            "  (act): ReLU()\n",
            ")\n"
          ]
        }
      ]
    },
    {
      "cell_type": "code",
      "source": [
        "import torch.optim as optim\n",
        "\n",
        "# criterion = nn.CrossEntropyLoss()\n",
        "# optimizer = optim.SGD(net.parameters(), lr=0.001, momentum=0.9)\n",
        "\n",
        "# print(criterion)\n",
        "# print(optimizer)"
      ],
      "metadata": {
        "id": "hBywRwmIHcDj"
      },
      "execution_count": 9,
      "outputs": []
    },
    {
      "cell_type": "code",
      "source": [
        "# # ===== Train ===== #\n",
        "\n",
        "# for epoch in range(2):  # loop over the dataset multiple times\n",
        "\n",
        "#     running_loss = 0.0\n",
        "#     for i, data in enumerate(trainloader, 0):\n",
        "#         # get the inputs; data is a list of [inputs, labels]\n",
        "#         inputs, labels = data\n",
        "#         # ----------------------------------------------------------------------------------------------------------------------------\n",
        "#         inputs = inputs.view(-1, 3072)\n",
        "#         # ----------------------------------------------------------------------------------------------------------------------------\n",
        "\n",
        "#         # zero the parameter gradients\n",
        "#         optimizer.zero_grad()\n",
        "\n",
        "#         # forward + backward + optimize\n",
        "#         outputs = net(inputs)\n",
        "#         loss = criterion(outputs, labels)\n",
        "#         loss.backward()\n",
        "#         optimizer.step()\n",
        "\n",
        "#         # print statistics\n",
        "#         running_loss += loss.item()\n",
        "#         if i % 2000 == 1999:    # print every 2000 mini-batches\n",
        "#             print(f'[{epoch + 1}, {i + 1:5d}] loss: {running_loss / 2000:.3f}')\n",
        "#             running_loss = 0.0\n",
        "\n",
        "# print('Finished Training')"
      ],
      "metadata": {
        "id": "dMBfhWPXHcK_"
      },
      "execution_count": 10,
      "outputs": []
    },
    {
      "cell_type": "code",
      "source": [
        "# dataiter = iter(testloader)\n",
        "# images, labels = dataiter.next()\n",
        "\n",
        "# # print images\n",
        "# imshow(torchvision.utils.make_grid(images))\n",
        "# print('GroundTruth: ', ' '.join(f'{classes[labels[j]]:5s}' for j in range(4)))"
      ],
      "metadata": {
        "id": "L76qAcGlTYB6"
      },
      "execution_count": 11,
      "outputs": []
    },
    {
      "cell_type": "code",
      "source": [
        "# # -----------------------------------------------------------------------------------------------------------------------------------\n",
        "# # ===== Validation ===== #\n",
        "\n",
        "# correct = 0\n",
        "# total = 0\n",
        "# val_loss = 0\n",
        "\n",
        "# # since we're not training, we don't need to calculate the gradients for our outputs\n",
        "# with torch.no_grad():\n",
        "#     for data in valloader:\n",
        "#         images, labels = data\n",
        "#         images = images.view(-1, 3072)\n",
        "\n",
        "#         # calculate outputs by running images through the network\n",
        "#         outputs = net(images)\n",
        "#         loss = criterion(outputs, labels)\n",
        "#         val_loss += loss.item()\n",
        "\n",
        "#         # the class with the highest energy is what we choose as prediction\n",
        "#         _, predicted = torch.max(outputs.data, 1)\n",
        "#         total += labels.size(0)\n",
        "#         correct += (predicted == labels).sum().item()\n",
        "\n",
        "#     val_loss = val_loss / len(valloader)\n",
        "#     # print(f'Validation loss: {val_loss}')\n",
        "#     # print('Validation loss: {}'.format(val_loss))\n",
        "\n",
        "# # print(f'Accuracy of the network on the 10000 test images: {100 * correct // total} %')\n",
        "\n",
        "# acc = 100 * correct // total\n",
        "# print('Accuracy of the network on the 10000 test images: {:2.2f} %'.format(acc))\n",
        "# print('Validation loss: {:2.2f}'.format(val_loss))\n",
        "# # -----------------------------------------------------------------------------------------------------------------------------------"
      ],
      "metadata": {
        "id": "YVZEFazuZWRJ"
      },
      "execution_count": 12,
      "outputs": []
    },
    {
      "cell_type": "code",
      "source": [
        "# # ===== Test ===== #\n",
        "\n",
        "# correct = 0\n",
        "# total = 0\n",
        "\n",
        "# # since we're not training, we don't need to calculate the gradients for our outputs\n",
        "# with torch.no_grad():\n",
        "#     for data in testloader:\n",
        "#         images, labels = data\n",
        "#         # ----------------------------------------------------------------------------------------------------------------------------\n",
        "#         images = images.view(-1, 3072)\n",
        "#         # ----------------------------------------------------------------------------------------------------------------------------\n",
        "\n",
        "#         # calculate outputs by running images through the network\n",
        "#         outputs = net(images)\n",
        "\n",
        "#         # the class with the highest energy is what we choose as prediction\n",
        "#         _, predicted = torch.max(outputs.data, 1)\n",
        "#         total += labels.size(0)\n",
        "#         correct += (predicted == labels).sum().item()\n",
        "\n",
        "# print(f'Accuracy of the network on the 10000 test images: {100 * correct // total} %')"
      ],
      "metadata": {
        "id": "T1_cqYr8TYIp"
      },
      "execution_count": 13,
      "outputs": []
    },
    {
      "cell_type": "code",
      "source": [
        "# -----------------------------------------------------------------------------------------------------------------------------------\n",
        "# ===== Experiment ===== #\n",
        "\n",
        "def experiment(args):\n",
        "    net = MLP(args.in_dim, args.out_dim, args.hid_dim, args.n_layer, args.act)\n",
        "    net.cuda()\n",
        "    print(net)\n",
        "\n",
        "    criterion = nn.CrossEntropyLoss()\n",
        "    optimizer = optim.SGD(net.parameters(), lr=args.lr, momentum=args.momentum)\n",
        "\n",
        "    # ===== Train ===== #\n",
        "    for epoch in range(args.epoch):      # loop over the dataset multiple times\n",
        "        train_loss = 0.0\n",
        "        running_loss = 0.0\n",
        "\n",
        "        for i, data in enumerate(trainloader, 0):\n",
        "            # get the inputs\n",
        "            inputs, labels = data\n",
        "            inputs = inputs.view(-1, 3072)\n",
        "            inputs = inputs.cuda()\n",
        "            labels = labels.cuda()\n",
        "\n",
        "            # zero the parameter gradients\n",
        "            optimizer.zero_grad()\n",
        "\n",
        "            # forward + backward + optimize\n",
        "            outputs = net(inputs)\n",
        "            loss = criterion(outputs, labels)\n",
        "            loss.backward()\n",
        "            optimizer.step()\n",
        "\n",
        "            # print statistics\n",
        "            train_loss += loss.item()\n",
        "            \n",
        "            running_loss += loss.item()\n",
        "            if i % 2000 == 1999:        # print every 2000 mini-batches\n",
        "                print('[{}, {:5d}] Loss: {:.3f}'.format(epoch + 1, i + 1, running_loss / 2000))\n",
        "                running_loss = 0.0\n",
        "        \n",
        "        # ===== Validation ===== #\n",
        "        correct = 0\n",
        "        total = 0\n",
        "        val_loss = 0\n",
        "        with torch.no_grad():\n",
        "            for data in valloader:\n",
        "                images, labels = data\n",
        "                images = images.view(-1, 3072)\n",
        "                images = images.cuda()\n",
        "                labels = labels.cuda()\n",
        "\n",
        "                outputs = net(images)\n",
        "\n",
        "                loss = criterion(outputs, labels)\n",
        "                val_loss += loss.item()\n",
        "\n",
        "                _, predicted = torch.max(outputs.data, 1)\n",
        "                total += labels.size(0)\n",
        "                correct += (predicted == labels).sum().item()\n",
        "\n",
        "            val_loss = val_loss / len(valloader)\n",
        "            val_acc = 100 * correct / total\n",
        "\n",
        "        print('Epoch: {}, Train Loss: {:2.2f}, Validation Loss: {:2.2f}, Validation Accuracy: {:2.2f}'.format(epoch, train_loss, val_loss, val_acc))\n",
        "\n",
        "    # ===== Test ===== #\n",
        "    correct = 0\n",
        "    total = 0\n",
        "    with torch.no_grad():\n",
        "        for data in testloader:\n",
        "            images, labels = data\n",
        "            images = images.view(-1, 3072)\n",
        "            images = images.cuda()\n",
        "            labels = labels.cuda()\n",
        "\n",
        "            outputs = net(images)\n",
        "            _, predicted = torch.max(outputs.data, 1)\n",
        "            total += labels.size(0)\n",
        "            correct += (predicted == labels).sum().item()\n",
        "        \n",
        "        test_acc = 100 * correct / total\n",
        "# -----------------------------------------------------------------------------------------------------------------------------------"
      ],
      "metadata": {
        "id": "oEpUbI0oTYpp"
      },
      "execution_count": 14,
      "outputs": []
    },
    {
      "cell_type": "code",
      "source": [
        "# -----------------------------------------------------------------------------------------------------------------------------------\n",
        "import argparse\n",
        "\n",
        "seed = 123\n",
        "np.random.seed(seed)\n",
        "torch.manual_seed(seed)\n",
        "\n",
        "parser = argparse.ArgumentParser()\n",
        "args = parser.parse_args(\"\")\n",
        "print(args)\n",
        "\n",
        "args.n_layer = 5\n",
        "args.in_dim = 3072\n",
        "args.out_dim = 10\n",
        "args.hid_dim = 100\n",
        "args.act = 'relu'\n",
        "\n",
        "args.lr = 0.001\n",
        "args.momentum = 0.9\n",
        "\n",
        "args.epoch = 2\n",
        "\n",
        "list_var1 = [4, 5, 6]\n",
        "list_var2 = [50, 100, 150]\n",
        "\n",
        "for var1 in list_var1:\n",
        "    for var2 in list_var2:\n",
        "        args.n_layer = var1\n",
        "        args.hid_dim = var2\n",
        "        result = experiment(args)\n",
        "        print(result)\n",
        "# -----------------------------------------------------------------------------------------------------------------------------------"
      ],
      "metadata": {
        "colab": {
          "base_uri": "https://localhost:8080/"
        },
        "id": "JCA5Lu7STYOK",
        "outputId": "1971056e-7d16-4221-e376-31d429cdff15"
      },
      "execution_count": 15,
      "outputs": [
        {
          "output_type": "stream",
          "name": "stdout",
          "text": [
            "Namespace()\n",
            "MLP(\n",
            "  (fc): Linear(in_features=3072, out_features=50, bias=True)\n",
            "  (linears): ModuleList(\n",
            "    (0): Linear(in_features=50, out_features=50, bias=True)\n",
            "    (1): Linear(in_features=50, out_features=50, bias=True)\n",
            "    (2): Linear(in_features=50, out_features=50, bias=True)\n",
            "  )\n",
            "  (fc2): Linear(in_features=50, out_features=10, bias=True)\n",
            "  (act): ReLU()\n",
            ")\n",
            "[1,  2000] Loss: 2.190\n",
            "[1,  4000] Loss: 1.872\n",
            "[1,  6000] Loss: 1.782\n",
            "[1,  8000] Loss: 1.724\n",
            "[1, 10000] Loss: 1.673\n",
            "Epoch: 0, Train Loss: 18478.62, Validation Loss: 1.70, Validation Accuracy: 38.76\n",
            "[2,  2000] Loss: 1.624\n",
            "[2,  4000] Loss: 1.594\n",
            "[2,  6000] Loss: 1.592\n",
            "[2,  8000] Loss: 1.571\n",
            "[2, 10000] Loss: 1.548\n",
            "Epoch: 1, Train Loss: 15857.39, Validation Loss: 1.55, Validation Accuracy: 44.72\n",
            "None\n",
            "MLP(\n",
            "  (fc): Linear(in_features=3072, out_features=100, bias=True)\n",
            "  (linears): ModuleList(\n",
            "    (0): Linear(in_features=100, out_features=100, bias=True)\n",
            "    (1): Linear(in_features=100, out_features=100, bias=True)\n",
            "    (2): Linear(in_features=100, out_features=100, bias=True)\n",
            "  )\n",
            "  (fc2): Linear(in_features=100, out_features=10, bias=True)\n",
            "  (act): ReLU()\n",
            ")\n",
            "[1,  2000] Loss: 2.215\n",
            "[1,  4000] Loss: 1.931\n",
            "[1,  6000] Loss: 1.768\n",
            "[1,  8000] Loss: 1.720\n",
            "[1, 10000] Loss: 1.669\n",
            "Epoch: 0, Train Loss: 18605.04, Validation Loss: 1.67, Validation Accuracy: 40.53\n",
            "[2,  2000] Loss: 1.619\n",
            "[2,  4000] Loss: 1.582\n",
            "[2,  6000] Loss: 1.571\n",
            "[2,  8000] Loss: 1.529\n",
            "[2, 10000] Loss: 1.531\n",
            "Epoch: 1, Train Loss: 15664.10, Validation Loss: 1.56, Validation Accuracy: 45.27\n",
            "None\n",
            "MLP(\n",
            "  (fc): Linear(in_features=3072, out_features=150, bias=True)\n",
            "  (linears): ModuleList(\n",
            "    (0): Linear(in_features=150, out_features=150, bias=True)\n",
            "    (1): Linear(in_features=150, out_features=150, bias=True)\n",
            "    (2): Linear(in_features=150, out_features=150, bias=True)\n",
            "  )\n",
            "  (fc2): Linear(in_features=150, out_features=10, bias=True)\n",
            "  (act): ReLU()\n",
            ")\n",
            "[1,  2000] Loss: 2.192\n",
            "[1,  4000] Loss: 1.901\n",
            "[1,  6000] Loss: 1.768\n",
            "[1,  8000] Loss: 1.693\n",
            "[1, 10000] Loss: 1.642\n",
            "Epoch: 0, Train Loss: 18394.00, Validation Loss: 1.61, Validation Accuracy: 42.79\n",
            "[2,  2000] Loss: 1.592\n",
            "[2,  4000] Loss: 1.564\n",
            "[2,  6000] Loss: 1.541\n",
            "[2,  8000] Loss: 1.519\n",
            "[2, 10000] Loss: 1.497\n",
            "Epoch: 1, Train Loss: 15428.34, Validation Loss: 1.50, Validation Accuracy: 46.48\n",
            "None\n",
            "MLP(\n",
            "  (fc): Linear(in_features=3072, out_features=50, bias=True)\n",
            "  (linears): ModuleList(\n",
            "    (0): Linear(in_features=50, out_features=50, bias=True)\n",
            "    (1): Linear(in_features=50, out_features=50, bias=True)\n",
            "    (2): Linear(in_features=50, out_features=50, bias=True)\n",
            "    (3): Linear(in_features=50, out_features=50, bias=True)\n",
            "  )\n",
            "  (fc2): Linear(in_features=50, out_features=10, bias=True)\n",
            "  (act): ReLU()\n",
            ")\n",
            "[1,  2000] Loss: 2.286\n",
            "[1,  4000] Loss: 2.055\n",
            "[1,  6000] Loss: 1.913\n",
            "[1,  8000] Loss: 1.845\n",
            "[1, 10000] Loss: 1.774\n",
            "Epoch: 0, Train Loss: 19745.69, Validation Loss: 1.71, Validation Accuracy: 38.64\n",
            "[2,  2000] Loss: 1.694\n",
            "[2,  4000] Loss: 1.682\n",
            "[2,  6000] Loss: 1.634\n",
            "[2,  8000] Loss: 1.618\n",
            "[2, 10000] Loss: 1.605\n",
            "Epoch: 1, Train Loss: 16466.41, Validation Loss: 1.57, Validation Accuracy: 42.80\n",
            "None\n",
            "MLP(\n",
            "  (fc): Linear(in_features=3072, out_features=100, bias=True)\n",
            "  (linears): ModuleList(\n",
            "    (0): Linear(in_features=100, out_features=100, bias=True)\n",
            "    (1): Linear(in_features=100, out_features=100, bias=True)\n",
            "    (2): Linear(in_features=100, out_features=100, bias=True)\n",
            "    (3): Linear(in_features=100, out_features=100, bias=True)\n",
            "  )\n",
            "  (fc2): Linear(in_features=100, out_features=10, bias=True)\n",
            "  (act): ReLU()\n",
            ")\n",
            "[1,  2000] Loss: 2.298\n",
            "[1,  4000] Loss: 2.077\n",
            "[1,  6000] Loss: 1.912\n",
            "[1,  8000] Loss: 1.834\n",
            "[1, 10000] Loss: 1.745\n",
            "Epoch: 0, Train Loss: 19731.04, Validation Loss: 1.73, Validation Accuracy: 35.94\n",
            "[2,  2000] Loss: 1.670\n",
            "[2,  4000] Loss: 1.641\n",
            "[2,  6000] Loss: 1.617\n",
            "[2,  8000] Loss: 1.596\n",
            "[2, 10000] Loss: 1.557\n",
            "Epoch: 1, Train Loss: 16163.94, Validation Loss: 1.54, Validation Accuracy: 44.85\n",
            "None\n",
            "MLP(\n",
            "  (fc): Linear(in_features=3072, out_features=150, bias=True)\n",
            "  (linears): ModuleList(\n",
            "    (0): Linear(in_features=150, out_features=150, bias=True)\n",
            "    (1): Linear(in_features=150, out_features=150, bias=True)\n",
            "    (2): Linear(in_features=150, out_features=150, bias=True)\n",
            "    (3): Linear(in_features=150, out_features=150, bias=True)\n",
            "  )\n",
            "  (fc2): Linear(in_features=150, out_features=10, bias=True)\n",
            "  (act): ReLU()\n",
            ")\n",
            "[1,  2000] Loss: 2.291\n",
            "[1,  4000] Loss: 2.060\n",
            "[1,  6000] Loss: 1.917\n",
            "[1,  8000] Loss: 1.823\n",
            "[1, 10000] Loss: 1.727\n",
            "Epoch: 0, Train Loss: 19636.17, Validation Loss: 1.68, Validation Accuracy: 38.66\n",
            "[2,  2000] Loss: 1.664\n",
            "[2,  4000] Loss: 1.615\n",
            "[2,  6000] Loss: 1.608\n",
            "[2,  8000] Loss: 1.567\n",
            "[2, 10000] Loss: 1.559\n",
            "Epoch: 1, Train Loss: 16024.75, Validation Loss: 1.55, Validation Accuracy: 44.99\n",
            "None\n",
            "MLP(\n",
            "  (fc): Linear(in_features=3072, out_features=50, bias=True)\n",
            "  (linears): ModuleList(\n",
            "    (0): Linear(in_features=50, out_features=50, bias=True)\n",
            "    (1): Linear(in_features=50, out_features=50, bias=True)\n",
            "    (2): Linear(in_features=50, out_features=50, bias=True)\n",
            "    (3): Linear(in_features=50, out_features=50, bias=True)\n",
            "    (4): Linear(in_features=50, out_features=50, bias=True)\n",
            "  )\n",
            "  (fc2): Linear(in_features=50, out_features=10, bias=True)\n",
            "  (act): ReLU()\n",
            ")\n",
            "[1,  2000] Loss: 2.303\n",
            "[1,  4000] Loss: 2.289\n",
            "[1,  6000] Loss: 2.101\n",
            "[1,  8000] Loss: 1.992\n",
            "[1, 10000] Loss: 1.887\n",
            "Epoch: 0, Train Loss: 21143.92, Validation Loss: 1.87, Validation Accuracy: 29.37\n",
            "[2,  2000] Loss: 1.848\n",
            "[2,  4000] Loss: 1.798\n",
            "[2,  6000] Loss: 1.777\n",
            "[2,  8000] Loss: 1.746\n",
            "[2, 10000] Loss: 1.714\n",
            "Epoch: 1, Train Loss: 17764.57, Validation Loss: 1.70, Validation Accuracy: 38.49\n",
            "None\n",
            "MLP(\n",
            "  (fc): Linear(in_features=3072, out_features=100, bias=True)\n",
            "  (linears): ModuleList(\n",
            "    (0): Linear(in_features=100, out_features=100, bias=True)\n",
            "    (1): Linear(in_features=100, out_features=100, bias=True)\n",
            "    (2): Linear(in_features=100, out_features=100, bias=True)\n",
            "    (3): Linear(in_features=100, out_features=100, bias=True)\n",
            "    (4): Linear(in_features=100, out_features=100, bias=True)\n",
            "  )\n",
            "  (fc2): Linear(in_features=100, out_features=10, bias=True)\n",
            "  (act): ReLU()\n",
            ")\n",
            "[1,  2000] Loss: 2.304\n",
            "[1,  4000] Loss: 2.300\n",
            "[1,  6000] Loss: 2.203\n",
            "[1,  8000] Loss: 2.016\n",
            "[1, 10000] Loss: 1.906\n",
            "Epoch: 0, Train Loss: 21457.94, Validation Loss: 1.88, Validation Accuracy: 27.95\n",
            "[2,  2000] Loss: 1.851\n",
            "[2,  4000] Loss: 1.771\n",
            "[2,  6000] Loss: 1.729\n",
            "[2,  8000] Loss: 1.670\n",
            "[2, 10000] Loss: 1.640\n",
            "Epoch: 1, Train Loss: 17323.72, Validation Loss: 1.66, Validation Accuracy: 39.61\n",
            "None\n",
            "MLP(\n",
            "  (fc): Linear(in_features=3072, out_features=150, bias=True)\n",
            "  (linears): ModuleList(\n",
            "    (0): Linear(in_features=150, out_features=150, bias=True)\n",
            "    (1): Linear(in_features=150, out_features=150, bias=True)\n",
            "    (2): Linear(in_features=150, out_features=150, bias=True)\n",
            "    (3): Linear(in_features=150, out_features=150, bias=True)\n",
            "    (4): Linear(in_features=150, out_features=150, bias=True)\n",
            "  )\n",
            "  (fc2): Linear(in_features=150, out_features=10, bias=True)\n",
            "  (act): ReLU()\n",
            ")\n",
            "[1,  2000] Loss: 2.303\n",
            "[1,  4000] Loss: 2.286\n",
            "[1,  6000] Loss: 2.080\n",
            "[1,  8000] Loss: 1.990\n",
            "[1, 10000] Loss: 1.900\n",
            "Epoch: 0, Train Loss: 21121.41, Validation Loss: 1.86, Validation Accuracy: 27.77\n",
            "[2,  2000] Loss: 1.840\n",
            "[2,  4000] Loss: 1.782\n",
            "[2,  6000] Loss: 1.713\n",
            "[2,  8000] Loss: 1.669\n",
            "[2, 10000] Loss: 1.619\n",
            "Epoch: 1, Train Loss: 17246.58, Validation Loss: 1.60, Validation Accuracy: 42.09\n",
            "None\n"
          ]
        }
      ]
    }
  ]
}