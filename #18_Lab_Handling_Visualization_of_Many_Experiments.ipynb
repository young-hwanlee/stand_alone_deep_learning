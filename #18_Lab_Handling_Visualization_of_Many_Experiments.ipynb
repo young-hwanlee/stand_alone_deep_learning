{
  "nbformat": 4,
  "nbformat_minor": 0,
  "metadata": {
    "colab": {
      "name": "#18_Lab_Handling_Visualization_of_Many_Experiments",
      "provenance": [],
      "authorship_tag": "ABX9TyMeZ6gL3KMxlUKDt4GcydT8",
      "include_colab_link": true
    },
    "kernelspec": {
      "name": "python3",
      "display_name": "Python 3"
    },
    "language_info": {
      "name": "python"
    },
    "accelerator": "GPU",
    "gpuClass": "standard",
    "widgets": {
      "application/vnd.jupyter.widget-state+json": {
        "fbc37b9b7c9a4e7b94b8c0f499db436d": {
          "model_module": "@jupyter-widgets/controls",
          "model_name": "HBoxModel",
          "model_module_version": "1.5.0",
          "state": {
            "_dom_classes": [],
            "_model_module": "@jupyter-widgets/controls",
            "_model_module_version": "1.5.0",
            "_model_name": "HBoxModel",
            "_view_count": null,
            "_view_module": "@jupyter-widgets/controls",
            "_view_module_version": "1.5.0",
            "_view_name": "HBoxView",
            "box_style": "",
            "children": [
              "IPY_MODEL_3fe7b5e5992048e9884c629e12887479",
              "IPY_MODEL_e6e02d8367554cad9f0bf06684525809",
              "IPY_MODEL_2b017d55ef384fc797ada33f7df87e32"
            ],
            "layout": "IPY_MODEL_902e6d0025884677bdb9b949bc521774"
          }
        },
        "3fe7b5e5992048e9884c629e12887479": {
          "model_module": "@jupyter-widgets/controls",
          "model_name": "HTMLModel",
          "model_module_version": "1.5.0",
          "state": {
            "_dom_classes": [],
            "_model_module": "@jupyter-widgets/controls",
            "_model_module_version": "1.5.0",
            "_model_name": "HTMLModel",
            "_view_count": null,
            "_view_module": "@jupyter-widgets/controls",
            "_view_module_version": "1.5.0",
            "_view_name": "HTMLView",
            "description": "",
            "description_tooltip": null,
            "layout": "IPY_MODEL_2d2f8e7bbfcc4e43838b6b8390c93210",
            "placeholder": "​",
            "style": "IPY_MODEL_102272480f9042749e2c98dfd3c2b639",
            "value": "100%"
          }
        },
        "e6e02d8367554cad9f0bf06684525809": {
          "model_module": "@jupyter-widgets/controls",
          "model_name": "FloatProgressModel",
          "model_module_version": "1.5.0",
          "state": {
            "_dom_classes": [],
            "_model_module": "@jupyter-widgets/controls",
            "_model_module_version": "1.5.0",
            "_model_name": "FloatProgressModel",
            "_view_count": null,
            "_view_module": "@jupyter-widgets/controls",
            "_view_module_version": "1.5.0",
            "_view_name": "ProgressView",
            "bar_style": "success",
            "description": "",
            "description_tooltip": null,
            "layout": "IPY_MODEL_4aec4aa689084cc99eb016ab03ab1abe",
            "max": 170498071,
            "min": 0,
            "orientation": "horizontal",
            "style": "IPY_MODEL_98cf5d6e49d64e58a911a70efd253937",
            "value": 170498071
          }
        },
        "2b017d55ef384fc797ada33f7df87e32": {
          "model_module": "@jupyter-widgets/controls",
          "model_name": "HTMLModel",
          "model_module_version": "1.5.0",
          "state": {
            "_dom_classes": [],
            "_model_module": "@jupyter-widgets/controls",
            "_model_module_version": "1.5.0",
            "_model_name": "HTMLModel",
            "_view_count": null,
            "_view_module": "@jupyter-widgets/controls",
            "_view_module_version": "1.5.0",
            "_view_name": "HTMLView",
            "description": "",
            "description_tooltip": null,
            "layout": "IPY_MODEL_7d2506b1aeff442898379dce7656bcb0",
            "placeholder": "​",
            "style": "IPY_MODEL_55f741600a764cd99137827b932042d6",
            "value": " 170498071/170498071 [00:02&lt;00:00, 82046307.60it/s]"
          }
        },
        "902e6d0025884677bdb9b949bc521774": {
          "model_module": "@jupyter-widgets/base",
          "model_name": "LayoutModel",
          "model_module_version": "1.2.0",
          "state": {
            "_model_module": "@jupyter-widgets/base",
            "_model_module_version": "1.2.0",
            "_model_name": "LayoutModel",
            "_view_count": null,
            "_view_module": "@jupyter-widgets/base",
            "_view_module_version": "1.2.0",
            "_view_name": "LayoutView",
            "align_content": null,
            "align_items": null,
            "align_self": null,
            "border": null,
            "bottom": null,
            "display": null,
            "flex": null,
            "flex_flow": null,
            "grid_area": null,
            "grid_auto_columns": null,
            "grid_auto_flow": null,
            "grid_auto_rows": null,
            "grid_column": null,
            "grid_gap": null,
            "grid_row": null,
            "grid_template_areas": null,
            "grid_template_columns": null,
            "grid_template_rows": null,
            "height": null,
            "justify_content": null,
            "justify_items": null,
            "left": null,
            "margin": null,
            "max_height": null,
            "max_width": null,
            "min_height": null,
            "min_width": null,
            "object_fit": null,
            "object_position": null,
            "order": null,
            "overflow": null,
            "overflow_x": null,
            "overflow_y": null,
            "padding": null,
            "right": null,
            "top": null,
            "visibility": null,
            "width": null
          }
        },
        "2d2f8e7bbfcc4e43838b6b8390c93210": {
          "model_module": "@jupyter-widgets/base",
          "model_name": "LayoutModel",
          "model_module_version": "1.2.0",
          "state": {
            "_model_module": "@jupyter-widgets/base",
            "_model_module_version": "1.2.0",
            "_model_name": "LayoutModel",
            "_view_count": null,
            "_view_module": "@jupyter-widgets/base",
            "_view_module_version": "1.2.0",
            "_view_name": "LayoutView",
            "align_content": null,
            "align_items": null,
            "align_self": null,
            "border": null,
            "bottom": null,
            "display": null,
            "flex": null,
            "flex_flow": null,
            "grid_area": null,
            "grid_auto_columns": null,
            "grid_auto_flow": null,
            "grid_auto_rows": null,
            "grid_column": null,
            "grid_gap": null,
            "grid_row": null,
            "grid_template_areas": null,
            "grid_template_columns": null,
            "grid_template_rows": null,
            "height": null,
            "justify_content": null,
            "justify_items": null,
            "left": null,
            "margin": null,
            "max_height": null,
            "max_width": null,
            "min_height": null,
            "min_width": null,
            "object_fit": null,
            "object_position": null,
            "order": null,
            "overflow": null,
            "overflow_x": null,
            "overflow_y": null,
            "padding": null,
            "right": null,
            "top": null,
            "visibility": null,
            "width": null
          }
        },
        "102272480f9042749e2c98dfd3c2b639": {
          "model_module": "@jupyter-widgets/controls",
          "model_name": "DescriptionStyleModel",
          "model_module_version": "1.5.0",
          "state": {
            "_model_module": "@jupyter-widgets/controls",
            "_model_module_version": "1.5.0",
            "_model_name": "DescriptionStyleModel",
            "_view_count": null,
            "_view_module": "@jupyter-widgets/base",
            "_view_module_version": "1.2.0",
            "_view_name": "StyleView",
            "description_width": ""
          }
        },
        "4aec4aa689084cc99eb016ab03ab1abe": {
          "model_module": "@jupyter-widgets/base",
          "model_name": "LayoutModel",
          "model_module_version": "1.2.0",
          "state": {
            "_model_module": "@jupyter-widgets/base",
            "_model_module_version": "1.2.0",
            "_model_name": "LayoutModel",
            "_view_count": null,
            "_view_module": "@jupyter-widgets/base",
            "_view_module_version": "1.2.0",
            "_view_name": "LayoutView",
            "align_content": null,
            "align_items": null,
            "align_self": null,
            "border": null,
            "bottom": null,
            "display": null,
            "flex": null,
            "flex_flow": null,
            "grid_area": null,
            "grid_auto_columns": null,
            "grid_auto_flow": null,
            "grid_auto_rows": null,
            "grid_column": null,
            "grid_gap": null,
            "grid_row": null,
            "grid_template_areas": null,
            "grid_template_columns": null,
            "grid_template_rows": null,
            "height": null,
            "justify_content": null,
            "justify_items": null,
            "left": null,
            "margin": null,
            "max_height": null,
            "max_width": null,
            "min_height": null,
            "min_width": null,
            "object_fit": null,
            "object_position": null,
            "order": null,
            "overflow": null,
            "overflow_x": null,
            "overflow_y": null,
            "padding": null,
            "right": null,
            "top": null,
            "visibility": null,
            "width": null
          }
        },
        "98cf5d6e49d64e58a911a70efd253937": {
          "model_module": "@jupyter-widgets/controls",
          "model_name": "ProgressStyleModel",
          "model_module_version": "1.5.0",
          "state": {
            "_model_module": "@jupyter-widgets/controls",
            "_model_module_version": "1.5.0",
            "_model_name": "ProgressStyleModel",
            "_view_count": null,
            "_view_module": "@jupyter-widgets/base",
            "_view_module_version": "1.2.0",
            "_view_name": "StyleView",
            "bar_color": null,
            "description_width": ""
          }
        },
        "7d2506b1aeff442898379dce7656bcb0": {
          "model_module": "@jupyter-widgets/base",
          "model_name": "LayoutModel",
          "model_module_version": "1.2.0",
          "state": {
            "_model_module": "@jupyter-widgets/base",
            "_model_module_version": "1.2.0",
            "_model_name": "LayoutModel",
            "_view_count": null,
            "_view_module": "@jupyter-widgets/base",
            "_view_module_version": "1.2.0",
            "_view_name": "LayoutView",
            "align_content": null,
            "align_items": null,
            "align_self": null,
            "border": null,
            "bottom": null,
            "display": null,
            "flex": null,
            "flex_flow": null,
            "grid_area": null,
            "grid_auto_columns": null,
            "grid_auto_flow": null,
            "grid_auto_rows": null,
            "grid_column": null,
            "grid_gap": null,
            "grid_row": null,
            "grid_template_areas": null,
            "grid_template_columns": null,
            "grid_template_rows": null,
            "height": null,
            "justify_content": null,
            "justify_items": null,
            "left": null,
            "margin": null,
            "max_height": null,
            "max_width": null,
            "min_height": null,
            "min_width": null,
            "object_fit": null,
            "object_position": null,
            "order": null,
            "overflow": null,
            "overflow_x": null,
            "overflow_y": null,
            "padding": null,
            "right": null,
            "top": null,
            "visibility": null,
            "width": null
          }
        },
        "55f741600a764cd99137827b932042d6": {
          "model_module": "@jupyter-widgets/controls",
          "model_name": "DescriptionStyleModel",
          "model_module_version": "1.5.0",
          "state": {
            "_model_module": "@jupyter-widgets/controls",
            "_model_module_version": "1.5.0",
            "_model_name": "DescriptionStyleModel",
            "_view_count": null,
            "_view_module": "@jupyter-widgets/base",
            "_view_module_version": "1.2.0",
            "_view_name": "StyleView",
            "description_width": ""
          }
        }
      }
    }
  },
  "cells": [
    {
      "cell_type": "markdown",
      "metadata": {
        "id": "view-in-github",
        "colab_type": "text"
      },
      "source": [
        "<a href=\"https://colab.research.google.com/github/young-hwanlee/stand_alone_deep_learning/blob/main/%2318_Lab_Handling_Visualization_of_Many_Experiments.ipynb\" target=\"_parent\"><img src=\"https://colab.research.google.com/assets/colab-badge.svg\" alt=\"Open In Colab\"/></a>"
      ]
    },
    {
      "cell_type": "code",
      "execution_count": 1,
      "metadata": {
        "colab": {
          "base_uri": "https://localhost:8080/"
        },
        "id": "O8gZF1tRIX88",
        "outputId": "e9339397-8357-4c59-ea3a-708357aed6b5"
      },
      "outputs": [
        {
          "output_type": "stream",
          "name": "stdout",
          "text": [
            "sample_data\n"
          ]
        }
      ],
      "source": [
        "!ls"
      ]
    },
    {
      "cell_type": "code",
      "execution_count": 2,
      "metadata": {
        "id": "iHlXDxHWz1_3"
      },
      "outputs": [],
      "source": [
        "!mkdir results"
      ]
    },
    {
      "cell_type": "code",
      "source": [
        "!ls"
      ],
      "metadata": {
        "colab": {
          "base_uri": "https://localhost:8080/"
        },
        "id": "GDW5cfd_0Qqy",
        "outputId": "e54b8393-c7a8-426e-cf1f-1b6fd4e79814"
      },
      "execution_count": 3,
      "outputs": [
        {
          "output_type": "stream",
          "name": "stdout",
          "text": [
            "results  sample_data\n"
          ]
        }
      ]
    },
    {
      "cell_type": "code",
      "execution_count": 4,
      "metadata": {
        "id": "PD4cIKKvKFCC"
      },
      "outputs": [],
      "source": [
        "import torch\n",
        "import torchvision\n",
        "import torchvision.transforms as transforms\n",
        "import torch.nn as nn\n",
        "import torch.nn.functional as F\n",
        "import torch.optim as optim\n",
        "import argparse\n",
        "import numpy as np\n",
        "import time\n",
        "from copy import deepcopy   # Add Deepcopy for args"
      ]
    },
    {
      "cell_type": "markdown",
      "metadata": {
        "id": "29UainWPco7Y"
      },
      "source": [
        "## Data Preparation"
      ]
    },
    {
      "cell_type": "code",
      "execution_count": 5,
      "metadata": {
        "id": "Cu753dPPKGkV",
        "colab": {
          "base_uri": "https://localhost:8080/",
          "height": 101,
          "referenced_widgets": [
            "fbc37b9b7c9a4e7b94b8c0f499db436d",
            "3fe7b5e5992048e9884c629e12887479",
            "e6e02d8367554cad9f0bf06684525809",
            "2b017d55ef384fc797ada33f7df87e32",
            "902e6d0025884677bdb9b949bc521774",
            "2d2f8e7bbfcc4e43838b6b8390c93210",
            "102272480f9042749e2c98dfd3c2b639",
            "4aec4aa689084cc99eb016ab03ab1abe",
            "98cf5d6e49d64e58a911a70efd253937",
            "7d2506b1aeff442898379dce7656bcb0",
            "55f741600a764cd99137827b932042d6"
          ]
        },
        "outputId": "b9e9e59b-bce3-4859-a7d1-efd5b0d556ef"
      },
      "outputs": [
        {
          "output_type": "stream",
          "name": "stdout",
          "text": [
            "Downloading https://www.cs.toronto.edu/~kriz/cifar-10-python.tar.gz to ./data/cifar-10-python.tar.gz\n"
          ]
        },
        {
          "output_type": "display_data",
          "data": {
            "text/plain": [
              "  0%|          | 0/170498071 [00:00<?, ?it/s]"
            ],
            "application/vnd.jupyter.widget-view+json": {
              "version_major": 2,
              "version_minor": 0,
              "model_id": "fbc37b9b7c9a4e7b94b8c0f499db436d"
            }
          },
          "metadata": {}
        },
        {
          "output_type": "stream",
          "name": "stdout",
          "text": [
            "Extracting ./data/cifar-10-python.tar.gz to ./data\n",
            "Files already downloaded and verified\n"
          ]
        }
      ],
      "source": [
        "transform = transforms.Compose(\n",
        "    [transforms.ToTensor(),\n",
        "     transforms.Normalize((0.5, 0.5, 0.5), (0.5, 0.5, 0.5))])\n",
        "\n",
        "trainset = torchvision.datasets.CIFAR10(root='./data', train=True,\n",
        "                                        download=True, transform=transform)\n",
        "trainset, valset = torch.utils.data.random_split(trainset, [40000, 10000])\n",
        "testset = torchvision.datasets.CIFAR10(root='./data', train=False,\n",
        "                                       download=True, transform=transform)\n",
        "partition = {'train': trainset, 'val':valset, 'test':testset}"
      ]
    },
    {
      "cell_type": "markdown",
      "metadata": {
        "id": "RxnfFJwBcsAv"
      },
      "source": [
        "## Model Architecture"
      ]
    },
    {
      "cell_type": "code",
      "execution_count": 6,
      "metadata": {
        "id": "_G6bZbbkMWWt"
      },
      "outputs": [],
      "source": [
        "class MLP(nn.Module):\n",
        "    def __init__(self, in_dim, out_dim, hid_dim, n_layer, act, dropout, use_bn, use_xavier):\n",
        "        super(MLP, self).__init__()\n",
        "        self.in_dim = in_dim\n",
        "        self.out_dim = out_dim\n",
        "        self.hid_dim = hid_dim\n",
        "        self.n_layer = n_layer\n",
        "        self.act = act\n",
        "        self.dropout = dropout\n",
        "        self.use_bn = use_bn\n",
        "        self.use_xavier = use_xavier\n",
        "        \n",
        "        # ===== Create Linear Layers ===== #\n",
        "        self.fc1 = nn.Linear(self.in_dim, self.hid_dim)\n",
        "        \n",
        "        self.linears = nn.ModuleList()\n",
        "        self.bns = nn.ModuleList()\n",
        "        for i in range(self.n_layer-1):\n",
        "            self.linears.append(nn.Linear(self.hid_dim, self.hid_dim))\n",
        "            if self.use_bn:\n",
        "                self.bns.append(nn.BatchNorm1d(self.hid_dim))\n",
        "                \n",
        "        self.fc2 = nn.Linear(self.hid_dim, self.out_dim)\n",
        "        \n",
        "        # ===== Create Activation Function ===== #\n",
        "        if self.act == 'relu':\n",
        "            self.act = nn.ReLU()\n",
        "        elif self.act == 'tanh':\n",
        "            self.act == nn.Tanh()\n",
        "        elif self.act == 'sigmoid':\n",
        "            self.act = nn.Sigmoid()\n",
        "        else:\n",
        "            raise ValueError('no valid activation function selected!')\n",
        "        \n",
        "        # ===== Create Regularization Layer ===== #\n",
        "        self.dropout = nn.Dropout(self.dropout)\n",
        "        if self.use_xavier:\n",
        "            self.xavier_init()\n",
        "          \n",
        "    def forward(self, x):\n",
        "        x = self.act(self.fc1(x))\n",
        "        for i in range(len(self.linears)):\n",
        "            x = self.act(self.linears[i](x))\n",
        "            x = self.bns[i](x)\n",
        "            x = self.dropout(x)\n",
        "        x = self.fc2(x)\n",
        "        return x\n",
        "    \n",
        "    def xavier_init(self):\n",
        "        for linear in self.linears:\n",
        "            nn.init.xavier_normal_(linear.weight)\n",
        "            linear.bias.data.fill_(0.01)\n",
        "            \n",
        "net = MLP(3072, 10, 100, 4, 'relu', 0.1, True, True)    # Testing Model Construction"
      ]
    },
    {
      "cell_type": "markdown",
      "metadata": {
        "id": "itGsp6jDWs_a"
      },
      "source": [
        "## Train, Validate, Test and Experiment"
      ]
    },
    {
      "cell_type": "code",
      "execution_count": 7,
      "metadata": {
        "id": "EMMijDp8z1_8"
      },
      "outputs": [],
      "source": [
        "def train(net, partition, optimizer, criterion, args):\n",
        "    trainloader = torch.utils.data.DataLoader(partition['train'], \n",
        "                                              batch_size=args.train_batch_size, \n",
        "                                              shuffle=True, num_workers=2)\n",
        "    net.train()\n",
        "\n",
        "    correct = 0\n",
        "    total = 0\n",
        "    train_loss = 0.0\n",
        "    for i, data in enumerate(trainloader, 0):\n",
        "        optimizer.zero_grad()   # [21.01.05 오류 수정] 매 Epoch 마다 .zero_grad()가 실행되는 것을 매 iteration 마다 실행되도록 수정했습니다. \n",
        "\n",
        "        # get the inputs\n",
        "        inputs, labels = data\n",
        "        inputs = inputs.view(-1, 3072)\n",
        "        inputs = inputs.cuda()\n",
        "        labels = labels.cuda()\n",
        "        outputs = net(inputs)\n",
        "\n",
        "        loss = criterion(outputs, labels)\n",
        "        loss.backward()\n",
        "        optimizer.step()\n",
        "\n",
        "        train_loss += loss.item()\n",
        "        _, predicted = torch.max(outputs.data, 1)\n",
        "        total += labels.size(0)\n",
        "        correct += (predicted == labels).sum().item()\n",
        "\n",
        "    train_loss = train_loss / len(trainloader)\n",
        "    train_acc = 100 * correct / total\n",
        "    return net, train_loss, train_acc"
      ]
    },
    {
      "cell_type": "code",
      "execution_count": 8,
      "metadata": {
        "id": "v3QZmE0gz1_8"
      },
      "outputs": [],
      "source": [
        "def validate(net, partition, criterion, args):\n",
        "    valloader = torch.utils.data.DataLoader(partition['val'], \n",
        "                                            batch_size=args.test_batch_size, \n",
        "                                            shuffle=False, num_workers=2)\n",
        "    net.eval()\n",
        "\n",
        "    correct = 0\n",
        "    total = 0\n",
        "    val_loss = 0 \n",
        "    with torch.no_grad():\n",
        "        for data in valloader:\n",
        "            images, labels = data\n",
        "            images = images.view(-1, 3072)\n",
        "            images = images.cuda()\n",
        "            labels = labels.cuda()\n",
        "            outputs = net(images)\n",
        "\n",
        "            loss = criterion(outputs, labels)\n",
        "            \n",
        "            val_loss += loss.item()\n",
        "            _, predicted = torch.max(outputs.data, 1)\n",
        "            total += labels.size(0)\n",
        "            correct += (predicted == labels).sum().item()\n",
        "\n",
        "        val_loss = val_loss / len(valloader)\n",
        "        val_acc = 100 * correct / total\n",
        "    return val_loss, val_acc"
      ]
    },
    {
      "cell_type": "code",
      "execution_count": 9,
      "metadata": {
        "id": "zZ3kjElGz1_9"
      },
      "outputs": [],
      "source": [
        "def test(net, partition, args):\n",
        "    testloader = torch.utils.data.DataLoader(partition['test'], \n",
        "                                             batch_size=args.test_batch_size, \n",
        "                                             shuffle=False, num_workers=2)\n",
        "    net.eval()\n",
        "    \n",
        "    correct = 0\n",
        "    total = 0\n",
        "    with torch.no_grad():\n",
        "        for data in testloader:\n",
        "            images, labels = data\n",
        "            images = images.view(-1, 3072)\n",
        "            images = images.cuda()\n",
        "            labels = labels.cuda()\n",
        "\n",
        "            outputs = net(images)\n",
        "            _, predicted = torch.max(outputs.data, 1)\n",
        "            total += labels.size(0)\n",
        "            correct += (predicted == labels).sum().item()\n",
        "\n",
        "        test_acc = 100 * correct / total\n",
        "    return test_acc"
      ]
    },
    {
      "cell_type": "code",
      "execution_count": 10,
      "metadata": {
        "id": "LiOCP6TqWw2V"
      },
      "outputs": [],
      "source": [
        "def experiment(partition, args):\n",
        "  \n",
        "    net = MLP(args.in_dim, args.out_dim, args.hid_dim, args.n_layer, args.act, args.dropout, args.use_bn, args.use_xavier)\n",
        "    net.cuda()\n",
        "\n",
        "    criterion = nn.CrossEntropyLoss()\n",
        "    if args.optim == 'SGD':\n",
        "        optimizer = optim.SGD(net.parameters(), lr=args.lr, weight_decay=args.l2)\n",
        "    elif args.optim == 'RMSprop':\n",
        "        optimizer = optim.RMSprop(net.parameters(), lr=args.lr, weight_decay=args.l2)\n",
        "    elif args.optim == 'Adam':\n",
        "        optimizer = optim.Adam(net.parameters(), lr=args.lr, weight_decay=args.l2)\n",
        "    else:\n",
        "        raise ValueError('In-valid optimizer choice')\n",
        "    \n",
        "    # ===== List for epoch-wise data ===== #\n",
        "    train_losses = []\n",
        "    val_losses = []\n",
        "    train_accs = []\n",
        "    val_accs = []\n",
        "    # ============================= #\n",
        "        \n",
        "    for epoch in range(args.epoch):  # loop over the dataset multiple times\n",
        "        ts = time.time()\n",
        "        net, train_loss, train_acc = train(net, partition, optimizer, criterion, args)\n",
        "        val_loss, val_acc = validate(net, partition, criterion, args)\n",
        "        te = time.time()\n",
        "        \n",
        "        # ===== Add Epoch Data ===== #\n",
        "        train_losses.append(train_loss)\n",
        "        val_losses.append(val_loss)\n",
        "        train_accs.append(train_acc)\n",
        "        val_accs.append(val_acc)\n",
        "        # ======================= #\n",
        "        \n",
        "        print('Epoch {}, Acc(train/val): {:2.2f}/{:2.2f}, Loss(train/val) {:2.2f}/{:2.2f}. Took {:2.2f} sec'.format(epoch, train_acc, val_acc, train_loss, val_loss, te-ts))\n",
        "        \n",
        "    test_acc = test(net, partition, args)    \n",
        "    \n",
        "    # ===== Add Result to Dictionary ===== #\n",
        "    result = {}\n",
        "    result['train_losses'] = train_losses\n",
        "    result['val_losses'] = val_losses\n",
        "    result['train_accs'] = train_accs\n",
        "    result['val_accs'] = val_accs\n",
        "    result['train_acc'] = train_acc\n",
        "    result['val_acc'] = val_acc\n",
        "    result['test_acc'] = test_acc\n",
        "\n",
        "    # args: setting values\n",
        "    # vars(args) -> make it into dict\n",
        "    return vars(args), result\n",
        "    # ============================= #"
      ]
    },
    {
      "cell_type": "markdown",
      "metadata": {
        "id": "Q5nCALiwz1_-"
      },
      "source": [
        "# Manage Experiment Result"
      ]
    },
    {
      "cell_type": "code",
      "execution_count": 11,
      "metadata": {
        "id": "2qUSKtIXz1_-"
      },
      "outputs": [],
      "source": [
        "import hashlib\n",
        "import json\n",
        "from os import listdir\n",
        "from os.path import isfile, join\n",
        "import pandas as pd\n",
        "\n",
        "def save_exp_result(setting, result):\n",
        "    exp_name = setting['exp_name']\n",
        "    del setting['epoch']                    # to avoid saving files depending on epoch\n",
        "    del setting['test_batch_size']     # to avoid saving files depending on test batch size (which does not affect the results)\n",
        "\n",
        "    hash_key = hashlib.sha1(str(setting).encode()).hexdigest()[:6]\n",
        "    filename = './results/{}-{}.json'.format(exp_name, hash_key)\n",
        "    result.update(setting)                # to merge dict and dict\n",
        "    with open(filename, 'w') as f:\n",
        "        json.dump(result, f)\n",
        "\n",
        "    \n",
        "def load_exp_result(exp_name):\n",
        "    dir_path = './results'\n",
        "    filenames = [f for f in listdir(dir_path) if isfile(join(dir_path, f)) if '.json' in f]\n",
        "    list_result = []\n",
        "    for filename in filenames:\n",
        "        if exp_name in filename:\n",
        "            with open(join(dir_path, filename), 'r') as infile:\n",
        "                results = json.load(infile)\n",
        "                list_result.append(results)\n",
        "    df = pd.DataFrame(list_result)  # .drop(columns=[])\n",
        "    return df\n",
        "    "
      ]
    },
    {
      "cell_type": "markdown",
      "metadata": {
        "id": "omgExzmQgU1J"
      },
      "source": [
        "## Experiment"
      ]
    },
    {
      "cell_type": "code",
      "execution_count": 12,
      "metadata": {
        "id": "DRoOy_B3Wu7B",
        "colab": {
          "base_uri": "https://localhost:8080/"
        },
        "outputId": "bd222d80-8c4d-4974-fb9d-643d8e5d5a74"
      },
      "outputs": [
        {
          "output_type": "stream",
          "name": "stdout",
          "text": [
            "Namespace(act='relu', dropout=0.2, epoch=10, exp_name='exp1_n_layer_hid_dim', hid_dim=500, in_dim=3072, l2=1e-05, lr=0.0015, n_layer=1, optim='RMSprop', out_dim=10, test_batch_size=1024, train_batch_size=256, use_bn=True, use_xavier=True)\n",
            "Epoch 0, Acc(train/val): 37.88/38.18, Loss(train/val) 2.49/1.89. Took 14.88 sec\n",
            "Epoch 1, Acc(train/val): 45.90/40.96, Loss(train/val) 1.57/1.75. Took 9.15 sec\n",
            "Epoch 2, Acc(train/val): 48.87/41.67, Loss(train/val) 1.49/1.79. Took 9.07 sec\n",
            "Epoch 3, Acc(train/val): 51.06/44.11, Loss(train/val) 1.43/1.77. Took 9.01 sec\n",
            "Epoch 4, Acc(train/val): 53.08/44.13, Loss(train/val) 1.38/1.66. Took 9.08 sec\n",
            "Epoch 5, Acc(train/val): 54.90/45.72, Loss(train/val) 1.33/1.76. Took 9.10 sec\n",
            "Epoch 6, Acc(train/val): 57.06/43.17, Loss(train/val) 1.27/1.85. Took 9.20 sec\n",
            "Epoch 7, Acc(train/val): 58.45/45.94, Loss(train/val) 1.23/1.81. Took 9.06 sec\n",
            "Epoch 8, Acc(train/val): 59.51/47.51, Loss(train/val) 1.22/1.69. Took 9.13 sec\n",
            "Epoch 9, Acc(train/val): 62.13/45.82, Loss(train/val) 1.14/1.77. Took 8.99 sec\n",
            "Namespace(act='relu', dropout=0.2, epoch=10, exp_name='exp1_n_layer_hid_dim', hid_dim=300, in_dim=3072, l2=1e-05, lr=0.0015, n_layer=1, optim='RMSprop', out_dim=10, test_batch_size=1024, train_batch_size=256, use_bn=True, use_xavier=True)\n",
            "Epoch 0, Acc(train/val): 37.96/41.29, Loss(train/val) 2.26/1.70. Took 9.50 sec\n",
            "Epoch 1, Acc(train/val): 46.34/40.19, Loss(train/val) 1.54/1.81. Took 10.01 sec\n",
            "Epoch 2, Acc(train/val): 49.16/41.21, Loss(train/val) 1.46/1.75. Took 9.04 sec\n",
            "Epoch 3, Acc(train/val): 51.59/43.93, Loss(train/val) 1.41/1.66. Took 9.02 sec\n",
            "Epoch 4, Acc(train/val): 53.29/48.64, Loss(train/val) 1.35/1.54. Took 9.06 sec\n",
            "Epoch 5, Acc(train/val): 55.23/39.48, Loss(train/val) 1.29/2.26. Took 9.07 sec\n",
            "Epoch 6, Acc(train/val): 56.95/43.57, Loss(train/val) 1.26/1.70. Took 9.03 sec\n",
            "Epoch 7, Acc(train/val): 58.53/45.22, Loss(train/val) 1.21/1.72. Took 8.95 sec\n",
            "Epoch 8, Acc(train/val): 60.26/41.27, Loss(train/val) 1.18/2.03. Took 9.06 sec\n",
            "Epoch 9, Acc(train/val): 61.82/44.05, Loss(train/val) 1.13/2.05. Took 9.10 sec\n",
            "Namespace(act='relu', dropout=0.2, epoch=10, exp_name='exp1_n_layer_hid_dim', hid_dim=500, in_dim=3072, l2=1e-05, lr=0.0015, n_layer=2, optim='RMSprop', out_dim=10, test_batch_size=1024, train_batch_size=256, use_bn=True, use_xavier=True)\n",
            "Epoch 0, Acc(train/val): 36.51/39.57, Loss(train/val) 1.80/1.72. Took 9.56 sec\n",
            "Epoch 1, Acc(train/val): 45.82/42.26, Loss(train/val) 1.53/1.72. Took 16.56 sec\n",
            "Epoch 2, Acc(train/val): 49.30/45.15, Loss(train/val) 1.43/1.57. Took 14.01 sec\n",
            "Epoch 3, Acc(train/val): 52.16/45.60, Loss(train/val) 1.35/1.58. Took 13.66 sec\n",
            "Epoch 4, Acc(train/val): 54.62/46.66, Loss(train/val) 1.28/1.58. Took 11.64 sec\n",
            "Epoch 5, Acc(train/val): 57.15/50.22, Loss(train/val) 1.21/1.44. Took 11.82 sec\n",
            "Epoch 6, Acc(train/val): 59.41/47.30, Loss(train/val) 1.15/1.61. Took 10.86 sec\n",
            "Epoch 7, Acc(train/val): 61.51/50.22, Loss(train/val) 1.10/1.46. Took 10.77 sec\n",
            "Epoch 8, Acc(train/val): 63.55/49.86, Loss(train/val) 1.03/1.55. Took 13.40 sec\n",
            "Epoch 9, Acc(train/val): 64.85/50.31, Loss(train/val) 0.98/1.51. Took 9.67 sec\n",
            "Namespace(act='relu', dropout=0.2, epoch=10, exp_name='exp1_n_layer_hid_dim', hid_dim=300, in_dim=3072, l2=1e-05, lr=0.0015, n_layer=2, optim='RMSprop', out_dim=10, test_batch_size=1024, train_batch_size=256, use_bn=True, use_xavier=True)\n",
            "Epoch 0, Acc(train/val): 37.74/38.56, Loss(train/val) 1.75/1.70. Took 13.24 sec\n",
            "Epoch 1, Acc(train/val): 46.41/38.75, Loss(train/val) 1.51/1.90. Took 14.53 sec\n",
            "Epoch 2, Acc(train/val): 49.92/47.46, Loss(train/val) 1.41/1.51. Took 11.46 sec\n",
            "Epoch 3, Acc(train/val): 53.13/49.13, Loss(train/val) 1.33/1.48. Took 9.66 sec\n",
            "Epoch 4, Acc(train/val): 55.40/43.95, Loss(train/val) 1.26/1.68. Took 9.51 sec\n",
            "Epoch 5, Acc(train/val): 57.18/49.15, Loss(train/val) 1.21/1.48. Took 9.55 sec\n",
            "Epoch 6, Acc(train/val): 59.48/45.24, Loss(train/val) 1.15/1.64. Took 9.69 sec\n",
            "Epoch 7, Acc(train/val): 61.33/50.43, Loss(train/val) 1.10/1.46. Took 9.91 sec\n",
            "Epoch 8, Acc(train/val): 62.90/49.58, Loss(train/val) 1.05/1.48. Took 9.37 sec\n",
            "Epoch 9, Acc(train/val): 65.08/49.80, Loss(train/val) 0.99/1.55. Took 9.36 sec\n",
            "Namespace(act='relu', dropout=0.2, epoch=10, exp_name='exp1_n_layer_hid_dim', hid_dim=500, in_dim=3072, l2=1e-05, lr=0.0015, n_layer=3, optim='RMSprop', out_dim=10, test_batch_size=1024, train_batch_size=256, use_bn=True, use_xavier=True)\n",
            "Epoch 0, Acc(train/val): 35.82/39.34, Loss(train/val) 1.83/1.71. Took 9.69 sec\n",
            "Epoch 1, Acc(train/val): 45.59/41.32, Loss(train/val) 1.53/1.66. Took 9.85 sec\n",
            "Epoch 2, Acc(train/val): 49.86/45.33, Loss(train/val) 1.41/1.56. Took 9.83 sec\n",
            "Epoch 3, Acc(train/val): 52.76/41.83, Loss(train/val) 1.32/1.71. Took 9.59 sec\n",
            "Epoch 4, Acc(train/val): 55.52/47.98, Loss(train/val) 1.24/1.49. Took 9.62 sec\n",
            "Epoch 5, Acc(train/val): 57.79/49.98, Loss(train/val) 1.17/1.47. Took 9.62 sec\n",
            "Epoch 6, Acc(train/val): 60.26/46.11, Loss(train/val) 1.11/1.86. Took 9.50 sec\n",
            "Epoch 7, Acc(train/val): 62.33/49.36, Loss(train/val) 1.06/1.54. Took 15.00 sec\n",
            "Epoch 8, Acc(train/val): 64.73/52.09, Loss(train/val) 0.99/1.48. Took 10.98 sec\n",
            "Epoch 9, Acc(train/val): 66.80/49.85, Loss(train/val) 0.93/1.60. Took 9.73 sec\n",
            "Namespace(act='relu', dropout=0.2, epoch=10, exp_name='exp1_n_layer_hid_dim', hid_dim=300, in_dim=3072, l2=1e-05, lr=0.0015, n_layer=3, optim='RMSprop', out_dim=10, test_batch_size=1024, train_batch_size=256, use_bn=True, use_xavier=True)\n",
            "Epoch 0, Acc(train/val): 36.59/35.72, Loss(train/val) 1.78/1.90. Took 11.18 sec\n",
            "Epoch 1, Acc(train/val): 45.56/43.58, Loss(train/val) 1.52/1.57. Took 13.18 sec\n",
            "Epoch 2, Acc(train/val): 49.41/46.32, Loss(train/val) 1.41/1.51. Took 13.08 sec\n",
            "Epoch 3, Acc(train/val): 52.55/46.14, Loss(train/val) 1.33/1.52. Took 10.65 sec\n",
            "Epoch 4, Acc(train/val): 54.84/48.94, Loss(train/val) 1.26/1.44. Took 9.74 sec\n",
            "Epoch 5, Acc(train/val): 56.61/50.55, Loss(train/val) 1.21/1.39. Took 9.60 sec\n",
            "Epoch 6, Acc(train/val): 58.90/49.37, Loss(train/val) 1.15/1.49. Took 9.62 sec\n",
            "Epoch 7, Acc(train/val): 60.62/47.32, Loss(train/val) 1.10/1.51. Took 9.70 sec\n",
            "Epoch 8, Acc(train/val): 62.23/50.29, Loss(train/val) 1.05/1.48. Took 9.41 sec\n",
            "Epoch 9, Acc(train/val): 63.95/49.77, Loss(train/val) 1.00/1.51. Took 10.16 sec\n"
          ]
        }
      ],
      "source": [
        "# ===== Random Seed Initialization ===== #\n",
        "seed = 123\n",
        "np.random.seed(seed)\n",
        "torch.manual_seed(seed)\n",
        "\n",
        "parser = argparse.ArgumentParser()\n",
        "args = parser.parse_args(\"\")\n",
        "args.exp_name = \"exp1_n_layer_hid_dim\"\n",
        "\n",
        "# ===== Model Capacity ===== #\n",
        "args.in_dim = 3072\n",
        "args.out_dim = 10\n",
        "args.hid_dim = 100\n",
        "args.act = 'relu'\n",
        "\n",
        "# ===== Regularization ===== #\n",
        "args.dropout = 0.2\n",
        "args.use_bn = True\n",
        "args.l2 = 0.00001\n",
        "args.use_xavier = True\n",
        "\n",
        "# ===== Optimizer & Training ===== #\n",
        "args.optim = 'RMSprop'  #SGD, RMSprop, ADAM, ...\n",
        "args.lr = 0.0015\n",
        "args.epoch = 10\n",
        "\n",
        "args.train_batch_size = 256\n",
        "args.test_batch_size = 1024\n",
        "\n",
        "# ===== Experiment Variable ===== #\n",
        "name_var1 = 'n_layer'\n",
        "name_var2 = 'hid_dim'\n",
        "list_var1 = [1, 2, 3]\n",
        "list_var2 = [500, 300]\n",
        "\n",
        "\n",
        "for var1 in list_var1:\n",
        "    for var2 in list_var2:\n",
        "        setattr(args, name_var1, var1)\n",
        "        setattr(args, name_var2, var2)\n",
        "        print(args)\n",
        "                \n",
        "        setting, result = experiment(partition, deepcopy(args))\n",
        "        save_exp_result(setting, result)\n"
      ]
    },
    {
      "cell_type": "code",
      "execution_count": 13,
      "metadata": {
        "id": "k8NVlvPUz1__",
        "colab": {
          "base_uri": "https://localhost:8080/",
          "height": 409
        },
        "outputId": "780c4719-42de-4939-9901-79548b62e1a7"
      },
      "outputs": [
        {
          "output_type": "execute_result",
          "data": {
            "text/plain": [
              "<matplotlib.axes._subplots.AxesSubplot at 0x7f93981f9550>"
            ]
          },
          "metadata": {},
          "execution_count": 13
        },
        {
          "output_type": "display_data",
          "data": {
            "text/plain": [
              "<Figure size 1080x432 with 3 Axes>"
            ],
            "image/png": "[encoded data removed]"
          },
          "metadata": {
            "needs_background": "light"
          }
        }
      ],
      "source": [
        "import seaborn as sns \n",
        "import matplotlib.pyplot as plt\n",
        "\n",
        "df = load_exp_result('exp1')\n",
        "\n",
        "fig, ax = plt.subplots(1, 3)\n",
        "fig.set_size_inches(15, 6)\n",
        "sns.set_style(\"darkgrid\", {\"axes.facecolor\": \".9\"})\n",
        "\n",
        "sns.barplot(x='n_layer', y='train_acc', hue='hid_dim', data=df, ax=ax[0])\n",
        "sns.barplot(x='n_layer', y='val_acc', hue='hid_dim', data=df, ax=ax[1])\n",
        "sns.barplot(x='n_layer', y='test_acc', hue='hid_dim', data=df, ax=ax[2])\n"
      ]
    },
    {
      "cell_type": "code",
      "execution_count": 14,
      "metadata": {
        "id": "5zyzDtsaz1__",
        "colab": {
          "base_uri": "https://localhost:8080/",
          "height": 443
        },
        "outputId": "aff4e382-e8e5-448c-eaa5-5f3d301c3485"
      },
      "outputs": [
        {
          "output_type": "display_data",
          "data": {
            "text/plain": [
              "<Figure size 707.375x432 with 6 Axes>"
            ],
            "image/png": "[encoded data removed]"
          },
          "metadata": {}
        }
      ],
      "source": [
        "var1 = 'n_layer'\n",
        "var2 = 'hid_dim'\n",
        "\n",
        "df = load_exp_result('exp1')\n",
        "list_v1 = df[var1].unique()\n",
        "list_v2 = df[var2].unique()\n",
        "list_data = []\n",
        "\n",
        "for value1 in list_v1:\n",
        "    for value2 in list_v2:\n",
        "        row = df.loc[df[var1]==value1]\n",
        "        row = row.loc[df[var2]==value2]\n",
        "        \n",
        "        train_losses = list(row.train_losses)[0]\n",
        "        val_losses = list(row.val_losses)[0]\n",
        "        \n",
        "        for epoch, train_loss in enumerate(train_losses):\n",
        "            list_data.append({'type':'train', 'loss':train_loss, 'epoch':epoch, var1:value1, var2:value2})\n",
        "        for epoch, val_loss in enumerate(val_losses):\n",
        "            list_data.append({'type':'val', 'loss':val_loss, 'epoch':epoch, var1:value1, var2:value2})\n",
        "        \n",
        "df = pd.DataFrame(list_data)\n",
        "g = sns.FacetGrid(df, row=var2, col=var1, hue='type', margin_titles=True, sharey=False)\n",
        "g = g.map(plt.plot, 'epoch', 'loss', marker='.')\n",
        "g.add_legend()\n",
        "g.fig.suptitle('Train loss vs Val loss')\n",
        "plt.subplots_adjust(top=0.89)"
      ]
    },
    {
      "cell_type": "code",
      "execution_count": 15,
      "metadata": {
        "id": "fSa_VzLnz2AA",
        "colab": {
          "base_uri": "https://localhost:8080/",
          "height": 443
        },
        "outputId": "b9debf76-2dc6-4da9-93a8-cac98cc57f0b"
      },
      "outputs": [
        {
          "output_type": "display_data",
          "data": {
            "text/plain": [
              "<Figure size 707.375x432 with 6 Axes>"
            ],
            "image/png": "[encoded data removed]"
          },
          "metadata": {}
        }
      ],
      "source": [
        "var1 = 'n_layer'\n",
        "var2 = 'hid_dim'\n",
        "\n",
        "df = load_exp_result('exp1')\n",
        "list_v1 = df[var1].unique()\n",
        "list_v2 = df[var2].unique()\n",
        "list_data = []\n",
        "\n",
        "for value1 in list_v1:\n",
        "    for value2 in list_v2:\n",
        "        row = df.loc[df[var1]==value1]\n",
        "        row = row.loc[df[var2]==value2]\n",
        "        \n",
        "        train_accs = list(row.train_accs)[0]\n",
        "        val_accs = list(row.val_accs)[0]\n",
        "        test_acc = list(row.test_acc)[0]\n",
        "        \n",
        "        for epoch, train_acc in enumerate(train_accs):\n",
        "            list_data.append({'type':'train', 'Acc':train_acc, 'test_acc':test_acc, 'epoch':epoch, var1:value1, var2:value2})\n",
        "        for epoch, val_acc in enumerate(val_accs):\n",
        "            list_data.append({'type':'val', 'Acc':val_acc, 'test_acc':test_acc, 'epoch':epoch, var1:value1, var2:value2})\n",
        "        \n",
        "df = pd.DataFrame(list_data)\n",
        "g = sns.FacetGrid(df, row=var2, col=var1, hue='type', margin_titles=True, sharey=False)\n",
        "g = g.map(plt.plot, 'epoch', 'Acc', marker='.')\n",
        "\n",
        "def show_acc(x, y, metric, **kwargs):\n",
        "    plt.scatter(x, y, alpha=0.3, s=1)\n",
        "    metric = \"Test Acc: {:1.3f}\".format(list(metric.values)[0])\n",
        "    plt.text(0.05, 0.95, metric,  horizontalalignment='left', verticalalignment='center', transform=plt.gca().transAxes, bbox=dict(facecolor='yellow', alpha=0.5, boxstyle=\"round,pad=0.1\"))\n",
        "g = g.map(show_acc, 'epoch', 'Acc', 'test_acc')\n",
        "\n",
        "g.add_legend()\n",
        "g.fig.suptitle('Train Accuracy vs Val Accuracy')\n",
        "\n",
        "\n",
        "\n",
        "plt.subplots_adjust(top=0.89)"
      ]
    }
  ]
}