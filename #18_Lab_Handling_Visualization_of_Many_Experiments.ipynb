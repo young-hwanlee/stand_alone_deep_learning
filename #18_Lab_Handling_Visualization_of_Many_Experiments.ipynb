{
  "nbformat": 4,
  "nbformat_minor": 0,
  "metadata": {
    "colab": {
      "name": "#18_Lab_Handling_Visualization_of_Many_Experiments",
      "provenance": [],
      "authorship_tag": "ABX9TyOZIBEbgG0zyocLraP9KftB",
      "include_colab_link": true
    },
    "kernelspec": {
      "name": "python3",
      "display_name": "Python 3"
    },
    "language_info": {
      "name": "python"
    },
    "accelerator": "GPU",
    "gpuClass": "standard"
  },
  "cells": [
    {
      "cell_type": "markdown",
      "metadata": {
        "id": "view-in-github",
        "colab_type": "text"
      },
      "source": [
        "<a href=\"https://colab.research.google.com/github/young-hwanlee/stand_alone_deep_learning/blob/main/%2318_Lab_Handling_Visualization_of_Many_Experiments.ipynb\" target=\"_parent\"><img src=\"https://colab.research.google.com/assets/colab-badge.svg\" alt=\"Open In Colab\"/></a>"
      ]
    },
    {
      "cell_type": "code",
      "execution_count": 1,
      "metadata": {
        "colab": {
          "base_uri": "https://localhost:8080/"
        },
        "id": "O8gZF1tRIX88",
        "outputId": "28308b19-6adb-4fae-c234-56929a22776e"
      },
      "outputs": [
        {
          "output_type": "stream",
          "name": "stdout",
          "text": [
            "data  results  sample_data\n"
          ]
        }
      ],
      "source": [
        "!ls"
      ]
    },
    {
      "cell_type": "code",
      "execution_count": 2,
      "metadata": {
        "id": "iHlXDxHWz1_3",
        "colab": {
          "base_uri": "https://localhost:8080/"
        },
        "outputId": "3f1d4628-a67d-4425-c83d-be3431842842"
      },
      "outputs": [
        {
          "output_type": "stream",
          "name": "stdout",
          "text": [
            "mkdir: cannot create directory ‘results’: File exists\n"
          ]
        }
      ],
      "source": [
        "!mkdir results"
      ]
    },
    {
      "cell_type": "code",
      "source": [
        "!ls"
      ],
      "metadata": {
        "colab": {
          "base_uri": "https://localhost:8080/"
        },
        "id": "GDW5cfd_0Qqy",
        "outputId": "1075cce2-6287-4ccc-ebc7-0263c65fddc3"
      },
      "execution_count": 3,
      "outputs": [
        {
          "output_type": "stream",
          "name": "stdout",
          "text": [
            "data  results  sample_data\n"
          ]
        }
      ]
    },
    {
      "cell_type": "code",
      "execution_count": 4,
      "metadata": {
        "id": "PD4cIKKvKFCC"
      },
      "outputs": [],
      "source": [
        "import torch\n",
        "import torchvision\n",
        "import torchvision.transforms as transforms\n",
        "import torch.nn as nn\n",
        "import torch.nn.functional as F\n",
        "import torch.optim as optim\n",
        "import argparse\n",
        "import numpy as np\n",
        "import time\n",
        "from copy import deepcopy   # Add Deepcopy for args"
      ]
    },
    {
      "cell_type": "markdown",
      "metadata": {
        "id": "29UainWPco7Y"
      },
      "source": [
        "## Data Preparation"
      ]
    },
    {
      "cell_type": "code",
      "execution_count": 5,
      "metadata": {
        "id": "Cu753dPPKGkV",
        "colab": {
          "base_uri": "https://localhost:8080/"
        },
        "outputId": "e8ce4939-0857-4703-f6c9-71f96c70f1a2"
      },
      "outputs": [
        {
          "output_type": "stream",
          "name": "stdout",
          "text": [
            "Files already downloaded and verified\n",
            "Files already downloaded and verified\n"
          ]
        }
      ],
      "source": [
        "transform = transforms.Compose(\n",
        "    [transforms.ToTensor(),\n",
        "     transforms.Normalize((0.5, 0.5, 0.5), (0.5, 0.5, 0.5))])\n",
        "\n",
        "trainset = torchvision.datasets.CIFAR10(root='./data', train=True,\n",
        "                                        download=True, transform=transform)\n",
        "trainset, valset = torch.utils.data.random_split(trainset, [40000, 10000])\n",
        "testset = torchvision.datasets.CIFAR10(root='./data', train=False,\n",
        "                                       download=True, transform=transform)\n",
        "partition = {'train': trainset, 'val':valset, 'test':testset}"
      ]
    },
    {
      "cell_type": "markdown",
      "metadata": {
        "id": "RxnfFJwBcsAv"
      },
      "source": [
        "## Model Architecture"
      ]
    },
    {
      "cell_type": "code",
      "execution_count": 6,
      "metadata": {
        "id": "_G6bZbbkMWWt"
      },
      "outputs": [],
      "source": [
        "class MLP(nn.Module):\n",
        "    def __init__(self, in_dim, out_dim, hid_dim, n_layer, act, dropout, use_bn, use_xavier):\n",
        "        super(MLP, self).__init__()\n",
        "        self.in_dim = in_dim\n",
        "        self.out_dim = out_dim\n",
        "        self.hid_dim = hid_dim\n",
        "        self.n_layer = n_layer\n",
        "        self.act = act\n",
        "        self.dropout = dropout\n",
        "        self.use_bn = use_bn\n",
        "        self.use_xavier = use_xavier\n",
        "        \n",
        "        # ===== Create Linear Layers ===== #\n",
        "        self.fc1 = nn.Linear(self.in_dim, self.hid_dim)\n",
        "        \n",
        "        self.linears = nn.ModuleList()\n",
        "        self.bns = nn.ModuleList()\n",
        "        for i in range(self.n_layer-1):\n",
        "            self.linears.append(nn.Linear(self.hid_dim, self.hid_dim))\n",
        "            if self.use_bn:\n",
        "                self.bns.append(nn.BatchNorm1d(self.hid_dim))\n",
        "                \n",
        "        self.fc2 = nn.Linear(self.hid_dim, self.out_dim)\n",
        "        \n",
        "        # ===== Create Activation Function ===== #\n",
        "        if self.act == 'relu':\n",
        "            self.act = nn.ReLU()\n",
        "        elif self.act == 'tanh':\n",
        "            self.act == nn.Tanh()\n",
        "        elif self.act == 'sigmoid':\n",
        "            self.act = nn.Sigmoid()\n",
        "        else:\n",
        "            raise ValueError('no valid activation function selected!')\n",
        "        \n",
        "        # ===== Create Regularization Layer ===== #\n",
        "        self.dropout = nn.Dropout(self.dropout)\n",
        "        if self.use_xavier:\n",
        "            self.xavier_init()\n",
        "          \n",
        "    def forward(self, x):\n",
        "        x = self.act(self.fc1(x))\n",
        "        for i in range(len(self.linears)):\n",
        "            x = self.act(self.linears[i](x))\n",
        "            x = self.bns[i](x)\n",
        "            x = self.dropout(x)\n",
        "        x = self.fc2(x)\n",
        "        return x\n",
        "    \n",
        "    def xavier_init(self):\n",
        "        for linear in self.linears:\n",
        "            nn.init.xavier_normal_(linear.weight)\n",
        "            linear.bias.data.fill_(0.01)\n",
        "            \n",
        "net = MLP(3072, 10, 100, 4, 'relu', 0.1, True, True)    # Testing Model Construction"
      ]
    },
    {
      "cell_type": "markdown",
      "metadata": {
        "id": "itGsp6jDWs_a"
      },
      "source": [
        "## Train, Validate, Test and Experiment"
      ]
    },
    {
      "cell_type": "code",
      "execution_count": 7,
      "metadata": {
        "id": "EMMijDp8z1_8"
      },
      "outputs": [],
      "source": [
        "def train(net, partition, optimizer, criterion, args):\n",
        "    trainloader = torch.utils.data.DataLoader(partition['train'], \n",
        "                                              batch_size=args.train_batch_size, \n",
        "                                              shuffle=True, num_workers=2)\n",
        "    net.train()\n",
        "\n",
        "    correct = 0\n",
        "    total = 0\n",
        "    train_loss = 0.0\n",
        "    for i, data in enumerate(trainloader, 0):\n",
        "        optimizer.zero_grad()   # [21.01.05 오류 수정] 매 Epoch 마다 .zero_grad()가 실행되는 것을 매 iteration 마다 실행되도록 수정했습니다. \n",
        "\n",
        "        # get the inputs\n",
        "        inputs, labels = data\n",
        "        inputs = inputs.view(-1, 3072)\n",
        "        inputs = inputs.cuda()\n",
        "        labels = labels.cuda()\n",
        "        outputs = net(inputs)\n",
        "\n",
        "        loss = criterion(outputs, labels)\n",
        "        loss.backward()\n",
        "        optimizer.step()\n",
        "\n",
        "        train_loss += loss.item()\n",
        "        _, predicted = torch.max(outputs.data, 1)\n",
        "        total += labels.size(0)\n",
        "        correct += (predicted == labels).sum().item()\n",
        "\n",
        "    train_loss = train_loss / len(trainloader)\n",
        "    train_acc = 100 * correct / total\n",
        "    return net, train_loss, train_acc"
      ]
    },
    {
      "cell_type": "code",
      "execution_count": 8,
      "metadata": {
        "id": "v3QZmE0gz1_8"
      },
      "outputs": [],
      "source": [
        "def validate(net, partition, criterion, args):\n",
        "    valloader = torch.utils.data.DataLoader(partition['val'], \n",
        "                                            batch_size=args.test_batch_size, \n",
        "                                            shuffle=False, num_workers=2)\n",
        "    net.eval()\n",
        "\n",
        "    correct = 0\n",
        "    total = 0\n",
        "    val_loss = 0 \n",
        "    with torch.no_grad():\n",
        "        for data in valloader:\n",
        "            images, labels = data\n",
        "            images = images.view(-1, 3072)\n",
        "            images = images.cuda()\n",
        "            labels = labels.cuda()\n",
        "            outputs = net(images)\n",
        "\n",
        "            loss = criterion(outputs, labels)\n",
        "            \n",
        "            val_loss += loss.item()\n",
        "            _, predicted = torch.max(outputs.data, 1)\n",
        "            total += labels.size(0)\n",
        "            correct += (predicted == labels).sum().item()\n",
        "\n",
        "        val_loss = val_loss / len(valloader)\n",
        "        val_acc = 100 * correct / total\n",
        "    return val_loss, val_acc"
      ]
    },
    {
      "cell_type": "code",
      "execution_count": 9,
      "metadata": {
        "id": "zZ3kjElGz1_9"
      },
      "outputs": [],
      "source": [
        "def test(net, partition, args):\n",
        "    testloader = torch.utils.data.DataLoader(partition['test'], \n",
        "                                             batch_size=args.test_batch_size, \n",
        "                                             shuffle=False, num_workers=2)\n",
        "    net.eval()\n",
        "    \n",
        "    correct = 0\n",
        "    total = 0\n",
        "    with torch.no_grad():\n",
        "        for data in testloader:\n",
        "            images, labels = data\n",
        "            images = images.view(-1, 3072)\n",
        "            images = images.cuda()\n",
        "            labels = labels.cuda()\n",
        "\n",
        "            outputs = net(images)\n",
        "            _, predicted = torch.max(outputs.data, 1)\n",
        "            total += labels.size(0)\n",
        "            correct += (predicted == labels).sum().item()\n",
        "\n",
        "        test_acc = 100 * correct / total\n",
        "    return test_acc"
      ]
    },
    {
      "cell_type": "code",
      "execution_count": 10,
      "metadata": {
        "id": "LiOCP6TqWw2V"
      },
      "outputs": [],
      "source": [
        "def experiment(partition, args):\n",
        "  \n",
        "    net = MLP(args.in_dim, args.out_dim, args.hid_dim, args.n_layer, args.act, args.dropout, args.use_bn, args.use_xavier)\n",
        "    net.cuda()\n",
        "\n",
        "    criterion = nn.CrossEntropyLoss()\n",
        "    if args.optim == 'SGD':\n",
        "        optimizer = optim.SGD(net.parameters(), lr=args.lr, weight_decay=args.l2)\n",
        "    elif args.optim == 'RMSprop':\n",
        "        optimizer = optim.RMSprop(net.parameters(), lr=args.lr, weight_decay=args.l2)\n",
        "    elif args.optim == 'Adam':\n",
        "        optimizer = optim.Adam(net.parameters(), lr=args.lr, weight_decay=args.l2)\n",
        "    else:\n",
        "        raise ValueError('In-valid optimizer choice')\n",
        "    \n",
        "    # ===== List for epoch-wise data ===== #\n",
        "    train_losses = []\n",
        "    val_losses = []\n",
        "    train_accs = []\n",
        "    val_accs = []\n",
        "    # ============================= #\n",
        "        \n",
        "    for epoch in range(args.epoch):  # loop over the dataset multiple times\n",
        "        ts = time.time()\n",
        "        net, train_loss, train_acc = train(net, partition, optimizer, criterion, args)\n",
        "        val_loss, val_acc = validate(net, partition, criterion, args)\n",
        "        te = time.time()\n",
        "        \n",
        "        # ===== Add Epoch Data ===== #\n",
        "        train_losses.append(train_loss)\n",
        "        val_losses.append(val_loss)\n",
        "        train_accs.append(train_acc)\n",
        "        val_accs.append(val_acc)\n",
        "        # ======================= #\n",
        "        \n",
        "        print('Epoch {}, Acc(train/val): {:2.2f}/{:2.2f}, Loss(train/val) {:2.2f}/{:2.2f}. Took {:2.2f} sec'.format(epoch, train_acc, val_acc, train_loss, val_loss, te-ts))\n",
        "        \n",
        "    test_acc = test(net, partition, args)    \n",
        "    \n",
        "    # ===== Add Result to Dictionary ===== #\n",
        "    result = {}\n",
        "    result['train_losses'] = train_losses\n",
        "    result['val_losses'] = val_losses\n",
        "    result['train_accs'] = train_accs\n",
        "    result['val_accs'] = val_accs\n",
        "    result['train_acc'] = train_acc\n",
        "    result['val_acc'] = val_acc\n",
        "    result['test_acc'] = test_acc\n",
        "\n",
        "    # args: setting values\n",
        "    # vars(args) -> make it into dict\n",
        "    return vars(args), result\n",
        "    # ============================= #"
      ]
    },
    {
      "cell_type": "markdown",
      "metadata": {
        "id": "Q5nCALiwz1_-"
      },
      "source": [
        "# Manage Experiment Result"
      ]
    },
    {
      "cell_type": "code",
      "execution_count": 11,
      "metadata": {
        "id": "2qUSKtIXz1_-"
      },
      "outputs": [],
      "source": [
        "import hashlib\n",
        "import json\n",
        "from os import listdir\n",
        "from os.path import isfile, join\n",
        "import pandas as pd\n",
        "\n",
        "def save_exp_result(setting, result):\n",
        "    exp_name = setting['exp_name']\n",
        "    del setting['epoch']                    # to avoid saving files depending on epoch\n",
        "    del setting['test_batch_size']     # to avoid saving files depending on test batch size (which does not affect the results)\n",
        "\n",
        "    hash_key = hashlib.sha1(str(setting).encode()).hexdigest()[:6]\n",
        "    filename = './results/{}-{}.json'.format(exp_name, hash_key)\n",
        "    result.update(setting)                # to merge dict and dict\n",
        "    with open(filename, 'w') as f:\n",
        "        json.dump(result, f)\n",
        "\n",
        "    \n",
        "def load_exp_result(exp_name):\n",
        "    dir_path = './results'\n",
        "    filenames = [f for f in listdir(dir_path) if isfile(join(dir_path, f)) if '.json' in f]\n",
        "    list_result = []\n",
        "    for filename in filenames:\n",
        "        if exp_name in filename:\n",
        "            with open(join(dir_path, filename), 'r') as infile:\n",
        "                results = json.load(infile)\n",
        "                list_result.append(results)\n",
        "    df = pd.DataFrame(list_result)  # .drop(columns=[])\n",
        "    return df\n",
        "    "
      ]
    },
    {
      "cell_type": "markdown",
      "metadata": {
        "id": "omgExzmQgU1J"
      },
      "source": [
        "## Experiment"
      ]
    },
    {
      "cell_type": "code",
      "execution_count": 12,
      "metadata": {
        "id": "DRoOy_B3Wu7B",
        "colab": {
          "base_uri": "https://localhost:8080/"
        },
        "outputId": "78d972fc-bd8f-445e-e634-afecf36418b8"
      },
      "outputs": [
        {
          "output_type": "stream",
          "name": "stdout",
          "text": [
            "Namespace(act='relu', dropout=0.2, epoch=10, exp_name='exp1_n_layer_hid_dim', hid_dim=300, in_dim=3072, l2=1e-05, lr=0.0015, n_layer=1, optim='RMSprop', out_dim=10, test_batch_size=1024, train_batch_size=256, use_bn=True, use_xavier=True)\n",
            "Epoch 0, Acc(train/val): 38.59/39.58, Loss(train/val) 2.18/1.75. Took 17.40 sec\n",
            "Epoch 1, Acc(train/val): 46.48/41.66, Loss(train/val) 1.54/1.73. Took 14.46 sec\n",
            "Epoch 2, Acc(train/val): 49.13/36.65, Loss(train/val) 1.47/2.03. Took 9.08 sec\n",
            "Epoch 3, Acc(train/val): 52.05/44.14, Loss(train/val) 1.40/1.67. Took 9.07 sec\n",
            "Epoch 4, Acc(train/val): 53.58/43.32, Loss(train/val) 1.35/1.68. Took 9.15 sec\n",
            "Epoch 5, Acc(train/val): 55.23/40.67, Loss(train/val) 1.31/1.89. Took 9.23 sec\n",
            "Epoch 6, Acc(train/val): 57.20/42.26, Loss(train/val) 1.25/2.04. Took 9.09 sec\n",
            "Epoch 7, Acc(train/val): 58.90/47.80, Loss(train/val) 1.21/1.60. Took 9.07 sec\n",
            "Epoch 8, Acc(train/val): 60.03/46.00, Loss(train/val) 1.17/1.84. Took 9.10 sec\n",
            "Epoch 9, Acc(train/val): 61.51/44.85, Loss(train/val) 1.14/1.83. Took 9.17 sec\n",
            "Namespace(act='relu', dropout=0.2, epoch=10, exp_name='exp1_n_layer_hid_dim', hid_dim=500, in_dim=3072, l2=1e-05, lr=0.0015, n_layer=1, optim='RMSprop', out_dim=10, test_batch_size=1024, train_batch_size=256, use_bn=True, use_xavier=True)\n",
            "Epoch 0, Acc(train/val): 37.70/38.16, Loss(train/val) 2.52/1.84. Took 9.17 sec\n",
            "Epoch 1, Acc(train/val): 45.90/41.04, Loss(train/val) 1.57/1.82. Took 9.18 sec\n",
            "Epoch 2, Acc(train/val): 48.49/38.99, Loss(train/val) 1.50/1.87. Took 10.86 sec\n",
            "Epoch 3, Acc(train/val): 50.62/44.49, Loss(train/val) 1.45/1.73. Took 9.21 sec\n",
            "Epoch 4, Acc(train/val): 52.96/40.62, Loss(train/val) 1.38/1.93. Took 9.32 sec\n",
            "Epoch 5, Acc(train/val): 54.42/42.30, Loss(train/val) 1.33/1.76. Took 9.35 sec\n",
            "Epoch 6, Acc(train/val): 56.38/45.90, Loss(train/val) 1.29/1.71. Took 9.23 sec\n",
            "Epoch 7, Acc(train/val): 58.29/44.50, Loss(train/val) 1.24/1.79. Took 9.24 sec\n",
            "Epoch 8, Acc(train/val): 59.87/42.68, Loss(train/val) 1.20/1.95. Took 9.26 sec\n",
            "Epoch 9, Acc(train/val): 61.24/45.25, Loss(train/val) 1.17/1.91. Took 9.20 sec\n",
            "Namespace(act='relu', dropout=0.2, epoch=10, exp_name='exp1_n_layer_hid_dim', hid_dim=300, in_dim=3072, l2=1e-05, lr=0.0015, n_layer=2, optim='RMSprop', out_dim=10, test_batch_size=1024, train_batch_size=256, use_bn=True, use_xavier=True)\n",
            "Epoch 0, Acc(train/val): 37.19/41.68, Loss(train/val) 1.76/1.65. Took 9.39 sec\n",
            "Epoch 1, Acc(train/val): 46.21/41.05, Loss(train/val) 1.52/1.76. Took 9.33 sec\n",
            "Epoch 2, Acc(train/val): 50.05/45.06, Loss(train/val) 1.41/1.56. Took 9.37 sec\n",
            "Epoch 3, Acc(train/val): 52.34/46.33, Loss(train/val) 1.34/1.57. Took 9.39 sec\n",
            "Epoch 4, Acc(train/val): 54.92/46.27, Loss(train/val) 1.28/1.61. Took 9.35 sec\n",
            "Epoch 5, Acc(train/val): 56.96/47.09, Loss(train/val) 1.22/1.56. Took 9.39 sec\n",
            "Epoch 6, Acc(train/val): 59.33/49.19, Loss(train/val) 1.16/1.50. Took 9.29 sec\n",
            "Epoch 7, Acc(train/val): 60.87/47.60, Loss(train/val) 1.11/1.61. Took 9.35 sec\n",
            "Epoch 8, Acc(train/val): 62.40/52.51, Loss(train/val) 1.06/1.42. Took 9.32 sec\n",
            "Epoch 9, Acc(train/val): 64.44/52.16, Loss(train/val) 1.01/1.44. Took 9.37 sec\n",
            "Namespace(act='relu', dropout=0.2, epoch=10, exp_name='exp1_n_layer_hid_dim', hid_dim=500, in_dim=3072, l2=1e-05, lr=0.0015, n_layer=2, optim='RMSprop', out_dim=10, test_batch_size=1024, train_batch_size=256, use_bn=True, use_xavier=True)\n",
            "Epoch 0, Acc(train/val): 37.02/40.04, Loss(train/val) 1.79/1.67. Took 9.33 sec\n",
            "Epoch 1, Acc(train/val): 46.15/42.59, Loss(train/val) 1.52/1.69. Took 9.40 sec\n",
            "Epoch 2, Acc(train/val): 50.05/47.35, Loss(train/val) 1.41/1.49. Took 9.35 sec\n",
            "Epoch 3, Acc(train/val): 52.77/47.18, Loss(train/val) 1.34/1.52. Took 9.39 sec\n",
            "Epoch 4, Acc(train/val): 55.18/47.29, Loss(train/val) 1.26/1.60. Took 9.35 sec\n",
            "Epoch 5, Acc(train/val): 57.84/41.12, Loss(train/val) 1.20/1.93. Took 9.32 sec\n",
            "Epoch 6, Acc(train/val): 59.74/45.91, Loss(train/val) 1.14/1.79. Took 9.27 sec\n",
            "Epoch 7, Acc(train/val): 61.28/34.02, Loss(train/val) 1.09/4.13. Took 9.41 sec\n",
            "Epoch 8, Acc(train/val): 64.05/46.22, Loss(train/val) 1.02/1.76. Took 9.34 sec\n",
            "Epoch 9, Acc(train/val): 66.42/50.00, Loss(train/val) 0.96/1.58. Took 9.48 sec\n",
            "Namespace(act='relu', dropout=0.2, epoch=10, exp_name='exp1_n_layer_hid_dim', hid_dim=300, in_dim=3072, l2=1e-05, lr=0.0015, n_layer=3, optim='RMSprop', out_dim=10, test_batch_size=1024, train_batch_size=256, use_bn=True, use_xavier=True)\n",
            "Epoch 0, Acc(train/val): 36.79/41.51, Loss(train/val) 1.77/1.66. Took 9.52 sec\n",
            "Epoch 1, Acc(train/val): 45.74/43.83, Loss(train/val) 1.51/1.58. Took 9.42 sec\n",
            "Epoch 2, Acc(train/val): 49.33/48.38, Loss(train/val) 1.41/1.46. Took 9.46 sec\n",
            "Epoch 3, Acc(train/val): 52.71/46.29, Loss(train/val) 1.33/1.49. Took 9.48 sec\n",
            "Epoch 4, Acc(train/val): 55.20/51.61, Loss(train/val) 1.26/1.36. Took 9.54 sec\n",
            "Epoch 5, Acc(train/val): 57.04/44.48, Loss(train/val) 1.20/1.67. Took 9.54 sec\n",
            "Epoch 6, Acc(train/val): 58.99/50.72, Loss(train/val) 1.15/1.43. Took 9.67 sec\n",
            "Epoch 7, Acc(train/val): 61.09/47.72, Loss(train/val) 1.09/1.57. Took 9.60 sec\n",
            "Epoch 8, Acc(train/val): 62.74/50.82, Loss(train/val) 1.04/1.45. Took 9.67 sec\n",
            "Epoch 9, Acc(train/val): 64.77/52.47, Loss(train/val) 0.99/1.42. Took 9.55 sec\n",
            "Namespace(act='relu', dropout=0.2, epoch=10, exp_name='exp1_n_layer_hid_dim', hid_dim=500, in_dim=3072, l2=1e-05, lr=0.0015, n_layer=3, optim='RMSprop', out_dim=10, test_batch_size=1024, train_batch_size=256, use_bn=True, use_xavier=True)\n",
            "Epoch 0, Acc(train/val): 35.87/38.84, Loss(train/val) 1.84/1.75. Took 9.57 sec\n",
            "Epoch 1, Acc(train/val): 45.66/37.79, Loss(train/val) 1.52/1.95. Took 9.48 sec\n",
            "Epoch 2, Acc(train/val): 49.68/43.82, Loss(train/val) 1.41/1.61. Took 9.57 sec\n",
            "Epoch 3, Acc(train/val): 52.38/47.11, Loss(train/val) 1.33/1.49. Took 9.55 sec\n",
            "Epoch 4, Acc(train/val): 54.90/45.92, Loss(train/val) 1.26/1.55. Took 9.56 sec\n",
            "Epoch 5, Acc(train/val): 57.19/49.78, Loss(train/val) 1.20/1.46. Took 9.64 sec\n",
            "Epoch 6, Acc(train/val): 59.62/51.55, Loss(train/val) 1.13/1.41. Took 9.69 sec\n",
            "Epoch 7, Acc(train/val): 61.60/50.26, Loss(train/val) 1.08/1.46. Took 9.43 sec\n",
            "Epoch 8, Acc(train/val): 63.55/48.31, Loss(train/val) 1.02/1.64. Took 9.56 sec\n",
            "Epoch 9, Acc(train/val): 65.53/49.43, Loss(train/val) 0.97/1.59. Took 9.57 sec\n"
          ]
        }
      ],
      "source": [
        "# ===== Random Seed Initialization ===== #\n",
        "seed = 123\n",
        "np.random.seed(seed)\n",
        "torch.manual_seed(seed)\n",
        "\n",
        "parser = argparse.ArgumentParser()\n",
        "args = parser.parse_args(\"\")\n",
        "args.exp_name = \"exp1_n_layer_hid_dim\"\n",
        "\n",
        "# ===== Model Capacity ===== #\n",
        "args.in_dim = 3072\n",
        "args.out_dim = 10\n",
        "args.hid_dim = 100\n",
        "args.act = 'relu'\n",
        "\n",
        "# ===== Regularization ===== #\n",
        "args.dropout = 0.2\n",
        "args.use_bn = True\n",
        "args.l2 = 0.00001\n",
        "args.use_xavier = True\n",
        "\n",
        "# ===== Optimizer & Training ===== #\n",
        "args.optim = 'RMSprop'  #SGD, RMSprop, ADAM, ...\n",
        "args.lr = 0.0015\n",
        "args.epoch = 10\n",
        "\n",
        "args.train_batch_size = 256\n",
        "args.test_batch_size = 1024\n",
        "\n",
        "# ===== Experiment Variable ===== #\n",
        "name_var1 = 'n_layer'\n",
        "name_var2 = 'hid_dim'\n",
        "list_var1 = [1, 2, 3]\n",
        "list_var2 = [300, 500]\n",
        "\n",
        "\n",
        "for var1 in list_var1:\n",
        "    for var2 in list_var2:\n",
        "        setattr(args, name_var1, var1)      # args.name_var1 = var1\n",
        "        setattr(args, name_var2, var2)      # args.name_var2 = var2\n",
        "        print(args)\n",
        "                \n",
        "        setting, result = experiment(partition, deepcopy(args))\n",
        "        save_exp_result(setting, result)\n"
      ]
    },
    {
      "cell_type": "code",
      "source": [
        "!ls results"
      ],
      "metadata": {
        "colab": {
          "base_uri": "https://localhost:8080/"
        },
        "id": "WoXOs__A5mBG",
        "outputId": "c2dfe5b6-dee0-4f13-b264-f33b3f28caa5"
      },
      "execution_count": 13,
      "outputs": [
        {
          "output_type": "stream",
          "name": "stdout",
          "text": [
            "exp1_n_layer_hid_dim-41b634.json  exp1_n_layer_hid_dim-bfc899.json\n",
            "exp1_n_layer_hid_dim-61a2d0.json  exp1_n_layer_hid_dim-cab8c1.json\n",
            "exp1_n_layer_hid_dim-7b70fe.json  exp1_n_layer_hid_dim-dece45.json\n"
          ]
        }
      ]
    },
    {
      "cell_type": "code",
      "source": [
        "!cat results/exp1_n_layer_hid_dim-41b634.json"
      ],
      "metadata": {
        "colab": {
          "base_uri": "https://localhost:8080/"
        },
        "id": "j_ZrfnlZ7QCc",
        "outputId": "3f43d2b0-a85e-4a70-e3c7-3736d912f44f"
      },
      "execution_count": 14,
      "outputs": [
        {
          "output_type": "stream",
          "name": "stdout",
          "text": [
            "{\"train_losses\": [1.7737114019454665, 1.5136946546044319, 1.409586350629284, 1.3280242347413567, 1.257904086143348, 1.2024329095889048, 1.151000559709634, 1.0944596661883554, 1.0423309913106784, 0.9936481566186164], \"val_losses\": [1.664892327785492, 1.5769919514656068, 1.458910918235779, 1.4894296646118164, 1.3600859642028809, 1.671690046787262, 1.4337029218673707, 1.5737257599830627, 1.4497947096824646, 1.4154622197151183], \"train_accs\": [36.7925, 45.74, 49.3325, 52.71, 55.2025, 57.0375, 58.995, 61.085, 62.7425, 64.7675], \"val_accs\": [41.51, 43.83, 48.38, 46.29, 51.61, 44.48, 50.72, 47.72, 50.82, 52.47], \"train_acc\": 64.7675, \"val_acc\": 52.47, \"test_acc\": 52.13, \"exp_name\": \"exp1_n_layer_hid_dim\", \"in_dim\": 3072, \"out_dim\": 10, \"hid_dim\": 300, \"act\": \"relu\", \"dropout\": 0.2, \"use_bn\": true, \"l2\": 1e-05, \"use_xavier\": true, \"optim\": \"RMSprop\", \"lr\": 0.0015, \"train_batch_size\": 256, \"n_layer\": 3}"
          ]
        }
      ]
    },
    {
      "cell_type": "code",
      "execution_count": 15,
      "metadata": {
        "id": "k8NVlvPUz1__",
        "colab": {
          "base_uri": "https://localhost:8080/"
        },
        "outputId": "ea1f8424-d7b6-44c3-bb9a-0aba0f7f392f"
      },
      "outputs": [
        {
          "output_type": "stream",
          "name": "stdout",
          "text": [
            "                                        train_losses  \\\n",
            "0  [2.18197802829135, 1.5422968127924925, 1.47143...   \n",
            "1  [2.5221808359121822, 1.5707579653733854, 1.497...   \n",
            "2  [1.763449923248048, 1.5175018432034049, 1.4147...   \n",
            "3  [1.7945117540420241, 1.5204008794893884, 1.412...   \n",
            "4  [1.7737114019454665, 1.5136946546044319, 1.409...   \n",
            "5  [1.8357554939901752, 1.5184631712117773, 1.407...   \n",
            "\n",
            "                                          val_losses  \\\n",
            "0  [1.7476146221160889, 1.7252756834030152, 2.032...   \n",
            "1  [1.842672312259674, 1.818816351890564, 1.87070...   \n",
            "2  [1.6531088709831239, 1.7597294449806213, 1.562...   \n",
            "3  [1.6716274619102478, 1.691839349269867, 1.4884...   \n",
            "4  [1.664892327785492, 1.5769919514656068, 1.4589...   \n",
            "5  [1.7462174773216248, 1.9524584412574768, 1.612...   \n",
            "\n",
            "                                          train_accs  \\\n",
            "0  [38.585, 46.48, 49.13, 52.05, 53.58, 55.23, 57...   \n",
            "1  [37.705, 45.9025, 48.49, 50.625, 52.9575, 54.4...   \n",
            "2  [37.1875, 46.2075, 50.0475, 52.3375, 54.9225, ...   \n",
            "3  [37.0225, 46.15, 50.0525, 52.775, 55.18, 57.84...   \n",
            "4  [36.7925, 45.74, 49.3325, 52.71, 55.2025, 57.0...   \n",
            "5  [35.865, 45.66, 49.68, 52.3775, 54.8975, 57.19...   \n",
            "\n",
            "                                            val_accs  train_acc  val_acc  \\\n",
            "0  [39.58, 41.66, 36.65, 44.14, 43.32, 40.67, 42....    61.5050    44.85   \n",
            "1  [38.16, 41.04, 38.99, 44.49, 40.62, 42.3, 45.9...    61.2375    45.25   \n",
            "2  [41.68, 41.05, 45.06, 46.33, 46.27, 47.09, 49....    64.4400    52.16   \n",
            "3  [40.04, 42.59, 47.35, 47.18, 47.29, 41.12, 45....    66.4150    50.00   \n",
            "4  [41.51, 43.83, 48.38, 46.29, 51.61, 44.48, 50....    64.7675    52.47   \n",
            "5  [38.84, 37.79, 43.82, 47.11, 45.92, 49.78, 51....    65.5250    49.43   \n",
            "\n",
            "   test_acc              exp_name  in_dim  out_dim  hid_dim   act  dropout  \\\n",
            "0     44.50  exp1_n_layer_hid_dim    3072       10      300  relu      0.2   \n",
            "1     45.14  exp1_n_layer_hid_dim    3072       10      500  relu      0.2   \n",
            "2     51.44  exp1_n_layer_hid_dim    3072       10      300  relu      0.2   \n",
            "3     50.26  exp1_n_layer_hid_dim    3072       10      500  relu      0.2   \n",
            "4     52.13  exp1_n_layer_hid_dim    3072       10      300  relu      0.2   \n",
            "5     47.63  exp1_n_layer_hid_dim    3072       10      500  relu      0.2   \n",
            "\n",
            "   use_bn       l2  use_xavier    optim      lr  train_batch_size  n_layer  \n",
            "0    True  0.00001        True  RMSprop  0.0015               256        1  \n",
            "1    True  0.00001        True  RMSprop  0.0015               256        1  \n",
            "2    True  0.00001        True  RMSprop  0.0015               256        2  \n",
            "3    True  0.00001        True  RMSprop  0.0015               256        2  \n",
            "4    True  0.00001        True  RMSprop  0.0015               256        3  \n",
            "5    True  0.00001        True  RMSprop  0.0015               256        3  \n"
          ]
        }
      ],
      "source": [
        "df = load_exp_result('exp1')\n",
        "print(df)"
      ]
    },
    {
      "cell_type": "code",
      "source": [
        "load_exp_result('exp1').head()"
      ],
      "metadata": {
        "colab": {
          "base_uri": "https://localhost:8080/",
          "height": 791
        },
        "id": "jDQNUwmo8fyt",
        "outputId": "353c2f8d-4745-4a92-82bb-4ac63292eab6"
      },
      "execution_count": 16,
      "outputs": [
        {
          "output_type": "execute_result",
          "data": {
            "text/plain": [
              "                                        train_losses  \\\n",
              "0  [2.18197802829135, 1.5422968127924925, 1.47143...   \n",
              "1  [2.5221808359121822, 1.5707579653733854, 1.497...   \n",
              "2  [1.763449923248048, 1.5175018432034049, 1.4147...   \n",
              "3  [1.7945117540420241, 1.5204008794893884, 1.412...   \n",
              "4  [1.7737114019454665, 1.5136946546044319, 1.409...   \n",
              "\n",
              "                                          val_losses  \\\n",
              "0  [1.7476146221160889, 1.7252756834030152, 2.032...   \n",
              "1  [1.842672312259674, 1.818816351890564, 1.87070...   \n",
              "2  [1.6531088709831239, 1.7597294449806213, 1.562...   \n",
              "3  [1.6716274619102478, 1.691839349269867, 1.4884...   \n",
              "4  [1.664892327785492, 1.5769919514656068, 1.4589...   \n",
              "\n",
              "                                          train_accs  \\\n",
              "0  [38.585, 46.48, 49.13, 52.05, 53.58, 55.23, 57...   \n",
              "1  [37.705, 45.9025, 48.49, 50.625, 52.9575, 54.4...   \n",
              "2  [37.1875, 46.2075, 50.0475, 52.3375, 54.9225, ...   \n",
              "3  [37.0225, 46.15, 50.0525, 52.775, 55.18, 57.84...   \n",
              "4  [36.7925, 45.74, 49.3325, 52.71, 55.2025, 57.0...   \n",
              "\n",
              "                                            val_accs  train_acc  val_acc  \\\n",
              "0  [39.58, 41.66, 36.65, 44.14, 43.32, 40.67, 42....    61.5050    44.85   \n",
              "1  [38.16, 41.04, 38.99, 44.49, 40.62, 42.3, 45.9...    61.2375    45.25   \n",
              "2  [41.68, 41.05, 45.06, 46.33, 46.27, 47.09, 49....    64.4400    52.16   \n",
              "3  [40.04, 42.59, 47.35, 47.18, 47.29, 41.12, 45....    66.4150    50.00   \n",
              "4  [41.51, 43.83, 48.38, 46.29, 51.61, 44.48, 50....    64.7675    52.47   \n",
              "\n",
              "   test_acc              exp_name  in_dim  out_dim  hid_dim   act  dropout  \\\n",
              "0     44.50  exp1_n_layer_hid_dim    3072       10      300  relu      0.2   \n",
              "1     45.14  exp1_n_layer_hid_dim    3072       10      500  relu      0.2   \n",
              "2     51.44  exp1_n_layer_hid_dim    3072       10      300  relu      0.2   \n",
              "3     50.26  exp1_n_layer_hid_dim    3072       10      500  relu      0.2   \n",
              "4     52.13  exp1_n_layer_hid_dim    3072       10      300  relu      0.2   \n",
              "\n",
              "   use_bn       l2  use_xavier    optim      lr  train_batch_size  n_layer  \n",
              "0    True  0.00001        True  RMSprop  0.0015               256        1  \n",
              "1    True  0.00001        True  RMSprop  0.0015               256        1  \n",
              "2    True  0.00001        True  RMSprop  0.0015               256        2  \n",
              "3    True  0.00001        True  RMSprop  0.0015               256        2  \n",
              "4    True  0.00001        True  RMSprop  0.0015               256        3  "
            ],
            "text/html": [
              "\n",
              "  <div id=\"df-ad876288-43d9-4341-b267-bc9756595c6e\">\n",
              "    <div class=\"colab-df-container\">\n",
              "      <div>\n",
              "<style scoped>\n",
              "    .dataframe tbody tr th:only-of-type {\n",
              "        vertical-align: middle;\n",
              "    }\n",
              "\n",
              "    .dataframe tbody tr th {\n",
              "        vertical-align: top;\n",
              "    }\n",
              "\n",
              "    .dataframe thead th {\n",
              "        text-align: right;\n",
              "    }\n",
              "</style>\n",
              "<table border=\"1\" class=\"dataframe\">\n",
              "  <thead>\n",
              "    <tr style=\"text-align: right;\">\n",
              "      <th></th>\n",
              "      <th>train_losses</th>\n",
              "      <th>val_losses</th>\n",
              "      <th>train_accs</th>\n",
              "      <th>val_accs</th>\n",
              "      <th>train_acc</th>\n",
              "      <th>val_acc</th>\n",
              "      <th>test_acc</th>\n",
              "      <th>exp_name</th>\n",
              "      <th>in_dim</th>\n",
              "      <th>out_dim</th>\n",
              "      <th>hid_dim</th>\n",
              "      <th>act</th>\n",
              "      <th>dropout</th>\n",
              "      <th>use_bn</th>\n",
              "      <th>l2</th>\n",
              "      <th>use_xavier</th>\n",
              "      <th>optim</th>\n",
              "      <th>lr</th>\n",
              "      <th>train_batch_size</th>\n",
              "      <th>n_layer</th>\n",
              "    </tr>\n",
              "  </thead>\n",
              "  <tbody>\n",
              "    <tr>\n",
              "      <th>0</th>\n",
              "      <td>[2.18197802829135, 1.5422968127924925, 1.47143...</td>\n",
              "      <td>[1.7476146221160889, 1.7252756834030152, 2.032...</td>\n",
              "      <td>[38.585, 46.48, 49.13, 52.05, 53.58, 55.23, 57...</td>\n",
              "      <td>[39.58, 41.66, 36.65, 44.14, 43.32, 40.67, 42....</td>\n",
              "      <td>61.5050</td>\n",
              "      <td>44.85</td>\n",
              "      <td>44.50</td>\n",
              "      <td>exp1_n_layer_hid_dim</td>\n",
              "      <td>3072</td>\n",
              "      <td>10</td>\n",
              "      <td>300</td>\n",
              "      <td>relu</td>\n",
              "      <td>0.2</td>\n",
              "      <td>True</td>\n",
              "      <td>0.00001</td>\n",
              "      <td>True</td>\n",
              "      <td>RMSprop</td>\n",
              "      <td>0.0015</td>\n",
              "      <td>256</td>\n",
              "      <td>1</td>\n",
              "    </tr>\n",
              "    <tr>\n",
              "      <th>1</th>\n",
              "      <td>[2.5221808359121822, 1.5707579653733854, 1.497...</td>\n",
              "      <td>[1.842672312259674, 1.818816351890564, 1.87070...</td>\n",
              "      <td>[37.705, 45.9025, 48.49, 50.625, 52.9575, 54.4...</td>\n",
              "      <td>[38.16, 41.04, 38.99, 44.49, 40.62, 42.3, 45.9...</td>\n",
              "      <td>61.2375</td>\n",
              "      <td>45.25</td>\n",
              "      <td>45.14</td>\n",
              "      <td>exp1_n_layer_hid_dim</td>\n",
              "      <td>3072</td>\n",
              "      <td>10</td>\n",
              "      <td>500</td>\n",
              "      <td>relu</td>\n",
              "      <td>0.2</td>\n",
              "      <td>True</td>\n",
              "      <td>0.00001</td>\n",
              "      <td>True</td>\n",
              "      <td>RMSprop</td>\n",
              "      <td>0.0015</td>\n",
              "      <td>256</td>\n",
              "      <td>1</td>\n",
              "    </tr>\n",
              "    <tr>\n",
              "      <th>2</th>\n",
              "      <td>[1.763449923248048, 1.5175018432034049, 1.4147...</td>\n",
              "      <td>[1.6531088709831239, 1.7597294449806213, 1.562...</td>\n",
              "      <td>[37.1875, 46.2075, 50.0475, 52.3375, 54.9225, ...</td>\n",
              "      <td>[41.68, 41.05, 45.06, 46.33, 46.27, 47.09, 49....</td>\n",
              "      <td>64.4400</td>\n",
              "      <td>52.16</td>\n",
              "      <td>51.44</td>\n",
              "      <td>exp1_n_layer_hid_dim</td>\n",
              "      <td>3072</td>\n",
              "      <td>10</td>\n",
              "      <td>300</td>\n",
              "      <td>relu</td>\n",
              "      <td>0.2</td>\n",
              "      <td>True</td>\n",
              "      <td>0.00001</td>\n",
              "      <td>True</td>\n",
              "      <td>RMSprop</td>\n",
              "      <td>0.0015</td>\n",
              "      <td>256</td>\n",
              "      <td>2</td>\n",
              "    </tr>\n",
              "    <tr>\n",
              "      <th>3</th>\n",
              "      <td>[1.7945117540420241, 1.5204008794893884, 1.412...</td>\n",
              "      <td>[1.6716274619102478, 1.691839349269867, 1.4884...</td>\n",
              "      <td>[37.0225, 46.15, 50.0525, 52.775, 55.18, 57.84...</td>\n",
              "      <td>[40.04, 42.59, 47.35, 47.18, 47.29, 41.12, 45....</td>\n",
              "      <td>66.4150</td>\n",
              "      <td>50.00</td>\n",
              "      <td>50.26</td>\n",
              "      <td>exp1_n_layer_hid_dim</td>\n",
              "      <td>3072</td>\n",
              "      <td>10</td>\n",
              "      <td>500</td>\n",
              "      <td>relu</td>\n",
              "      <td>0.2</td>\n",
              "      <td>True</td>\n",
              "      <td>0.00001</td>\n",
              "      <td>True</td>\n",
              "      <td>RMSprop</td>\n",
              "      <td>0.0015</td>\n",
              "      <td>256</td>\n",
              "      <td>2</td>\n",
              "    </tr>\n",
              "    <tr>\n",
              "      <th>4</th>\n",
              "      <td>[1.7737114019454665, 1.5136946546044319, 1.409...</td>\n",
              "      <td>[1.664892327785492, 1.5769919514656068, 1.4589...</td>\n",
              "      <td>[36.7925, 45.74, 49.3325, 52.71, 55.2025, 57.0...</td>\n",
              "      <td>[41.51, 43.83, 48.38, 46.29, 51.61, 44.48, 50....</td>\n",
              "      <td>64.7675</td>\n",
              "      <td>52.47</td>\n",
              "      <td>52.13</td>\n",
              "      <td>exp1_n_layer_hid_dim</td>\n",
              "      <td>3072</td>\n",
              "      <td>10</td>\n",
              "      <td>300</td>\n",
              "      <td>relu</td>\n",
              "      <td>0.2</td>\n",
              "      <td>True</td>\n",
              "      <td>0.00001</td>\n",
              "      <td>True</td>\n",
              "      <td>RMSprop</td>\n",
              "      <td>0.0015</td>\n",
              "      <td>256</td>\n",
              "      <td>3</td>\n",
              "    </tr>\n",
              "  </tbody>\n",
              "</table>\n",
              "</div>\n",
              "      <button class=\"colab-df-convert\" onclick=\"convertToInteractive('df-ad876288-43d9-4341-b267-bc9756595c6e')\"\n",
              "              title=\"Convert this dataframe to an interactive table.\"\n",
              "              style=\"display:none;\">\n",
              "        \n",
              "  <svg xmlns=\"http://www.w3.org/2000/svg\" height=\"24px\"viewBox=\"0 0 24 24\"\n",
              "       width=\"24px\">\n",
              "    <path d=\"M0 0h24v24H0V0z\" fill=\"none\"/>\n",
              "    <path d=\"M18.56 5.44l.94 2.06.94-2.06 2.06-.94-2.06-.94-.94-2.06-.94 2.06-2.06.94zm-11 1L8.5 8.5l.94-2.06 2.06-.94-2.06-.94L8.5 2.5l-.94 2.06-2.06.94zm10 10l.94 2.06.94-2.06 2.06-.94-2.06-.94-.94-2.06-.94 2.06-2.06.94z\"/><path d=\"M17.41 7.96l-1.37-1.37c-.4-.4-.92-.59-1.43-.59-.52 0-1.04.2-1.43.59L10.3 9.45l-7.72 7.72c-.78.78-.78 2.05 0 2.83L4 21.41c.39.39.9.59 1.41.59.51 0 1.02-.2 1.41-.59l7.78-7.78 2.81-2.81c.8-.78.8-2.07 0-2.86zM5.41 20L4 18.59l7.72-7.72 1.47 1.35L5.41 20z\"/>\n",
              "  </svg>\n",
              "      </button>\n",
              "      \n",
              "  <style>\n",
              "    .colab-df-container {\n",
              "      display:flex;\n",
              "      flex-wrap:wrap;\n",
              "      gap: 12px;\n",
              "    }\n",
              "\n",
              "    .colab-df-convert {\n",
              "      background-color: #E8F0FE;\n",
              "      border: none;\n",
              "      border-radius: 50%;\n",
              "      cursor: pointer;\n",
              "      display: none;\n",
              "      fill: #1967D2;\n",
              "      height: 32px;\n",
              "      padding: 0 0 0 0;\n",
              "      width: 32px;\n",
              "    }\n",
              "\n",
              "    .colab-df-convert:hover {\n",
              "      background-color: #E2EBFA;\n",
              "      box-shadow: 0px 1px 2px rgba(60, 64, 67, 0.3), 0px 1px 3px 1px rgba(60, 64, 67, 0.15);\n",
              "      fill: #174EA6;\n",
              "    }\n",
              "\n",
              "    [theme=dark] .colab-df-convert {\n",
              "      background-color: #3B4455;\n",
              "      fill: #D2E3FC;\n",
              "    }\n",
              "\n",
              "    [theme=dark] .colab-df-convert:hover {\n",
              "      background-color: #434B5C;\n",
              "      box-shadow: 0px 1px 3px 1px rgba(0, 0, 0, 0.15);\n",
              "      filter: drop-shadow(0px 1px 2px rgba(0, 0, 0, 0.3));\n",
              "      fill: #FFFFFF;\n",
              "    }\n",
              "  </style>\n",
              "\n",
              "      <script>\n",
              "        const buttonEl =\n",
              "          document.querySelector('#df-ad876288-43d9-4341-b267-bc9756595c6e button.colab-df-convert');\n",
              "        buttonEl.style.display =\n",
              "          google.colab.kernel.accessAllowed ? 'block' : 'none';\n",
              "\n",
              "        async function convertToInteractive(key) {\n",
              "          const element = document.querySelector('#df-ad876288-43d9-4341-b267-bc9756595c6e');\n",
              "          const dataTable =\n",
              "            await google.colab.kernel.invokeFunction('convertToInteractive',\n",
              "                                                     [key], {});\n",
              "          if (!dataTable) return;\n",
              "\n",
              "          const docLinkHtml = 'Like what you see? Visit the ' +\n",
              "            '<a target=\"_blank\" href=https://colab.research.google.com/notebooks/data_table.ipynb>data table notebook</a>'\n",
              "            + ' to learn more about interactive tables.';\n",
              "          element.innerHTML = '';\n",
              "          dataTable['output_type'] = 'display_data';\n",
              "          await google.colab.output.renderOutput(dataTable, element);\n",
              "          const docLink = document.createElement('div');\n",
              "          docLink.innerHTML = docLinkHtml;\n",
              "          element.appendChild(docLink);\n",
              "        }\n",
              "      </script>\n",
              "    </div>\n",
              "  </div>\n",
              "  "
            ]
          },
          "metadata": {},
          "execution_count": 16
        }
      ]
    },
    {
      "cell_type": "code",
      "source": [
        "print(type(load_exp_result('exp1')))"
      ],
      "metadata": {
        "colab": {
          "base_uri": "https://localhost:8080/"
        },
        "id": "1l0l0NJy8pmc",
        "outputId": "74fbafe0-7fef-451a-bfe9-ce8b67c460d9"
      },
      "execution_count": 17,
      "outputs": [
        {
          "output_type": "stream",
          "name": "stdout",
          "text": [
            "<class 'pandas.core.frame.DataFrame'>\n"
          ]
        }
      ]
    },
    {
      "cell_type": "code",
      "source": [
        "import seaborn as sns\n",
        "import matplotlib.pyplot as plt\n",
        "\n",
        "fig, ax = plt.subplots(1, 3)\n",
        "fig.set_size_inches(15, 6)\n",
        "sns.set_style(\"darkgrid\", {\"axes.facecolor\": \".9\"})\n",
        "\n",
        "sns.barplot(x='n_layer', y='train_acc', hue='hid_dim', data=df, ax=ax[0])\n",
        "sns.barplot(x='n_layer', y='val_acc', hue='hid_dim', data=df, ax=ax[1])\n",
        "sns.barplot(x='n_layer', y='test_acc', hue='hid_dim', data=df, ax=ax[2])"
      ],
      "metadata": {
        "colab": {
          "base_uri": "https://localhost:8080/",
          "height": 406
        },
        "id": "M2xTTdx6_MvB",
        "outputId": "d51a6564-2556-432f-a9f7-f587d295ac4c"
      },
      "execution_count": 18,
      "outputs": [
        {
          "output_type": "execute_result",
          "data": {
            "text/plain": [
              "<matplotlib.axes._subplots.AxesSubplot at 0x7fcf4cea1090>"
            ]
          },
          "metadata": {},
          "execution_count": 18
        },
        {
          "output_type": "display_data",
          "data": {
            "text/plain": [
              "<Figure size 1080x432 with 3 Axes>"
            ],
            "image/png": "[encoded data removed]"
          },
          "metadata": {
            "needs_background": "light"
          }
        }
      ]
    },
    {
      "cell_type": "code",
      "source": [
        "var1 = 'n_layer'\n",
        "var2 = 'hid_dim'\n",
        "\n",
        "df = load_exp_result('exp1')\n",
        "list_v1 = df[var1].unique()\n",
        "list_v2 = df[var2].unique()\n",
        "print(list_v1, list_v2)"
      ],
      "metadata": {
        "colab": {
          "base_uri": "https://localhost:8080/"
        },
        "id": "PLqtqmnTHU93",
        "outputId": "9706fe27-44b6-4d61-d27e-f97049dde4d4"
      },
      "execution_count": 19,
      "outputs": [
        {
          "output_type": "stream",
          "name": "stdout",
          "text": [
            "[1 2 3] [300 500]\n"
          ]
        }
      ]
    },
    {
      "cell_type": "code",
      "execution_count": 20,
      "metadata": {
        "id": "5zyzDtsaz1__",
        "colab": {
          "base_uri": "https://localhost:8080/",
          "height": 443
        },
        "outputId": "f67abb15-598a-44b6-aa12-9fa910535493"
      },
      "outputs": [
        {
          "output_type": "display_data",
          "data": {
            "text/plain": [
              "<Figure size 707.375x432 with 6 Axes>"
            ],
            "image/png": "[encoded data removed]"
          },
          "metadata": {}
        }
      ],
      "source": [
        "list_data = []\n",
        "\n",
        "for value1 in list_v1:\n",
        "    for value2 in list_v2:\n",
        "        row = df.loc[df[var1]==value1]\n",
        "        row = row.loc[df[var2]==value2]\n",
        "\n",
        "        train_losses = list(row.train_losses)[0]\n",
        "        val_losses = list(row.val_losses)[0]\n",
        "        \n",
        "        for epoch, train_loss in enumerate(train_losses):\n",
        "            list_data.append({'type':'train', 'loss':train_loss, 'epoch':epoch, var1:value1, var2:value2})\n",
        "        for epoch, val_loss in enumerate(val_losses):\n",
        "            list_data.append({'type':'val', 'loss':val_loss, 'epoch':epoch, var1:value1, var2:value2})\n",
        "        \n",
        "df = pd.DataFrame(list_data)\n",
        "g = sns.FacetGrid(df, row=var2, col=var1, hue='type', margin_titles=True, sharey=False)\n",
        "g = g.map(plt.plot, 'epoch', 'loss', marker='.')\n",
        "g.add_legend()\n",
        "g.fig.suptitle('Train loss vs Val loss')\n",
        "plt.subplots_adjust(top=0.89)"
      ]
    },
    {
      "cell_type": "code",
      "execution_count": 21,
      "metadata": {
        "id": "fSa_VzLnz2AA",
        "colab": {
          "base_uri": "https://localhost:8080/",
          "height": 443
        },
        "outputId": "e732dff2-eb28-40ac-fd6e-4913cc77b4ff"
      },
      "outputs": [
        {
          "output_type": "display_data",
          "data": {
            "text/plain": [
              "<Figure size 707.375x432 with 6 Axes>"
            ],
            "image/png": "[encoded data removed]"
          },
          "metadata": {}
        }
      ],
      "source": [
        "var1 = 'n_layer'\n",
        "var2 = 'hid_dim'\n",
        "\n",
        "df = load_exp_result('exp1')\n",
        "list_v1 = df[var1].unique()\n",
        "list_v2 = df[var2].unique()\n",
        "list_data = []\n",
        "\n",
        "for value1 in list_v1:\n",
        "    for value2 in list_v2:\n",
        "        row = df.loc[df[var1]==value1]\n",
        "        row = row.loc[df[var2]==value2]\n",
        "        \n",
        "        train_accs = list(row.train_accs)[0]\n",
        "        val_accs = list(row.val_accs)[0]\n",
        "        test_acc = list(row.test_acc)[0]\n",
        "        \n",
        "        for epoch, train_acc in enumerate(train_accs):\n",
        "            list_data.append({'type':'train', 'Acc':train_acc, 'test_acc':test_acc, 'epoch':epoch, var1:value1, var2:value2})\n",
        "        for epoch, val_acc in enumerate(val_accs):\n",
        "            list_data.append({'type':'val', 'Acc':val_acc, 'test_acc':test_acc, 'epoch':epoch, var1:value1, var2:value2})\n",
        "        \n",
        "df = pd.DataFrame(list_data)\n",
        "g = sns.FacetGrid(df, row=var2, col=var1, hue='type', margin_titles=True, sharey=False)\n",
        "g = g.map(plt.plot, 'epoch', 'Acc', marker='.')\n",
        "\n",
        "def show_acc(x, y, metric, **kwargs):\n",
        "    plt.scatter(x, y, alpha=0.3, s=1)\n",
        "    metric = \"Test Acc: {:1.3f}\".format(list(metric.values)[0])\n",
        "    plt.text(0.05, 0.95, metric,  horizontalalignment='left', verticalalignment='center', transform=plt.gca().transAxes, bbox=dict(facecolor='yellow', alpha=0.5, boxstyle=\"round,pad=0.1\"))\n",
        "g = g.map(show_acc, 'epoch', 'Acc', 'test_acc')\n",
        "\n",
        "g.add_legend()\n",
        "g.fig.suptitle('Train Accuracy vs Val Accuracy')\n",
        "plt.subplots_adjust(top=0.89)"
      ]
    }
  ]
}