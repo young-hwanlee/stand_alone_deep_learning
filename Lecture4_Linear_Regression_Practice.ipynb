{
  "nbformat": 4,
  "nbformat_minor": 0,
  "metadata": {
    "colab": {
      "name": "Lecture4_Linear_Regression_Practice.ipynb",
      "provenance": [],
      "collapsed_sections": [],
      "authorship_tag": "ABX9TyOQx2KrIPq9etm9dRMsiLcH",
      "include_colab_link": true
    },
    "kernelspec": {
      "name": "python3",
      "display_name": "Python 3"
    },
    "language_info": {
      "name": "python"
    }
  },
  "cells": [
    {
      "cell_type": "markdown",
      "metadata": {
        "id": "view-in-github",
        "colab_type": "text"
      },
      "source": [
        "<a href=\"https://colab.research.google.com/github/young-hwanlee/stand_alone_deep_learning/blob/main/Lecture4_Linear_Regression_Practice.ipynb\" target=\"_parent\"><img src=\"https://colab.research.google.com/assets/colab-badge.svg\" alt=\"Open In Colab\"/></a>"
      ]
    },
    {
      "cell_type": "code",
      "source": [
        "!gist clone https://github.com/young-hwanlee/stand_alone_deep_learning.git"
      ],
      "metadata": {
        "colab": {
          "base_uri": "https://localhost:8080/"
        },
        "id": "QICCKbXxlNTL",
        "outputId": "c119f817-d0b8-4cf4-8e5d-22670b92b41a"
      },
      "execution_count": null,
      "outputs": [
        {
          "output_type": "stream",
          "name": "stdout",
          "text": [
            "/bin/bash: gist: command not found\n"
          ]
        }
      ]
    },
    {
      "cell_type": "code",
      "execution_count": null,
      "metadata": {
        "id": "iyoCyGjwn8QJ",
        "colab": {
          "base_uri": "https://localhost:8080/"
        },
        "outputId": "51cf1686-2ee2-47ec-fb01-c335dbd261d2"
      },
      "outputs": [
        {
          "output_type": "stream",
          "name": "stdout",
          "text": [
            "5\n"
          ]
        }
      ],
      "source": [
        "a = 5\n",
        "print(a)"
      ]
    },
    {
      "cell_type": "code",
      "source": [
        "b = 3\n",
        "c = 4\n",
        "print(a, b, c)"
      ],
      "metadata": {
        "colab": {
          "base_uri": "https://localhost:8080/"
        },
        "id": "qtXuj_bCH3Ne",
        "outputId": "a3cc54fc-98f2-4e6d-f48c-f5288e68e782"
      },
      "execution_count": null,
      "outputs": [
        {
          "output_type": "stream",
          "name": "stdout",
          "text": [
            "5 3 4\n"
          ]
        }
      ]
    },
    {
      "cell_type": "code",
      "source": [
        "a = 6\n",
        "print(a, b, c)"
      ],
      "metadata": {
        "colab": {
          "base_uri": "https://localhost:8080/"
        },
        "id": "FZn5LOXYIgay",
        "outputId": "7706d898-d604-4935-de20-deb72cc2d148"
      },
      "execution_count": null,
      "outputs": [
        {
          "output_type": "stream",
          "name": "stdout",
          "text": [
            "6 3 4\n"
          ]
        }
      ]
    },
    {
      "cell_type": "code",
      "source": [
        "X = [i for i in range(10)]\n",
        "print(X)"
      ],
      "metadata": {
        "colab": {
          "base_uri": "https://localhost:8080/"
        },
        "id": "lxCHhzlTJFnH",
        "outputId": "87ba0f97-e624-405e-b99c-503d7fe9392d"
      },
      "execution_count": null,
      "outputs": [
        {
          "output_type": "stream",
          "name": "stdout",
          "text": [
            "[0, 1, 2, 3, 4, 5, 6, 7, 8, 9]\n"
          ]
        }
      ]
    },
    {
      "cell_type": "code",
      "source": [
        "X = list(range(10))\n",
        "print(X)"
      ],
      "metadata": {
        "colab": {
          "base_uri": "https://localhost:8080/"
        },
        "id": "yJJ1sJH8JGOs",
        "outputId": "cb1c40ab-e33e-46ed-9f48-2c7949b98cb7"
      },
      "execution_count": null,
      "outputs": [
        {
          "output_type": "stream",
          "name": "stdout",
          "text": [
            "[0, 1, 2, 3, 4, 5, 6, 7, 8, 9]\n"
          ]
        }
      ]
    },
    {
      "cell_type": "code",
      "source": [
        "Y = [1, 1, 2, 4, 5, 7, 8, 9, 9, 10]\n",
        "print(len(Y))"
      ],
      "metadata": {
        "colab": {
          "base_uri": "https://localhost:8080/"
        },
        "id": "-xMDUlHiJGYK",
        "outputId": "7d5413de-e17d-44fe-e7b4-ba32707edf2d"
      },
      "execution_count": null,
      "outputs": [
        {
          "output_type": "stream",
          "name": "stdout",
          "text": [
            "10\n"
          ]
        }
      ]
    },
    {
      "cell_type": "code",
      "source": [
        "import matplotlib.pyplot as plt\n",
        "plt.plot(X, Y)"
      ],
      "metadata": {
        "colab": {
          "base_uri": "https://localhost:8080/",
          "height": 282
        },
        "id": "_hTQJYLNJW2Y",
        "outputId": "e1a1dfab-6da3-4dbd-dd0c-9525f0e39e14"
      },
      "execution_count": null,
      "outputs": [
        {
          "output_type": "execute_result",
          "data": {
            "text/plain": [
              "[<matplotlib.lines.Line2D at 0x7f73b16db7d0>]"
            ]
          },
          "metadata": {},
          "execution_count": 8
        },
        {
          "output_type": "display_data",
          "data": {
            "text/plain": [
              "<Figure size 432x288 with 1 Axes>"
            ],
            "image/png": "[encoded data removed]"
          },
          "metadata": {
            "needs_background": "light"
          }
        }
      ]
    },
    {
      "cell_type": "code",
      "source": [
        "plt.scatter(X, Y)"
      ],
      "metadata": {
        "colab": {
          "base_uri": "https://localhost:8080/",
          "height": 282
        },
        "id": "otPFkg40JXAG",
        "outputId": "f2f94f36-2d69-4c0a-92d7-79e0cca56e4a"
      },
      "execution_count": null,
      "outputs": [
        {
          "output_type": "execute_result",
          "data": {
            "text/plain": [
              "<matplotlib.collections.PathCollection at 0x7f73b11b1410>"
            ]
          },
          "metadata": {},
          "execution_count": 9
        },
        {
          "output_type": "display_data",
          "data": {
            "text/plain": [
              "<Figure size 432x288 with 1 Axes>"
            ],
            "image/png": "[encoded data removed]"
          },
          "metadata": {
            "needs_background": "light"
          }
        }
      ]
    },
    {
      "cell_type": "code",
      "source": [
        "def h(x, w):\n",
        "    return x*w\n",
        "h(5, 3)"
      ],
      "metadata": {
        "colab": {
          "base_uri": "https://localhost:8080/"
        },
        "id": "-tWNnCxfJXH_",
        "outputId": "3f12d054-87ed-40f0-d8d2-e3d88f9dfdc7"
      },
      "execution_count": null,
      "outputs": [
        {
          "output_type": "execute_result",
          "data": {
            "text/plain": [
              "15"
            ]
          },
          "metadata": {},
          "execution_count": 10
        }
      ]
    },
    {
      "cell_type": "code",
      "source": [
        "class H():\n",
        "\n",
        "    def __init__(self, w):\n",
        "        self.w = w\n",
        "\n",
        "    def forward(x):\n",
        "        return self.w * x\n",
        "\n",
        "def cost(h, X, Y):\n",
        "    for i in range(len(X)):\n",
        "        print(X[i], Y[i])\n",
        "\n",
        "h = H(4)\n",
        "cost(h, X, Y)"
      ],
      "metadata": {
        "colab": {
          "base_uri": "https://localhost:8080/"
        },
        "id": "X1qJKz-KJXPM",
        "outputId": "20ed0bb6-e531-4709-9591-27426a69336d"
      },
      "execution_count": null,
      "outputs": [
        {
          "output_type": "stream",
          "name": "stdout",
          "text": [
            "0 1\n",
            "1 1\n",
            "2 2\n",
            "3 4\n",
            "4 5\n",
            "5 7\n",
            "6 8\n",
            "7 9\n",
            "8 9\n",
            "9 10\n"
          ]
        }
      ]
    },
    {
      "cell_type": "code",
      "source": [
        "print(h)"
      ],
      "metadata": {
        "colab": {
          "base_uri": "https://localhost:8080/"
        },
        "id": "V4_23E0MKxNw",
        "outputId": "361e0590-935b-4507-8cfd-e20e7af24b95"
      },
      "execution_count": null,
      "outputs": [
        {
          "output_type": "stream",
          "name": "stdout",
          "text": [
            "<__main__.H object at 0x7f73b1177cd0>\n"
          ]
        }
      ]
    },
    {
      "cell_type": "code",
      "source": [
        "class H():\n",
        "\n",
        "    def __init__(self, w):\n",
        "        self.w = w\n",
        "\n",
        "    def forward(self, x):\n",
        "        return self.w * x\n",
        "\n",
        "def cost(h, X, Y):\n",
        "    error = 0\n",
        "    for i in range(len(X)):\n",
        "        error += (h.forward(X[i]) - Y[i])**2\n",
        "    error = error / len(X)\n",
        "    return error\n",
        "\n",
        "h = H(4)\n",
        "cost(h, X, Y)"
      ],
      "metadata": {
        "colab": {
          "base_uri": "https://localhost:8080/"
        },
        "id": "g3MtG-AQKxm9",
        "outputId": "3a0e4ef0-5599-457a-c067-e408cb1e6d9f"
      },
      "execution_count": null,
      "outputs": [
        {
          "output_type": "execute_result",
          "data": {
            "text/plain": [
              "222.2"
            ]
          },
          "metadata": {},
          "execution_count": 13
        }
      ]
    },
    {
      "cell_type": "code",
      "source": [
        "for i in range(100):\n",
        "    w = i * 0.1\n",
        "    print(w)"
      ],
      "metadata": {
        "id": "nsLPOoXfKyD1",
        "colab": {
          "base_uri": "https://localhost:8080/"
        },
        "outputId": "14070420-5dba-43de-cb32-12dda0f99853"
      },
      "execution_count": null,
      "outputs": [
        {
          "output_type": "stream",
          "name": "stdout",
          "text": [
            "0.0\n",
            "0.1\n",
            "0.2\n",
            "0.30000000000000004\n",
            "0.4\n",
            "0.5\n",
            "0.6000000000000001\n",
            "0.7000000000000001\n",
            "0.8\n",
            "0.9\n",
            "1.0\n",
            "1.1\n",
            "1.2000000000000002\n",
            "1.3\n",
            "1.4000000000000001\n",
            "1.5\n",
            "1.6\n",
            "1.7000000000000002\n",
            "1.8\n",
            "1.9000000000000001\n",
            "2.0\n",
            "2.1\n",
            "2.2\n",
            "2.3000000000000003\n",
            "2.4000000000000004\n",
            "2.5\n",
            "2.6\n",
            "2.7\n",
            "2.8000000000000003\n",
            "2.9000000000000004\n",
            "3.0\n",
            "3.1\n",
            "3.2\n",
            "3.3000000000000003\n",
            "3.4000000000000004\n",
            "3.5\n",
            "3.6\n",
            "3.7\n",
            "3.8000000000000003\n",
            "3.9000000000000004\n",
            "4.0\n",
            "4.1000000000000005\n",
            "4.2\n",
            "4.3\n",
            "4.4\n",
            "4.5\n",
            "4.6000000000000005\n",
            "4.7\n",
            "4.800000000000001\n",
            "4.9\n",
            "5.0\n",
            "5.1000000000000005\n",
            "5.2\n",
            "5.300000000000001\n",
            "5.4\n",
            "5.5\n",
            "5.6000000000000005\n",
            "5.7\n",
            "5.800000000000001\n",
            "5.9\n",
            "6.0\n",
            "6.1000000000000005\n",
            "6.2\n",
            "6.300000000000001\n",
            "6.4\n",
            "6.5\n",
            "6.6000000000000005\n",
            "6.7\n",
            "6.800000000000001\n",
            "6.9\n",
            "7.0\n",
            "7.1000000000000005\n",
            "7.2\n",
            "7.300000000000001\n",
            "7.4\n",
            "7.5\n",
            "7.6000000000000005\n",
            "7.7\n",
            "7.800000000000001\n",
            "7.9\n",
            "8.0\n",
            "8.1\n",
            "8.200000000000001\n",
            "8.3\n",
            "8.4\n",
            "8.5\n",
            "8.6\n",
            "8.700000000000001\n",
            "8.8\n",
            "8.9\n",
            "9.0\n",
            "9.1\n",
            "9.200000000000001\n",
            "9.3\n",
            "9.4\n",
            "9.5\n",
            "9.600000000000001\n",
            "9.700000000000001\n",
            "9.8\n",
            "9.9\n"
          ]
        }
      ]
    },
    {
      "cell_type": "code",
      "source": [
        "for i in range(100):\n",
        "    w = i * 0.1\n",
        "    h = H(w)\n",
        "    c = cost(h, X, Y)\n",
        "    print(c)"
      ],
      "metadata": {
        "colab": {
          "base_uri": "https://localhost:8080/"
        },
        "id": "GtRz7oREKyQw",
        "outputId": "115c790d-b87e-4528-d2f9-2b31e32916c0"
      },
      "execution_count": null,
      "outputs": [
        {
          "output_type": "stream",
          "name": "stdout",
          "text": [
            "42.2\n",
            "35.585\n",
            "29.540000000000003\n",
            "24.064999999999998\n",
            "19.16\n",
            "14.825\n",
            "11.059999999999997\n",
            "7.864999999999999\n",
            "5.239999999999998\n",
            "3.185\n",
            "1.7\n",
            "0.7849999999999995\n",
            "0.4399999999999996\n",
            "0.6650000000000005\n",
            "1.4600000000000015\n",
            "2.825\n",
            "4.7600000000000025\n",
            "7.265000000000003\n",
            "10.34\n",
            "13.985000000000005\n",
            "18.2\n",
            "22.985000000000007\n",
            "28.34000000000001\n",
            "34.26500000000002\n",
            "40.760000000000026\n",
            "47.825\n",
            "55.460000000000015\n",
            "63.66500000000002\n",
            "72.44000000000003\n",
            "81.78500000000003\n",
            "91.7\n",
            "102.18500000000002\n",
            "113.24000000000004\n",
            "124.86500000000004\n",
            "137.06000000000003\n",
            "149.825\n",
            "163.16000000000003\n",
            "177.06500000000005\n",
            "191.54000000000002\n",
            "206.58500000000004\n",
            "222.2\n",
            "238.38500000000013\n",
            "255.14000000000004\n",
            "272.4649999999999\n",
            "290.36\n",
            "308.825\n",
            "327.8600000000001\n",
            "347.46500000000003\n",
            "367.6400000000001\n",
            "388.3850000000001\n",
            "409.7\n",
            "431.58500000000015\n",
            "454.03999999999996\n",
            "477.06500000000017\n",
            "500.66000000000014\n",
            "524.825\n",
            "549.5600000000002\n",
            "574.865\n",
            "600.7400000000001\n",
            "627.1850000000002\n",
            "654.2\n",
            "681.7850000000001\n",
            "709.94\n",
            "738.6650000000002\n",
            "767.9600000000002\n",
            "797.825\n",
            "828.2600000000002\n",
            "859.2650000000001\n",
            "890.8400000000001\n",
            "922.985\n",
            "955.7\n",
            "988.9850000000002\n",
            "1022.8399999999999\n",
            "1057.265\n",
            "1092.2600000000002\n",
            "1127.825\n",
            "1163.9600000000003\n",
            "1200.665\n",
            "1237.94\n",
            "1275.7850000000003\n",
            "1314.2\n",
            "1353.185\n",
            "1392.7400000000005\n",
            "1432.8650000000002\n",
            "1473.5600000000002\n",
            "1514.825\n",
            "1556.6599999999996\n",
            "1599.0650000000003\n",
            "1642.0400000000002\n",
            "1685.5850000000003\n",
            "1729.7\n",
            "1774.3849999999998\n",
            "1819.64\n",
            "1865.4650000000001\n",
            "1911.8600000000001\n",
            "1958.825\n",
            "2006.3600000000006\n",
            "2054.4650000000006\n",
            "2103.1400000000003\n",
            "2152.385\n"
          ]
        }
      ]
    },
    {
      "cell_type": "code",
      "source": [
        "print(h.w)"
      ],
      "metadata": {
        "colab": {
          "base_uri": "https://localhost:8080/"
        },
        "id": "AIILUX1iKyZA",
        "outputId": "ac498f7b-94d1-4ca9-cae3-6cfddb180863"
      },
      "execution_count": null,
      "outputs": [
        {
          "output_type": "stream",
          "name": "stdout",
          "text": [
            "9.9\n"
          ]
        }
      ]
    },
    {
      "cell_type": "code",
      "source": [
        "print(w)"
      ],
      "metadata": {
        "colab": {
          "base_uri": "https://localhost:8080/"
        },
        "id": "tdgoRwraKygQ",
        "outputId": "db48be52-44ca-47e5-e4b4-eaed1d8ce86a"
      },
      "execution_count": null,
      "outputs": [
        {
          "output_type": "stream",
          "name": "stdout",
          "text": [
            "9.9\n"
          ]
        }
      ]
    },
    {
      "cell_type": "code",
      "source": [
        "list_w = []\n",
        "list_c = []\n",
        "for i in range(100):\n",
        "    w = i * 0.1\n",
        "    h = H(w)\n",
        "    c = cost(h, X, Y)\n",
        "    list_w.append(w)\n",
        "    list_c.append(c)\n",
        "\n",
        "print(list_w)\n",
        "print(list_c)"
      ],
      "metadata": {
        "colab": {
          "base_uri": "https://localhost:8080/"
        },
        "id": "kEadh0GjSfM3",
        "outputId": "021462af-64f6-49be-dfcc-48c4eb30002c"
      },
      "execution_count": null,
      "outputs": [
        {
          "output_type": "stream",
          "name": "stdout",
          "text": [
            "[0.0, 0.1, 0.2, 0.30000000000000004, 0.4, 0.5, 0.6000000000000001, 0.7000000000000001, 0.8, 0.9, 1.0, 1.1, 1.2000000000000002, 1.3, 1.4000000000000001, 1.5, 1.6, 1.7000000000000002, 1.8, 1.9000000000000001, 2.0, 2.1, 2.2, 2.3000000000000003, 2.4000000000000004, 2.5, 2.6, 2.7, 2.8000000000000003, 2.9000000000000004, 3.0, 3.1, 3.2, 3.3000000000000003, 3.4000000000000004, 3.5, 3.6, 3.7, 3.8000000000000003, 3.9000000000000004, 4.0, 4.1000000000000005, 4.2, 4.3, 4.4, 4.5, 4.6000000000000005, 4.7, 4.800000000000001, 4.9, 5.0, 5.1000000000000005, 5.2, 5.300000000000001, 5.4, 5.5, 5.6000000000000005, 5.7, 5.800000000000001, 5.9, 6.0, 6.1000000000000005, 6.2, 6.300000000000001, 6.4, 6.5, 6.6000000000000005, 6.7, 6.800000000000001, 6.9, 7.0, 7.1000000000000005, 7.2, 7.300000000000001, 7.4, 7.5, 7.6000000000000005, 7.7, 7.800000000000001, 7.9, 8.0, 8.1, 8.200000000000001, 8.3, 8.4, 8.5, 8.6, 8.700000000000001, 8.8, 8.9, 9.0, 9.1, 9.200000000000001, 9.3, 9.4, 9.5, 9.600000000000001, 9.700000000000001, 9.8, 9.9]\n",
            "[42.2, 35.585, 29.540000000000003, 24.064999999999998, 19.16, 14.825, 11.059999999999997, 7.864999999999999, 5.239999999999998, 3.185, 1.7, 0.7849999999999995, 0.4399999999999996, 0.6650000000000005, 1.4600000000000015, 2.825, 4.7600000000000025, 7.265000000000003, 10.34, 13.985000000000005, 18.2, 22.985000000000007, 28.34000000000001, 34.26500000000002, 40.760000000000026, 47.825, 55.460000000000015, 63.66500000000002, 72.44000000000003, 81.78500000000003, 91.7, 102.18500000000002, 113.24000000000004, 124.86500000000004, 137.06000000000003, 149.825, 163.16000000000003, 177.06500000000005, 191.54000000000002, 206.58500000000004, 222.2, 238.38500000000013, 255.14000000000004, 272.4649999999999, 290.36, 308.825, 327.8600000000001, 347.46500000000003, 367.6400000000001, 388.3850000000001, 409.7, 431.58500000000015, 454.03999999999996, 477.06500000000017, 500.66000000000014, 524.825, 549.5600000000002, 574.865, 600.7400000000001, 627.1850000000002, 654.2, 681.7850000000001, 709.94, 738.6650000000002, 767.9600000000002, 797.825, 828.2600000000002, 859.2650000000001, 890.8400000000001, 922.985, 955.7, 988.9850000000002, 1022.8399999999999, 1057.265, 1092.2600000000002, 1127.825, 1163.9600000000003, 1200.665, 1237.94, 1275.7850000000003, 1314.2, 1353.185, 1392.7400000000005, 1432.8650000000002, 1473.5600000000002, 1514.825, 1556.6599999999996, 1599.0650000000003, 1642.0400000000002, 1685.5850000000003, 1729.7, 1774.3849999999998, 1819.64, 1865.4650000000001, 1911.8600000000001, 1958.825, 2006.3600000000006, 2054.4650000000006, 2103.1400000000003, 2152.385]\n"
          ]
        }
      ]
    },
    {
      "cell_type": "code",
      "source": [
        "plt.plot(list_w, list_c)\n",
        "plt.xlabel('w')\n",
        "plt.ylabel('cost')"
      ],
      "metadata": {
        "colab": {
          "base_uri": "https://localhost:8080/",
          "height": 296
        },
        "id": "yWDIciwSSfhy",
        "outputId": "323ff782-bd40-4bd1-f47b-0286283c78b2"
      },
      "execution_count": null,
      "outputs": [
        {
          "output_type": "execute_result",
          "data": {
            "text/plain": [
              "Text(0, 0.5, 'cost')"
            ]
          },
          "metadata": {},
          "execution_count": 19
        },
        {
          "output_type": "display_data",
          "data": {
            "text/plain": [
              "<Figure size 432x288 with 1 Axes>"
            ],
            "image/png": "[encoded data removed]"
          },
          "metadata": {
            "needs_background": "light"
          }
        }
      ]
    },
    {
      "cell_type": "code",
      "source": [
        "plt.scatter(list_w, list_c)\n",
        "plt.xlabel('w')\n",
        "plt.ylabel('cost')"
      ],
      "metadata": {
        "colab": {
          "base_uri": "https://localhost:8080/",
          "height": 296
        },
        "id": "HqLcQuN8SfrG",
        "outputId": "2611bff6-3dc5-474c-cda7-9090ee725849"
      },
      "execution_count": null,
      "outputs": [
        {
          "output_type": "execute_result",
          "data": {
            "text/plain": [
              "Text(0, 0.5, 'cost')"
            ]
          },
          "metadata": {},
          "execution_count": 20
        },
        {
          "output_type": "display_data",
          "data": {
            "text/plain": [
              "<Figure size 432x288 with 1 Axes>"
            ],
            "image/png": "[encoded data removed]"
          },
          "metadata": {
            "needs_background": "light"
          }
        }
      ]
    },
    {
      "cell_type": "code",
      "source": [
        "plt.scatter(list_w, list_c, s=0.1)\n",
        "plt.xlabel('w')\n",
        "plt.ylabel('cost')"
      ],
      "metadata": {
        "colab": {
          "base_uri": "https://localhost:8080/",
          "height": 296
        },
        "id": "qsJYag9gSfzU",
        "outputId": "954fd50f-7baf-4ce2-90bb-a72f9401e1c5"
      },
      "execution_count": null,
      "outputs": [
        {
          "output_type": "execute_result",
          "data": {
            "text/plain": [
              "Text(0, 0.5, 'cost')"
            ]
          },
          "metadata": {},
          "execution_count": 21
        },
        {
          "output_type": "display_data",
          "data": {
            "text/plain": [
              "<Figure size 432x288 with 1 Axes>"
            ],
            "image/png": "[encoded data removed]"
          },
          "metadata": {
            "needs_background": "light"
          }
        }
      ]
    },
    {
      "cell_type": "code",
      "source": [
        "list_w = []\n",
        "list_c = []\n",
        "for i in range(-100, 100):\n",
        "    w = i * 0.1\n",
        "    h = H(w)\n",
        "    c = cost(h, X, Y)\n",
        "    list_w.append(w)\n",
        "    list_c.append(c)\n",
        "\n",
        "plt.scatter(list_w, list_c, s=0.1)\n",
        "plt.xlabel('w')\n",
        "plt.ylabel('cost')"
      ],
      "metadata": {
        "colab": {
          "base_uri": "https://localhost:8080/",
          "height": 296
        },
        "id": "_jVe4R6GSf6V",
        "outputId": "81b24ea0-b52a-471f-927c-95fc1e49e4f1"
      },
      "execution_count": null,
      "outputs": [
        {
          "output_type": "execute_result",
          "data": {
            "text/plain": [
              "Text(0, 0.5, 'cost')"
            ]
          },
          "metadata": {},
          "execution_count": 22
        },
        {
          "output_type": "display_data",
          "data": {
            "text/plain": [
              "<Figure size 432x288 with 1 Axes>"
            ],
            "image/png": "[encoded data removed]"
          },
          "metadata": {
            "needs_background": "light"
          }
        }
      ]
    },
    {
      "cell_type": "code",
      "source": [
        "def cal_grad(w, cost):\n",
        "    h = H(w)\n",
        "    cost1 = cost(h, X, Y)\n",
        "\n",
        "    epsilon = 0.001\n",
        "    h = H(w + epsilon)\n",
        "    cost2 = cost(h, X, Y)\n",
        "\n",
        "    delta_cost = cost2 - cost1\n",
        "    delta_w = epsilon\n",
        "    grad = delta_cost / delta_w\n",
        "\n",
        "    return grad\n",
        "    \n",
        "cal_grad(4, cost)"
      ],
      "metadata": {
        "id": "Y626bkrsSgBr",
        "colab": {
          "base_uri": "https://localhost:8080/"
        },
        "outputId": "6285342a-d56a-4418-ed00-ceed5ac05feb"
      },
      "execution_count": null,
      "outputs": [
        {
          "output_type": "execute_result",
          "data": {
            "text/plain": [
              "159.02850000003355"
            ]
          },
          "metadata": {},
          "execution_count": 23
        }
      ]
    },
    {
      "cell_type": "code",
      "source": [
        "w = 4\n",
        "learning_rate = 0.001\n",
        "\n",
        "# w = w + learning_rate * (-cal_grad(w, cost))\n",
        "# print(w)"
      ],
      "metadata": {
        "id": "c0Ayhk0oTSzP"
      },
      "execution_count": null,
      "outputs": []
    },
    {
      "cell_type": "code",
      "source": [
        "for i in range(10):\n",
        "    # w = w + learning_rate * (-cal_grad(w, cost))\n",
        "    w -= learning_rate * cal_grad(w, cost)\n",
        "    print(w)"
      ],
      "metadata": {
        "colab": {
          "base_uri": "https://localhost:8080/"
        },
        "id": "6833N4wmTTEF",
        "outputId": "e4f710aa-3934-4829-81db-ac91c165f17c"
      },
      "execution_count": null,
      "outputs": [
        {
          "output_type": "stream",
          "name": "stdout",
          "text": [
            "3.8409714999999665\n",
            "3.6910076245000027\n",
            "3.549591689903508\n",
            "3.416236463578997\n",
            "3.290482485154996\n",
            "3.171896483501172\n",
            "3.0600698839416225\n",
            "2.9546174005569696\n",
            "2.855175708725227\n",
            "2.761402193327882\n"
          ]
        }
      ]
    },
    {
      "cell_type": "code",
      "source": [
        "w = 4\n",
        "learning_rate = 0.01\n",
        "\n",
        "for i in range(10):\n",
        "    # w = w + learning_rate * (-cal_grad(w, cost))\n",
        "    w -= learning_rate * cal_grad(w, cost)\n",
        "    print(w)"
      ],
      "metadata": {
        "colab": {
          "base_uri": "https://localhost:8080/"
        },
        "id": "xOFOrP0STTLH",
        "outputId": "cb561335-96d7-4bd3-833f-a31cd30142f9"
      },
      "execution_count": null,
      "outputs": [
        {
          "output_type": "stream",
          "name": "stdout",
          "text": [
            "2.4097149999996645\n",
            "1.7258924499999893\n",
            "1.4318487535000344\n",
            "1.3054099640050296\n",
            "1.2510412845221694\n",
            "1.2276627523445358\n",
            "1.217609983508152\n",
            "1.2132872929085068\n",
            "1.2114285359506587\n",
            "1.210629270458786\n"
          ]
        }
      ]
    },
    {
      "cell_type": "code",
      "source": [
        "def cal_grad(w, cost):\n",
        "    h = H(w)\n",
        "    cost1 = cost(h, X, Y)\n",
        "\n",
        "    epsilon = 0.001\n",
        "    h = H(w + epsilon)\n",
        "    cost2 = cost(h, X, Y)\n",
        "\n",
        "    delta_cost = cost2 - cost1\n",
        "    delta_w = epsilon\n",
        "    grad = delta_cost / delta_w\n",
        "\n",
        "    return grad, (cost1 + cost2) / 2\n",
        "\n",
        "w = 4\n",
        "learning_rate = 0.01\n",
        "\n",
        "for i in range(10):\n",
        "    grad, mean_cost = cal_grad(w, cost)\n",
        "    w -= learning_rate * grad\n",
        "    print(w, mean_cost)"
      ],
      "metadata": {
        "colab": {
          "base_uri": "https://localhost:8080/"
        },
        "id": "X9qzM53bTTQ2",
        "outputId": "ffe63811-a14c-4c41-da58-335d0f498188"
      },
      "execution_count": null,
      "outputs": [
        {
          "output_type": "stream",
          "name": "stdout",
          "text": [
            "2.4097149999996645 222.27951425\n",
            "1.7258924499999893 41.45555799238956\n",
            "1.4318487535000344 8.021208480384255\n",
            "1.3054099640050296 1.8391972556110414\n",
            "1.2510412845221694 0.696143380150062\n",
            "1.2276627523445358 0.4847927185772622\n",
            "1.217609983508152 0.44571398125243855\n",
            "1.2132872929085068 0.4384883227210767\n",
            "1.2114285359506587 0.43715229845862746\n",
            "1.210629270458786 0.43690526757250037\n"
          ]
        }
      ]
    },
    {
      "cell_type": "code",
      "source": [
        "def cal_grad2(w, cost):\n",
        "    h = H(w)\n",
        "    grad = 0\n",
        "\n",
        "    for i in range(len(X)):\n",
        "        grad += 2 * (h.forward(X[i]) - Y[i]) * X[i]\n",
        "    grad = grad / len(X)\n",
        "\n",
        "    c = cost(h, X, Y)\n",
        "    return grad, c\n",
        "\n",
        "w1 = 4\n",
        "w2 = 4\n",
        "learning_rate = 0.01\n",
        "list_w1, list_c1, list_w2, list_c2 = [], [], [], []\n",
        "\n",
        "for i in range(100):\n",
        "    grad, mean_cost = cal_grad(w1, cost)\n",
        "    grad2, mean_cost2 = cal_grad2(w2, cost)\n",
        "\n",
        "    w1 -= learning_rate * grad\n",
        "    w2 -= learning_rate * grad2\n",
        "    list_w1.append(w1)\n",
        "    list_w2.append(w2)\n",
        "    list_c1.append(mean_cost)\n",
        "    list_c2.append(mean_cost2)\n",
        "\n",
        "    # print(w1, mean_cost, w2, mean_cost2)\n",
        "\n",
        "plt.scatter(list_w1, list_c1)\n",
        "plt.scatter(list_w2, list_c2)"
      ],
      "metadata": {
        "id": "ODtPpPeXJXV4",
        "colab": {
          "base_uri": "https://localhost:8080/",
          "height": 282
        },
        "outputId": "8f23ebb7-aad3-4b92-e427-ebd318af3a77"
      },
      "execution_count": null,
      "outputs": [
        {
          "output_type": "execute_result",
          "data": {
            "text/plain": [
              "<matplotlib.collections.PathCollection at 0x7f73b0fef410>"
            ]
          },
          "metadata": {},
          "execution_count": 28
        },
        {
          "output_type": "display_data",
          "data": {
            "text/plain": [
              "<Figure size 432x288 with 1 Axes>"
            ],
            "image/png": "[encoded data removed]"
          },
          "metadata": {
            "needs_background": "light"
          }
        }
      ]
    }
  ]
}