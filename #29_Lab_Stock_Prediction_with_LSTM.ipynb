{
  "nbformat": 4,
  "nbformat_minor": 0,
  "metadata": {
    "colab": {
      "name": "#29_Lab_Stock_Prediction_with_LSTM.ipynb",
      "provenance": [],
      "authorship_tag": "ABX9TyMVzDV5KaPQ85yaG8h44kdR",
      "include_colab_link": true
    },
    "kernelspec": {
      "name": "python3",
      "display_name": "Python 3"
    },
    "language_info": {
      "name": "python"
    },
    "accelerator": "GPU",
    "gpuClass": "standard"
  },
  "cells": [
    {
      "cell_type": "markdown",
      "metadata": {
        "id": "view-in-github",
        "colab_type": "text"
      },
      "source": [
        "<a href=\"https://colab.research.google.com/github/young-hwanlee/stand_alone_deep_learning/blob/main/%2329_Lab_Stock_Prediction_with_LSTM.ipynb\" target=\"_parent\"><img src=\"https://colab.research.google.com/assets/colab-badge.svg\" alt=\"Open In Colab\"/></a>"
      ]
    },
    {
      "cell_type": "code",
      "execution_count": null,
      "metadata": {
        "id": "hIWueUciYg0D",
        "colab": {
          "base_uri": "https://localhost:8080/"
        },
        "outputId": "aea84d0d-4f38-44d0-b9eb-725aac0680cd"
      },
      "outputs": [
        {
          "output_type": "stream",
          "name": "stdout",
          "text": [
            "1.12.0+cu113\n",
            "Populating the interactive namespace from numpy and matplotlib\n"
          ]
        }
      ],
      "source": [
        "import pandas as pd\n",
        "import pandas_datareader.data as pdr\n",
        "import datetime\n",
        "import torch\n",
        "import torch.nn as nn\n",
        "from torch.utils.data import Dataset, DataLoader\n",
        "import torch.optim as optim\n",
        "import numpy as np\n",
        "import argparse\n",
        "from copy import deepcopy   # Add deepcopy for args\n",
        "from sklearn.metrics import mean_absolute_error\n",
        "\n",
        "import seaborn as sns\n",
        "import matplotlib.pyplot as plt\n",
        "\n",
        "print(torch.__version__)\n",
        "%matplotlib inline\n",
        "%pylab inline\n",
        "pylab.rcParams['figure.figsize'] = (15, 9)"
      ]
    },
    {
      "cell_type": "markdown",
      "source": [
        "# Pandas DataReader Test"
      ],
      "metadata": {
        "id": "DjZUM_f0RdNt"
      }
    },
    {
      "cell_type": "code",
      "source": [
        "# We will look at stock prices over the past year, starting at January 1, 2016.\n",
        "start = (2000, 12, 1)\n",
        "start = datetime.datetime(*start)\n",
        "end = datetime.date.today()\n",
        "\n",
        "print(start)\n",
        "print(end)\n",
        "\n",
        "# =============================================================\n",
        "# google = pdr.DataReader(name='028050.KS', data_source='yahoo', start=start, end=end)\n",
        "\n",
        "# ---------------------------------------------------------------------------\n",
        "# RemoteDataError                           Traceback (most recent call last)\n",
        "# <ipython-input-4-b4abc2ced63c> in <module>()\n",
        "#       4 end = datetime.date.today()\n",
        "#       5 \n",
        "# ----> 6 google = pdr.DataReader(name='028050.KS', data_source='yahoo', start=start, end=end)\n",
        "# ============================================================="
      ],
      "metadata": {
        "colab": {
          "base_uri": "https://localhost:8080/"
        },
        "id": "WZgwfOPpv_Gz",
        "outputId": "c6ff0765-53d1-4b17-e8e9-f115c86073d7"
      },
      "execution_count": null,
      "outputs": [
        {
          "output_type": "stream",
          "name": "stdout",
          "text": [
            "2000-12-01 00:00:00\n",
            "2022-08-12\n"
          ]
        }
      ]
    },
    {
      "cell_type": "code",
      "source": [
        "# =============================================================\n",
        "pip install yfinance\n",
        "# ============================================================="
      ],
      "metadata": {
        "colab": {
          "base_uri": "https://localhost:8080/",
          "height": 531
        },
        "id": "CCZS8C1hPmQs",
        "outputId": "1f4b2804-90f3-4076-c40c-8994cba580c5"
      },
      "execution_count": null,
      "outputs": [
        {
          "output_type": "stream",
          "name": "stdout",
          "text": [
            "Looking in indexes: https://pypi.org/simple, https://us-python.pkg.dev/colab-wheels/public/simple/\n",
            "Collecting yfinance\n",
            "  Downloading yfinance-0.1.74-py2.py3-none-any.whl (27 kB)\n",
            "Requirement already satisfied: numpy>=1.15 in /usr/local/lib/python3.7/dist-packages (from yfinance) (1.21.6)\n",
            "Requirement already satisfied: pandas>=0.24.0 in /usr/local/lib/python3.7/dist-packages (from yfinance) (1.3.5)\n",
            "Requirement already satisfied: lxml>=4.5.1 in /usr/local/lib/python3.7/dist-packages (from yfinance) (4.9.1)\n",
            "Collecting requests>=2.26\n",
            "  Downloading requests-2.28.1-py3-none-any.whl (62 kB)\n",
            "\u001b[K     |████████████████████████████████| 62 kB 2.0 MB/s \n",
            "\u001b[?25hRequirement already satisfied: multitasking>=0.0.7 in /usr/local/lib/python3.7/dist-packages (from yfinance) (0.0.11)\n",
            "Requirement already satisfied: python-dateutil>=2.7.3 in /usr/local/lib/python3.7/dist-packages (from pandas>=0.24.0->yfinance) (2.8.2)\n",
            "Requirement already satisfied: pytz>=2017.3 in /usr/local/lib/python3.7/dist-packages (from pandas>=0.24.0->yfinance) (2022.1)\n",
            "Requirement already satisfied: six>=1.5 in /usr/local/lib/python3.7/dist-packages (from python-dateutil>=2.7.3->pandas>=0.24.0->yfinance) (1.15.0)\n",
            "Requirement already satisfied: certifi>=2017.4.17 in /usr/local/lib/python3.7/dist-packages (from requests>=2.26->yfinance) (2022.6.15)\n",
            "Requirement already satisfied: urllib3<1.27,>=1.21.1 in /usr/local/lib/python3.7/dist-packages (from requests>=2.26->yfinance) (1.24.3)\n",
            "Requirement already satisfied: idna<4,>=2.5 in /usr/local/lib/python3.7/dist-packages (from requests>=2.26->yfinance) (2.10)\n",
            "Requirement already satisfied: charset-normalizer<3,>=2 in /usr/local/lib/python3.7/dist-packages (from requests>=2.26->yfinance) (2.1.0)\n",
            "Installing collected packages: requests, yfinance\n",
            "  Attempting uninstall: requests\n",
            "    Found existing installation: requests 2.23.0\n",
            "    Uninstalling requests-2.23.0:\n",
            "      Successfully uninstalled requests-2.23.0\n",
            "Successfully installed requests-2.28.1 yfinance-0.1.74\n"
          ]
        },
        {
          "output_type": "display_data",
          "data": {
            "application/vnd.colab-display-data+json": {
              "pip_warning": {
                "packages": [
                  "requests"
                ]
              }
            }
          },
          "metadata": {}
        }
      ]
    },
    {
      "cell_type": "code",
      "source": [
        "# =============================================================\n",
        "import yfinance as yfin\n",
        "yfin.pdr_override()\n",
        "\n",
        "google = pdr.get_data_yahoo(tickers='028050.KS', start=start, end=end)\n",
        "# ============================================================="
      ],
      "metadata": {
        "colab": {
          "base_uri": "https://localhost:8080/"
        },
        "id": "xtPe1IoMv_Dv",
        "outputId": "dc84868c-a206-45f6-e420-55de387f383a"
      },
      "execution_count": null,
      "outputs": [
        {
          "output_type": "stream",
          "name": "stdout",
          "text": [
            "\r[*********************100%***********************]  1 of 1 completed\n"
          ]
        }
      ]
    },
    {
      "cell_type": "code",
      "source": [
        "google.Low.plot(grid=True)"
      ],
      "metadata": {
        "colab": {
          "base_uri": "https://localhost:8080/",
          "height": 532
        },
        "id": "wBrXa8bPP9bd",
        "outputId": "ca478490-5049-4ec8-fcd9-6a6dc93c1f8c"
      },
      "execution_count": null,
      "outputs": [
        {
          "output_type": "execute_result",
          "data": {
            "text/plain": [
              "<matplotlib.axes._subplots.AxesSubplot at 0x7fa89f1119d0>"
            ]
          },
          "metadata": {},
          "execution_count": 41
        },
        {
          "output_type": "display_data",
          "data": {
            "text/plain": [
              "<Figure size 1080x648 with 1 Axes>"
            ],
            "image/png": "[encoded data removed]"
          },
          "metadata": {
            "needs_background": "light"
          }
        }
      ]
    },
    {
      "cell_type": "code",
      "source": [
        "print(type(google))"
      ],
      "metadata": {
        "colab": {
          "base_uri": "https://localhost:8080/"
        },
        "id": "0oUAqPXpv_Ap",
        "outputId": "bd1cbe81-9733-411e-9d6c-5aeb7094ef72"
      },
      "execution_count": null,
      "outputs": [
        {
          "output_type": "stream",
          "name": "stdout",
          "text": [
            "<class 'pandas.core.frame.DataFrame'>\n"
          ]
        }
      ]
    },
    {
      "cell_type": "code",
      "source": [
        "google"
      ],
      "metadata": {
        "colab": {
          "base_uri": "https://localhost:8080/",
          "height": 455
        },
        "id": "6vA5Is5rv-9F",
        "outputId": "6fa4a467-9682-4387-c127-6f7f51aac175"
      },
      "execution_count": null,
      "outputs": [
        {
          "output_type": "execute_result",
          "data": {
            "text/plain": [
              "               Open     High      Low    Close     Adj Close   Volume\n",
              "Date                                                                 \n",
              "2000-12-01   2495.0   2500.0   2420.0   2500.0   1927.813110   222800\n",
              "2000-12-04   2500.0   2560.0   2450.0   2470.0   1904.679443   196100\n",
              "2000-12-05   2455.0   2500.0   2455.0   2485.0   1916.245972   158800\n",
              "2000-12-06   2530.0   2580.0   2490.0   2490.0   1920.102051   287600\n",
              "2000-12-07   2470.0   2490.0   2455.0   2465.0   1900.823486   147900\n",
              "...             ...      ...      ...      ...           ...      ...\n",
              "2022-08-05  19600.0  20100.0  19550.0  19800.0  19800.000000   989760\n",
              "2022-08-08  19750.0  20100.0  19500.0  20000.0  20000.000000   902460\n",
              "2022-08-09  20050.0  20600.0  19850.0  20450.0  20450.000000  1201671\n",
              "2022-08-10  20500.0  21500.0  20450.0  21100.0  21100.000000  2399592\n",
              "2022-08-11  21500.0  21950.0  21300.0  21400.0  21400.000000  1934196\n",
              "\n",
              "[5430 rows x 6 columns]"
            ],
            "text/html": [
              "\n",
              "  <div id=\"df-ba300f27-f760-4a88-8baf-14d28cdc40bf\">\n",
              "    <div class=\"colab-df-container\">\n",
              "      <div>\n",
              "<style scoped>\n",
              "    .dataframe tbody tr th:only-of-type {\n",
              "        vertical-align: middle;\n",
              "    }\n",
              "\n",
              "    .dataframe tbody tr th {\n",
              "        vertical-align: top;\n",
              "    }\n",
              "\n",
              "    .dataframe thead th {\n",
              "        text-align: right;\n",
              "    }\n",
              "</style>\n",
              "<table border=\"1\" class=\"dataframe\">\n",
              "  <thead>\n",
              "    <tr style=\"text-align: right;\">\n",
              "      <th></th>\n",
              "      <th>Open</th>\n",
              "      <th>High</th>\n",
              "      <th>Low</th>\n",
              "      <th>Close</th>\n",
              "      <th>Adj Close</th>\n",
              "      <th>Volume</th>\n",
              "    </tr>\n",
              "    <tr>\n",
              "      <th>Date</th>\n",
              "      <th></th>\n",
              "      <th></th>\n",
              "      <th></th>\n",
              "      <th></th>\n",
              "      <th></th>\n",
              "      <th></th>\n",
              "    </tr>\n",
              "  </thead>\n",
              "  <tbody>\n",
              "    <tr>\n",
              "      <th>2000-12-01</th>\n",
              "      <td>2495.0</td>\n",
              "      <td>2500.0</td>\n",
              "      <td>2420.0</td>\n",
              "      <td>2500.0</td>\n",
              "      <td>1927.813110</td>\n",
              "      <td>222800</td>\n",
              "    </tr>\n",
              "    <tr>\n",
              "      <th>2000-12-04</th>\n",
              "      <td>2500.0</td>\n",
              "      <td>2560.0</td>\n",
              "      <td>2450.0</td>\n",
              "      <td>2470.0</td>\n",
              "      <td>1904.679443</td>\n",
              "      <td>196100</td>\n",
              "    </tr>\n",
              "    <tr>\n",
              "      <th>2000-12-05</th>\n",
              "      <td>2455.0</td>\n",
              "      <td>2500.0</td>\n",
              "      <td>2455.0</td>\n",
              "      <td>2485.0</td>\n",
              "      <td>1916.245972</td>\n",
              "      <td>158800</td>\n",
              "    </tr>\n",
              "    <tr>\n",
              "      <th>2000-12-06</th>\n",
              "      <td>2530.0</td>\n",
              "      <td>2580.0</td>\n",
              "      <td>2490.0</td>\n",
              "      <td>2490.0</td>\n",
              "      <td>1920.102051</td>\n",
              "      <td>287600</td>\n",
              "    </tr>\n",
              "    <tr>\n",
              "      <th>2000-12-07</th>\n",
              "      <td>2470.0</td>\n",
              "      <td>2490.0</td>\n",
              "      <td>2455.0</td>\n",
              "      <td>2465.0</td>\n",
              "      <td>1900.823486</td>\n",
              "      <td>147900</td>\n",
              "    </tr>\n",
              "    <tr>\n",
              "      <th>...</th>\n",
              "      <td>...</td>\n",
              "      <td>...</td>\n",
              "      <td>...</td>\n",
              "      <td>...</td>\n",
              "      <td>...</td>\n",
              "      <td>...</td>\n",
              "    </tr>\n",
              "    <tr>\n",
              "      <th>2022-08-05</th>\n",
              "      <td>19600.0</td>\n",
              "      <td>20100.0</td>\n",
              "      <td>19550.0</td>\n",
              "      <td>19800.0</td>\n",
              "      <td>19800.000000</td>\n",
              "      <td>989760</td>\n",
              "    </tr>\n",
              "    <tr>\n",
              "      <th>2022-08-08</th>\n",
              "      <td>19750.0</td>\n",
              "      <td>20100.0</td>\n",
              "      <td>19500.0</td>\n",
              "      <td>20000.0</td>\n",
              "      <td>20000.000000</td>\n",
              "      <td>902460</td>\n",
              "    </tr>\n",
              "    <tr>\n",
              "      <th>2022-08-09</th>\n",
              "      <td>20050.0</td>\n",
              "      <td>20600.0</td>\n",
              "      <td>19850.0</td>\n",
              "      <td>20450.0</td>\n",
              "      <td>20450.000000</td>\n",
              "      <td>1201671</td>\n",
              "    </tr>\n",
              "    <tr>\n",
              "      <th>2022-08-10</th>\n",
              "      <td>20500.0</td>\n",
              "      <td>21500.0</td>\n",
              "      <td>20450.0</td>\n",
              "      <td>21100.0</td>\n",
              "      <td>21100.000000</td>\n",
              "      <td>2399592</td>\n",
              "    </tr>\n",
              "    <tr>\n",
              "      <th>2022-08-11</th>\n",
              "      <td>21500.0</td>\n",
              "      <td>21950.0</td>\n",
              "      <td>21300.0</td>\n",
              "      <td>21400.0</td>\n",
              "      <td>21400.000000</td>\n",
              "      <td>1934196</td>\n",
              "    </tr>\n",
              "  </tbody>\n",
              "</table>\n",
              "<p>5430 rows × 6 columns</p>\n",
              "</div>\n",
              "      <button class=\"colab-df-convert\" onclick=\"convertToInteractive('df-ba300f27-f760-4a88-8baf-14d28cdc40bf')\"\n",
              "              title=\"Convert this dataframe to an interactive table.\"\n",
              "              style=\"display:none;\">\n",
              "        \n",
              "  <svg xmlns=\"http://www.w3.org/2000/svg\" height=\"24px\"viewBox=\"0 0 24 24\"\n",
              "       width=\"24px\">\n",
              "    <path d=\"M0 0h24v24H0V0z\" fill=\"none\"/>\n",
              "    <path d=\"M18.56 5.44l.94 2.06.94-2.06 2.06-.94-2.06-.94-.94-2.06-.94 2.06-2.06.94zm-11 1L8.5 8.5l.94-2.06 2.06-.94-2.06-.94L8.5 2.5l-.94 2.06-2.06.94zm10 10l.94 2.06.94-2.06 2.06-.94-2.06-.94-.94-2.06-.94 2.06-2.06.94z\"/><path d=\"M17.41 7.96l-1.37-1.37c-.4-.4-.92-.59-1.43-.59-.52 0-1.04.2-1.43.59L10.3 9.45l-7.72 7.72c-.78.78-.78 2.05 0 2.83L4 21.41c.39.39.9.59 1.41.59.51 0 1.02-.2 1.41-.59l7.78-7.78 2.81-2.81c.8-.78.8-2.07 0-2.86zM5.41 20L4 18.59l7.72-7.72 1.47 1.35L5.41 20z\"/>\n",
              "  </svg>\n",
              "      </button>\n",
              "      \n",
              "  <style>\n",
              "    .colab-df-container {\n",
              "      display:flex;\n",
              "      flex-wrap:wrap;\n",
              "      gap: 12px;\n",
              "    }\n",
              "\n",
              "    .colab-df-convert {\n",
              "      background-color: #E8F0FE;\n",
              "      border: none;\n",
              "      border-radius: 50%;\n",
              "      cursor: pointer;\n",
              "      display: none;\n",
              "      fill: #1967D2;\n",
              "      height: 32px;\n",
              "      padding: 0 0 0 0;\n",
              "      width: 32px;\n",
              "    }\n",
              "\n",
              "    .colab-df-convert:hover {\n",
              "      background-color: #E2EBFA;\n",
              "      box-shadow: 0px 1px 2px rgba(60, 64, 67, 0.3), 0px 1px 3px 1px rgba(60, 64, 67, 0.15);\n",
              "      fill: #174EA6;\n",
              "    }\n",
              "\n",
              "    [theme=dark] .colab-df-convert {\n",
              "      background-color: #3B4455;\n",
              "      fill: #D2E3FC;\n",
              "    }\n",
              "\n",
              "    [theme=dark] .colab-df-convert:hover {\n",
              "      background-color: #434B5C;\n",
              "      box-shadow: 0px 1px 3px 1px rgba(0, 0, 0, 0.15);\n",
              "      filter: drop-shadow(0px 1px 2px rgba(0, 0, 0, 0.3));\n",
              "      fill: #FFFFFF;\n",
              "    }\n",
              "  </style>\n",
              "\n",
              "      <script>\n",
              "        const buttonEl =\n",
              "          document.querySelector('#df-ba300f27-f760-4a88-8baf-14d28cdc40bf button.colab-df-convert');\n",
              "        buttonEl.style.display =\n",
              "          google.colab.kernel.accessAllowed ? 'block' : 'none';\n",
              "\n",
              "        async function convertToInteractive(key) {\n",
              "          const element = document.querySelector('#df-ba300f27-f760-4a88-8baf-14d28cdc40bf');\n",
              "          const dataTable =\n",
              "            await google.colab.kernel.invokeFunction('convertToInteractive',\n",
              "                                                     [key], {});\n",
              "          if (!dataTable) return;\n",
              "\n",
              "          const docLinkHtml = 'Like what you see? Visit the ' +\n",
              "            '<a target=\"_blank\" href=https://colab.research.google.com/notebooks/data_table.ipynb>data table notebook</a>'\n",
              "            + ' to learn more about interactive tables.';\n",
              "          element.innerHTML = '';\n",
              "          dataTable['output_type'] = 'display_data';\n",
              "          await google.colab.output.renderOutput(dataTable, element);\n",
              "          const docLink = document.createElement('div');\n",
              "          docLink.innerHTML = docLinkHtml;\n",
              "          element.appendChild(docLink);\n",
              "        }\n",
              "      </script>\n",
              "    </div>\n",
              "  </div>\n",
              "  "
            ]
          },
          "metadata": {},
          "execution_count": 12
        }
      ]
    },
    {
      "cell_type": "code",
      "source": [
        "google.tail()"
      ],
      "metadata": {
        "colab": {
          "base_uri": "https://localhost:8080/",
          "height": 238
        },
        "id": "uRxBcd7Lv-1s",
        "outputId": "bcc7d93c-d4f2-4d90-9457-b6598f018ccb"
      },
      "execution_count": null,
      "outputs": [
        {
          "output_type": "execute_result",
          "data": {
            "text/plain": [
              "               Open     High      Low    Close  Adj Close   Volume\n",
              "Date                                                              \n",
              "2022-08-05  19600.0  20100.0  19550.0  19800.0    19800.0   989760\n",
              "2022-08-08  19750.0  20100.0  19500.0  20000.0    20000.0   902460\n",
              "2022-08-09  20050.0  20600.0  19850.0  20450.0    20450.0  1201671\n",
              "2022-08-10  20500.0  21500.0  20450.0  21100.0    21100.0  2399592\n",
              "2022-08-11  21500.0  21950.0  21300.0  21400.0    21400.0  1934196"
            ],
            "text/html": [
              "\n",
              "  <div id=\"df-5a54722f-582a-4a69-8304-13370b903c44\">\n",
              "    <div class=\"colab-df-container\">\n",
              "      <div>\n",
              "<style scoped>\n",
              "    .dataframe tbody tr th:only-of-type {\n",
              "        vertical-align: middle;\n",
              "    }\n",
              "\n",
              "    .dataframe tbody tr th {\n",
              "        vertical-align: top;\n",
              "    }\n",
              "\n",
              "    .dataframe thead th {\n",
              "        text-align: right;\n",
              "    }\n",
              "</style>\n",
              "<table border=\"1\" class=\"dataframe\">\n",
              "  <thead>\n",
              "    <tr style=\"text-align: right;\">\n",
              "      <th></th>\n",
              "      <th>Open</th>\n",
              "      <th>High</th>\n",
              "      <th>Low</th>\n",
              "      <th>Close</th>\n",
              "      <th>Adj Close</th>\n",
              "      <th>Volume</th>\n",
              "    </tr>\n",
              "    <tr>\n",
              "      <th>Date</th>\n",
              "      <th></th>\n",
              "      <th></th>\n",
              "      <th></th>\n",
              "      <th></th>\n",
              "      <th></th>\n",
              "      <th></th>\n",
              "    </tr>\n",
              "  </thead>\n",
              "  <tbody>\n",
              "    <tr>\n",
              "      <th>2022-08-05</th>\n",
              "      <td>19600.0</td>\n",
              "      <td>20100.0</td>\n",
              "      <td>19550.0</td>\n",
              "      <td>19800.0</td>\n",
              "      <td>19800.0</td>\n",
              "      <td>989760</td>\n",
              "    </tr>\n",
              "    <tr>\n",
              "      <th>2022-08-08</th>\n",
              "      <td>19750.0</td>\n",
              "      <td>20100.0</td>\n",
              "      <td>19500.0</td>\n",
              "      <td>20000.0</td>\n",
              "      <td>20000.0</td>\n",
              "      <td>902460</td>\n",
              "    </tr>\n",
              "    <tr>\n",
              "      <th>2022-08-09</th>\n",
              "      <td>20050.0</td>\n",
              "      <td>20600.0</td>\n",
              "      <td>19850.0</td>\n",
              "      <td>20450.0</td>\n",
              "      <td>20450.0</td>\n",
              "      <td>1201671</td>\n",
              "    </tr>\n",
              "    <tr>\n",
              "      <th>2022-08-10</th>\n",
              "      <td>20500.0</td>\n",
              "      <td>21500.0</td>\n",
              "      <td>20450.0</td>\n",
              "      <td>21100.0</td>\n",
              "      <td>21100.0</td>\n",
              "      <td>2399592</td>\n",
              "    </tr>\n",
              "    <tr>\n",
              "      <th>2022-08-11</th>\n",
              "      <td>21500.0</td>\n",
              "      <td>21950.0</td>\n",
              "      <td>21300.0</td>\n",
              "      <td>21400.0</td>\n",
              "      <td>21400.0</td>\n",
              "      <td>1934196</td>\n",
              "    </tr>\n",
              "  </tbody>\n",
              "</table>\n",
              "</div>\n",
              "      <button class=\"colab-df-convert\" onclick=\"convertToInteractive('df-5a54722f-582a-4a69-8304-13370b903c44')\"\n",
              "              title=\"Convert this dataframe to an interactive table.\"\n",
              "              style=\"display:none;\">\n",
              "        \n",
              "  <svg xmlns=\"http://www.w3.org/2000/svg\" height=\"24px\"viewBox=\"0 0 24 24\"\n",
              "       width=\"24px\">\n",
              "    <path d=\"M0 0h24v24H0V0z\" fill=\"none\"/>\n",
              "    <path d=\"M18.56 5.44l.94 2.06.94-2.06 2.06-.94-2.06-.94-.94-2.06-.94 2.06-2.06.94zm-11 1L8.5 8.5l.94-2.06 2.06-.94-2.06-.94L8.5 2.5l-.94 2.06-2.06.94zm10 10l.94 2.06.94-2.06 2.06-.94-2.06-.94-.94-2.06-.94 2.06-2.06.94z\"/><path d=\"M17.41 7.96l-1.37-1.37c-.4-.4-.92-.59-1.43-.59-.52 0-1.04.2-1.43.59L10.3 9.45l-7.72 7.72c-.78.78-.78 2.05 0 2.83L4 21.41c.39.39.9.59 1.41.59.51 0 1.02-.2 1.41-.59l7.78-7.78 2.81-2.81c.8-.78.8-2.07 0-2.86zM5.41 20L4 18.59l7.72-7.72 1.47 1.35L5.41 20z\"/>\n",
              "  </svg>\n",
              "      </button>\n",
              "      \n",
              "  <style>\n",
              "    .colab-df-container {\n",
              "      display:flex;\n",
              "      flex-wrap:wrap;\n",
              "      gap: 12px;\n",
              "    }\n",
              "\n",
              "    .colab-df-convert {\n",
              "      background-color: #E8F0FE;\n",
              "      border: none;\n",
              "      border-radius: 50%;\n",
              "      cursor: pointer;\n",
              "      display: none;\n",
              "      fill: #1967D2;\n",
              "      height: 32px;\n",
              "      padding: 0 0 0 0;\n",
              "      width: 32px;\n",
              "    }\n",
              "\n",
              "    .colab-df-convert:hover {\n",
              "      background-color: #E2EBFA;\n",
              "      box-shadow: 0px 1px 2px rgba(60, 64, 67, 0.3), 0px 1px 3px 1px rgba(60, 64, 67, 0.15);\n",
              "      fill: #174EA6;\n",
              "    }\n",
              "\n",
              "    [theme=dark] .colab-df-convert {\n",
              "      background-color: #3B4455;\n",
              "      fill: #D2E3FC;\n",
              "    }\n",
              "\n",
              "    [theme=dark] .colab-df-convert:hover {\n",
              "      background-color: #434B5C;\n",
              "      box-shadow: 0px 1px 3px 1px rgba(0, 0, 0, 0.15);\n",
              "      filter: drop-shadow(0px 1px 2px rgba(0, 0, 0, 0.3));\n",
              "      fill: #FFFFFF;\n",
              "    }\n",
              "  </style>\n",
              "\n",
              "      <script>\n",
              "        const buttonEl =\n",
              "          document.querySelector('#df-5a54722f-582a-4a69-8304-13370b903c44 button.colab-df-convert');\n",
              "        buttonEl.style.display =\n",
              "          google.colab.kernel.accessAllowed ? 'block' : 'none';\n",
              "\n",
              "        async function convertToInteractive(key) {\n",
              "          const element = document.querySelector('#df-5a54722f-582a-4a69-8304-13370b903c44');\n",
              "          const dataTable =\n",
              "            await google.colab.kernel.invokeFunction('convertToInteractive',\n",
              "                                                     [key], {});\n",
              "          if (!dataTable) return;\n",
              "\n",
              "          const docLinkHtml = 'Like what you see? Visit the ' +\n",
              "            '<a target=\"_blank\" href=https://colab.research.google.com/notebooks/data_table.ipynb>data table notebook</a>'\n",
              "            + ' to learn more about interactive tables.';\n",
              "          element.innerHTML = '';\n",
              "          dataTable['output_type'] = 'display_data';\n",
              "          await google.colab.output.renderOutput(dataTable, element);\n",
              "          const docLink = document.createElement('div');\n",
              "          docLink.innerHTML = docLinkHtml;\n",
              "          element.appendChild(docLink);\n",
              "        }\n",
              "      </script>\n",
              "    </div>\n",
              "  </div>\n",
              "  "
            ]
          },
          "metadata": {},
          "execution_count": 13
        }
      ]
    },
    {
      "cell_type": "code",
      "source": [
        "print(google.isna().sum())"
      ],
      "metadata": {
        "colab": {
          "base_uri": "https://localhost:8080/"
        },
        "id": "_32OPkT5QzzB",
        "outputId": "59218770-65d2-4520-fa8c-6a036288fd71"
      },
      "execution_count": null,
      "outputs": [
        {
          "output_type": "stream",
          "name": "stdout",
          "text": [
            "Open         0\n",
            "High         0\n",
            "Low          0\n",
            "Close        0\n",
            "Adj Close    0\n",
            "Volume       0\n",
            "dtype: int64\n"
          ]
        }
      ]
    },
    {
      "cell_type": "markdown",
      "source": [
        "# Data Preparation"
      ],
      "metadata": {
        "id": "HX64fDy3Rl4w"
      }
    },
    {
      "cell_type": "code",
      "source": [
        "num_data = 10\n",
        "np.array(list(range(num_data*2)))"
      ],
      "metadata": {
        "colab": {
          "base_uri": "https://localhost:8080/"
        },
        "id": "Sopmv-1cmgr3",
        "outputId": "a8a0b416-2b2a-4106-9eaa-18a7063de92e"
      },
      "execution_count": null,
      "outputs": [
        {
          "output_type": "execute_result",
          "data": {
            "text/plain": [
              "array([ 0,  1,  2,  3,  4,  5,  6,  7,  8,  9, 10, 11, 12, 13, 14, 15, 16,\n",
              "       17, 18, 19])"
            ]
          },
          "metadata": {},
          "execution_count": 16
        }
      ]
    },
    {
      "cell_type": "code",
      "source": [
        "np.array(list(range(num_data*2))).reshape(-1, 2)"
      ],
      "metadata": {
        "colab": {
          "base_uri": "https://localhost:8080/"
        },
        "id": "0wqc3U1lmn4E",
        "outputId": "a6f7b602-7818-450d-8005-1e8d67824e94"
      },
      "execution_count": null,
      "outputs": [
        {
          "output_type": "execute_result",
          "data": {
            "text/plain": [
              "array([[ 0,  1],\n",
              "       [ 2,  3],\n",
              "       [ 4,  5],\n",
              "       [ 6,  7],\n",
              "       [ 8,  9],\n",
              "       [10, 11],\n",
              "       [12, 13],\n",
              "       [14, 15],\n",
              "       [16, 17],\n",
              "       [18, 19]])"
            ]
          },
          "metadata": {},
          "execution_count": 18
        }
      ]
    },
    {
      "cell_type": "code",
      "source": [
        "np.array(list(range(num_data)))"
      ],
      "metadata": {
        "colab": {
          "base_uri": "https://localhost:8080/"
        },
        "id": "BrZhxL1vm25W",
        "outputId": "12551e01-740a-4c4e-af61-bcebd05615f3"
      },
      "execution_count": null,
      "outputs": [
        {
          "output_type": "execute_result",
          "data": {
            "text/plain": [
              "array([0, 1, 2, 3, 4, 5, 6, 7, 8, 9])"
            ]
          },
          "metadata": {},
          "execution_count": 19
        }
      ]
    },
    {
      "cell_type": "code",
      "source": [
        "class dummySet(Dataset):\n",
        "    def __init__(self, num_data):\n",
        "        self.x = np.array(list(range(num_data*2))).reshape(-1, 2)\n",
        "        self.y = np.array(list(range(num_data)))\n",
        "        \n",
        "dataset = dummySet(100)\n",
        "print(dataset.x)"
      ],
      "metadata": {
        "colab": {
          "base_uri": "https://localhost:8080/"
        },
        "id": "YicYHYaxlcvX",
        "outputId": "97a6d336-a564-49f6-a73f-7d33e54c8680"
      },
      "execution_count": null,
      "outputs": [
        {
          "output_type": "stream",
          "name": "stdout",
          "text": [
            "[[  0   1]\n",
            " [  2   3]\n",
            " [  4   5]\n",
            " [  6   7]\n",
            " [  8   9]\n",
            " [ 10  11]\n",
            " [ 12  13]\n",
            " [ 14  15]\n",
            " [ 16  17]\n",
            " [ 18  19]\n",
            " [ 20  21]\n",
            " [ 22  23]\n",
            " [ 24  25]\n",
            " [ 26  27]\n",
            " [ 28  29]\n",
            " [ 30  31]\n",
            " [ 32  33]\n",
            " [ 34  35]\n",
            " [ 36  37]\n",
            " [ 38  39]\n",
            " [ 40  41]\n",
            " [ 42  43]\n",
            " [ 44  45]\n",
            " [ 46  47]\n",
            " [ 48  49]\n",
            " [ 50  51]\n",
            " [ 52  53]\n",
            " [ 54  55]\n",
            " [ 56  57]\n",
            " [ 58  59]\n",
            " [ 60  61]\n",
            " [ 62  63]\n",
            " [ 64  65]\n",
            " [ 66  67]\n",
            " [ 68  69]\n",
            " [ 70  71]\n",
            " [ 72  73]\n",
            " [ 74  75]\n",
            " [ 76  77]\n",
            " [ 78  79]\n",
            " [ 80  81]\n",
            " [ 82  83]\n",
            " [ 84  85]\n",
            " [ 86  87]\n",
            " [ 88  89]\n",
            " [ 90  91]\n",
            " [ 92  93]\n",
            " [ 94  95]\n",
            " [ 96  97]\n",
            " [ 98  99]\n",
            " [100 101]\n",
            " [102 103]\n",
            " [104 105]\n",
            " [106 107]\n",
            " [108 109]\n",
            " [110 111]\n",
            " [112 113]\n",
            " [114 115]\n",
            " [116 117]\n",
            " [118 119]\n",
            " [120 121]\n",
            " [122 123]\n",
            " [124 125]\n",
            " [126 127]\n",
            " [128 129]\n",
            " [130 131]\n",
            " [132 133]\n",
            " [134 135]\n",
            " [136 137]\n",
            " [138 139]\n",
            " [140 141]\n",
            " [142 143]\n",
            " [144 145]\n",
            " [146 147]\n",
            " [148 149]\n",
            " [150 151]\n",
            " [152 153]\n",
            " [154 155]\n",
            " [156 157]\n",
            " [158 159]\n",
            " [160 161]\n",
            " [162 163]\n",
            " [164 165]\n",
            " [166 167]\n",
            " [168 169]\n",
            " [170 171]\n",
            " [172 173]\n",
            " [174 175]\n",
            " [176 177]\n",
            " [178 179]\n",
            " [180 181]\n",
            " [182 183]\n",
            " [184 185]\n",
            " [186 187]\n",
            " [188 189]\n",
            " [190 191]\n",
            " [192 193]\n",
            " [194 195]\n",
            " [196 197]\n",
            " [198 199]]\n"
          ]
        }
      ]
    },
    {
      "cell_type": "code",
      "source": [
        "class dummySet(Dataset):\n",
        "    def __init__(self, num_data):\n",
        "        self.x = np.array(list(range(num_data*2))).reshape(-1, 2)\n",
        "        self.y = np.array(list(range(num_data)))\n",
        "    \n",
        "\n",
        "    def __len__(self):\n",
        "        return len(self.x)\n",
        "\n",
        "dataset = dummySet(100)\n",
        "print(len(dataset))"
      ],
      "metadata": {
        "colab": {
          "base_uri": "https://localhost:8080/"
        },
        "id": "4i_8EoJ-nQUZ",
        "outputId": "e51663bc-9bea-4130-a1e9-b5d3e3352b7f"
      },
      "execution_count": null,
      "outputs": [
        {
          "output_type": "stream",
          "name": "stdout",
          "text": [
            "100\n"
          ]
        }
      ]
    },
    {
      "cell_type": "code",
      "source": [
        "class dummySet(Dataset):\n",
        "    def __init__(self, num_data):\n",
        "        self.x = np.array(list(range(num_data*2))).reshape(-1, 2)\n",
        "        self.y = np.array(list(range(num_data)))\n",
        "    \n",
        "\n",
        "    def __len__(self):\n",
        "        return len(self.x)\n",
        "    \n",
        "\n",
        "    def __getitem__(self, idx):\n",
        "        return self.x[idx], self.y[idx]\n",
        "\n",
        "dataset = dummySet(100)\n",
        "print(dataset[0])"
      ],
      "metadata": {
        "colab": {
          "base_uri": "https://localhost:8080/"
        },
        "id": "O4YQQvcEnahd",
        "outputId": "03b3e5ea-c1fe-4392-c272-3036d2d4516f"
      },
      "execution_count": null,
      "outputs": [
        {
          "output_type": "stream",
          "name": "stdout",
          "text": [
            "(array([0, 1]), 0)\n"
          ]
        }
      ]
    },
    {
      "cell_type": "code",
      "source": [
        "dataset  = dummySet(100)\n",
        "dataloader = DataLoader(dataset, 3, shuffle=False)\n",
        "\n",
        "for batch in dataloader:\n",
        "    print(batch)\n",
        "    break"
      ],
      "metadata": {
        "colab": {
          "base_uri": "https://localhost:8080/"
        },
        "id": "4x59KzU1oCJW",
        "outputId": "92b7ab67-a46a-4781-af00-33440a4f2789"
      },
      "execution_count": null,
      "outputs": [
        {
          "output_type": "stream",
          "name": "stdout",
          "text": [
            "[tensor([[0, 1],\n",
            "        [2, 3],\n",
            "        [4, 5]]), tensor([0, 1, 2])]\n"
          ]
        }
      ]
    },
    {
      "cell_type": "code",
      "source": [
        "dataloader = DataLoader(dataset, 3, shuffle=True)\n",
        "\n",
        "for batch in dataloader:\n",
        "    print(batch)\n",
        "    break"
      ],
      "metadata": {
        "colab": {
          "base_uri": "https://localhost:8080/"
        },
        "id": "T9rlPlesoa3H",
        "outputId": "ea1df1e9-2231-4ed0-cf8b-ddcc25d70b59"
      },
      "execution_count": null,
      "outputs": [
        {
          "output_type": "stream",
          "name": "stdout",
          "text": [
            "[tensor([[184, 185],\n",
            "        [ 24,  25],\n",
            "        [ 44,  45]]), tensor([92, 12, 22])]\n"
          ]
        }
      ]
    },
    {
      "cell_type": "code",
      "source": [
        "dataloader = DataLoader(dataset, 3, shuffle=True)\n",
        "\n",
        "for batch in dataloader:\n",
        "    print(batch)"
      ],
      "metadata": {
        "colab": {
          "base_uri": "https://localhost:8080/"
        },
        "id": "pluaf2xrogVG",
        "outputId": "b282947e-0587-4848-d2a2-04320930c06e"
      },
      "execution_count": null,
      "outputs": [
        {
          "output_type": "stream",
          "name": "stdout",
          "text": [
            "[tensor([[ 30,  31],\n",
            "        [122, 123],\n",
            "        [ 84,  85]]), tensor([15, 61, 42])]\n",
            "[tensor([[134, 135],\n",
            "        [ 22,  23],\n",
            "        [ 56,  57]]), tensor([67, 11, 28])]\n",
            "[tensor([[ 2,  3],\n",
            "        [90, 91],\n",
            "        [94, 95]]), tensor([ 1, 45, 47])]\n",
            "[tensor([[ 52,  53],\n",
            "        [  4,   5],\n",
            "        [124, 125]]), tensor([26,  2, 62])]\n",
            "[tensor([[176, 177],\n",
            "        [ 62,  63],\n",
            "        [160, 161]]), tensor([88, 31, 80])]\n",
            "[tensor([[142, 143],\n",
            "        [  6,   7],\n",
            "        [196, 197]]), tensor([71,  3, 98])]\n",
            "[tensor([[108, 109],\n",
            "        [ 18,  19],\n",
            "        [ 10,  11]]), tensor([54,  9,  5])]\n",
            "[tensor([[174, 175],\n",
            "        [ 86,  87],\n",
            "        [ 14,  15]]), tensor([87, 43,  7])]\n",
            "[tensor([[ 76,  77],\n",
            "        [152, 153],\n",
            "        [112, 113]]), tensor([38, 76, 56])]\n",
            "[tensor([[34, 35],\n",
            "        [16, 17],\n",
            "        [26, 27]]), tensor([17,  8, 13])]\n",
            "[tensor([[148, 149],\n",
            "        [ 42,  43],\n",
            "        [ 44,  45]]), tensor([74, 21, 22])]\n",
            "[tensor([[128, 129],\n",
            "        [  0,   1],\n",
            "        [118, 119]]), tensor([64,  0, 59])]\n",
            "[tensor([[164, 165],\n",
            "        [166, 167],\n",
            "        [110, 111]]), tensor([82, 83, 55])]\n",
            "[tensor([[140, 141],\n",
            "        [ 92,  93],\n",
            "        [186, 187]]), tensor([70, 46, 93])]\n",
            "[tensor([[106, 107],\n",
            "        [ 74,  75],\n",
            "        [ 20,  21]]), tensor([53, 37, 10])]\n",
            "[tensor([[ 36,  37],\n",
            "        [ 28,  29],\n",
            "        [188, 189]]), tensor([18, 14, 94])]\n",
            "[tensor([[ 58,  59],\n",
            "        [194, 195],\n",
            "        [ 24,  25]]), tensor([29, 97, 12])]\n",
            "[tensor([[114, 115],\n",
            "        [ 46,  47],\n",
            "        [ 70,  71]]), tensor([57, 23, 35])]\n",
            "[tensor([[162, 163],\n",
            "        [ 72,  73],\n",
            "        [ 78,  79]]), tensor([81, 36, 39])]\n",
            "[tensor([[146, 147],\n",
            "        [172, 173],\n",
            "        [136, 137]]), tensor([73, 86, 68])]\n",
            "[tensor([[ 38,  39],\n",
            "        [ 68,  69],\n",
            "        [158, 159]]), tensor([19, 34, 79])]\n",
            "[tensor([[ 12,  13],\n",
            "        [ 80,  81],\n",
            "        [144, 145]]), tensor([ 6, 40, 72])]\n",
            "[tensor([[168, 169],\n",
            "        [ 88,  89],\n",
            "        [ 96,  97]]), tensor([84, 44, 48])]\n",
            "[tensor([[170, 171],\n",
            "        [130, 131],\n",
            "        [ 50,  51]]), tensor([85, 65, 25])]\n",
            "[tensor([[138, 139],\n",
            "        [116, 117],\n",
            "        [ 40,  41]]), tensor([69, 58, 20])]\n",
            "[tensor([[102, 103],\n",
            "        [ 32,  33],\n",
            "        [154, 155]]), tensor([51, 16, 77])]\n",
            "[tensor([[ 66,  67],\n",
            "        [150, 151],\n",
            "        [190, 191]]), tensor([33, 75, 95])]\n",
            "[tensor([[192, 193],\n",
            "        [ 82,  83],\n",
            "        [ 54,  55]]), tensor([96, 41, 27])]\n",
            "[tensor([[156, 157],\n",
            "        [ 48,  49],\n",
            "        [198, 199]]), tensor([78, 24, 99])]\n",
            "[tensor([[126, 127],\n",
            "        [100, 101],\n",
            "        [180, 181]]), tensor([63, 50, 90])]\n",
            "[tensor([[120, 121],\n",
            "        [178, 179],\n",
            "        [  8,   9]]), tensor([60, 89,  4])]\n",
            "[tensor([[ 64,  65],\n",
            "        [132, 133],\n",
            "        [184, 185]]), tensor([32, 66, 92])]\n",
            "[tensor([[104, 105],\n",
            "        [182, 183],\n",
            "        [ 98,  99]]), tensor([52, 91, 49])]\n",
            "[tensor([[60, 61]]), tensor([30])]\n"
          ]
        }
      ]
    },
    {
      "cell_type": "code",
      "source": [
        "for X, y in dataloader:\n",
        "    print(X, y)"
      ],
      "metadata": {
        "colab": {
          "base_uri": "https://localhost:8080/"
        },
        "id": "n6Oy8eyzovTn",
        "outputId": "88594fb2-2677-4959-fefe-59760814adab"
      },
      "execution_count": null,
      "outputs": [
        {
          "output_type": "stream",
          "name": "stdout",
          "text": [
            "tensor([[112, 113],\n",
            "        [178, 179],\n",
            "        [192, 193]]) tensor([56, 89, 96])\n",
            "tensor([[ 18,  19],\n",
            "        [196, 197],\n",
            "        [ 76,  77]]) tensor([ 9, 98, 38])\n",
            "tensor([[68, 69],\n",
            "        [60, 61],\n",
            "        [36, 37]]) tensor([34, 30, 18])\n",
            "tensor([[132, 133],\n",
            "        [182, 183],\n",
            "        [130, 131]]) tensor([66, 91, 65])\n",
            "tensor([[ 32,  33],\n",
            "        [164, 165],\n",
            "        [ 98,  99]]) tensor([16, 82, 49])\n",
            "tensor([[34, 35],\n",
            "        [78, 79],\n",
            "        [54, 55]]) tensor([17, 39, 27])\n",
            "tensor([[110, 111],\n",
            "        [ 40,  41],\n",
            "        [142, 143]]) tensor([55, 20, 71])\n",
            "tensor([[90, 91],\n",
            "        [ 6,  7],\n",
            "        [74, 75]]) tensor([45,  3, 37])\n",
            "tensor([[126, 127],\n",
            "        [158, 159],\n",
            "        [148, 149]]) tensor([63, 79, 74])\n",
            "tensor([[124, 125],\n",
            "        [190, 191],\n",
            "        [ 26,  27]]) tensor([62, 95, 13])\n",
            "tensor([[16, 17],\n",
            "        [24, 25],\n",
            "        [12, 13]]) tensor([ 8, 12,  6])\n",
            "tensor([[150, 151],\n",
            "        [102, 103],\n",
            "        [162, 163]]) tensor([75, 51, 81])\n",
            "tensor([[  0,   1],\n",
            "        [140, 141],\n",
            "        [ 52,  53]]) tensor([ 0, 70, 26])\n",
            "tensor([[92, 93],\n",
            "        [14, 15],\n",
            "        [80, 81]]) tensor([46,  7, 40])\n",
            "tensor([[28, 29],\n",
            "        [48, 49],\n",
            "        [22, 23]]) tensor([14, 24, 11])\n",
            "tensor([[174, 175],\n",
            "        [106, 107],\n",
            "        [ 70,  71]]) tensor([87, 53, 35])\n",
            "tensor([[96, 97],\n",
            "        [20, 21],\n",
            "        [10, 11]]) tensor([48, 10,  5])\n",
            "tensor([[146, 147],\n",
            "        [ 88,  89],\n",
            "        [180, 181]]) tensor([73, 44, 90])\n",
            "tensor([[114, 115],\n",
            "        [ 50,  51],\n",
            "        [ 62,  63]]) tensor([57, 25, 31])\n",
            "tensor([[198, 199],\n",
            "        [184, 185],\n",
            "        [168, 169]]) tensor([99, 92, 84])\n",
            "tensor([[  8,   9],\n",
            "        [116, 117],\n",
            "        [166, 167]]) tensor([ 4, 58, 83])\n",
            "tensor([[ 44,  45],\n",
            "        [ 86,  87],\n",
            "        [122, 123]]) tensor([22, 43, 61])\n",
            "tensor([[138, 139],\n",
            "        [ 30,  31],\n",
            "        [ 66,  67]]) tensor([69, 15, 33])\n",
            "tensor([[156, 157],\n",
            "        [118, 119],\n",
            "        [188, 189]]) tensor([78, 59, 94])\n",
            "tensor([[ 56,  57],\n",
            "        [172, 173],\n",
            "        [152, 153]]) tensor([28, 86, 76])\n",
            "tensor([[  4,   5],\n",
            "        [144, 145],\n",
            "        [ 64,  65]]) tensor([ 2, 72, 32])\n",
            "tensor([[134, 135],\n",
            "        [100, 101],\n",
            "        [176, 177]]) tensor([67, 50, 88])\n",
            "tensor([[154, 155],\n",
            "        [ 94,  95],\n",
            "        [170, 171]]) tensor([77, 47, 85])\n",
            "tensor([[104, 105],\n",
            "        [108, 109],\n",
            "        [120, 121]]) tensor([52, 54, 60])\n",
            "tensor([[ 84,  85],\n",
            "        [194, 195],\n",
            "        [186, 187]]) tensor([42, 97, 93])\n",
            "tensor([[ 82,  83],\n",
            "        [ 42,  43],\n",
            "        [128, 129]]) tensor([41, 21, 64])\n",
            "tensor([[ 58,  59],\n",
            "        [ 72,  73],\n",
            "        [160, 161]]) tensor([29, 36, 80])\n",
            "tensor([[ 38,  39],\n",
            "        [136, 137],\n",
            "        [  2,   3]]) tensor([19, 68,  1])\n",
            "tensor([[46, 47]]) tensor([23])\n"
          ]
        }
      ]
    },
    {
      "cell_type": "code",
      "source": [
        "for X, y in dataloader:\n",
        "    print(X.shape, y.shape)"
      ],
      "metadata": {
        "colab": {
          "base_uri": "https://localhost:8080/"
        },
        "id": "BClWcrqno9-p",
        "outputId": "2c36492a-4c5e-4f39-87c5-317d942ed934"
      },
      "execution_count": null,
      "outputs": [
        {
          "output_type": "stream",
          "name": "stdout",
          "text": [
            "torch.Size([3, 2]) torch.Size([3])\n",
            "torch.Size([3, 2]) torch.Size([3])\n",
            "torch.Size([3, 2]) torch.Size([3])\n",
            "torch.Size([3, 2]) torch.Size([3])\n",
            "torch.Size([3, 2]) torch.Size([3])\n",
            "torch.Size([3, 2]) torch.Size([3])\n",
            "torch.Size([3, 2]) torch.Size([3])\n",
            "torch.Size([3, 2]) torch.Size([3])\n",
            "torch.Size([3, 2]) torch.Size([3])\n",
            "torch.Size([3, 2]) torch.Size([3])\n",
            "torch.Size([3, 2]) torch.Size([3])\n",
            "torch.Size([3, 2]) torch.Size([3])\n",
            "torch.Size([3, 2]) torch.Size([3])\n",
            "torch.Size([3, 2]) torch.Size([3])\n",
            "torch.Size([3, 2]) torch.Size([3])\n",
            "torch.Size([3, 2]) torch.Size([3])\n",
            "torch.Size([3, 2]) torch.Size([3])\n",
            "torch.Size([3, 2]) torch.Size([3])\n",
            "torch.Size([3, 2]) torch.Size([3])\n",
            "torch.Size([3, 2]) torch.Size([3])\n",
            "torch.Size([3, 2]) torch.Size([3])\n",
            "torch.Size([3, 2]) torch.Size([3])\n",
            "torch.Size([3, 2]) torch.Size([3])\n",
            "torch.Size([3, 2]) torch.Size([3])\n",
            "torch.Size([3, 2]) torch.Size([3])\n",
            "torch.Size([3, 2]) torch.Size([3])\n",
            "torch.Size([3, 2]) torch.Size([3])\n",
            "torch.Size([3, 2]) torch.Size([3])\n",
            "torch.Size([3, 2]) torch.Size([3])\n",
            "torch.Size([3, 2]) torch.Size([3])\n",
            "torch.Size([3, 2]) torch.Size([3])\n",
            "torch.Size([3, 2]) torch.Size([3])\n",
            "torch.Size([3, 2]) torch.Size([3])\n",
            "torch.Size([1, 2]) torch.Size([1])\n"
          ]
        }
      ]
    },
    {
      "cell_type": "code",
      "source": [
        "dataloader = DataLoader(dataset, 3, shuffle=True, drop_last=True)\n",
        "\n",
        "for X, y in dataloader:\n",
        "    print(X.shape, y.shape)"
      ],
      "metadata": {
        "colab": {
          "base_uri": "https://localhost:8080/"
        },
        "id": "sbXXJ533pIfK",
        "outputId": "40a99dd7-6fbb-48f7-d10c-70a0697757a0"
      },
      "execution_count": null,
      "outputs": [
        {
          "output_type": "stream",
          "name": "stdout",
          "text": [
            "torch.Size([3, 2]) torch.Size([3])\n",
            "torch.Size([3, 2]) torch.Size([3])\n",
            "torch.Size([3, 2]) torch.Size([3])\n",
            "torch.Size([3, 2]) torch.Size([3])\n",
            "torch.Size([3, 2]) torch.Size([3])\n",
            "torch.Size([3, 2]) torch.Size([3])\n",
            "torch.Size([3, 2]) torch.Size([3])\n",
            "torch.Size([3, 2]) torch.Size([3])\n",
            "torch.Size([3, 2]) torch.Size([3])\n",
            "torch.Size([3, 2]) torch.Size([3])\n",
            "torch.Size([3, 2]) torch.Size([3])\n",
            "torch.Size([3, 2]) torch.Size([3])\n",
            "torch.Size([3, 2]) torch.Size([3])\n",
            "torch.Size([3, 2]) torch.Size([3])\n",
            "torch.Size([3, 2]) torch.Size([3])\n",
            "torch.Size([3, 2]) torch.Size([3])\n",
            "torch.Size([3, 2]) torch.Size([3])\n",
            "torch.Size([3, 2]) torch.Size([3])\n",
            "torch.Size([3, 2]) torch.Size([3])\n",
            "torch.Size([3, 2]) torch.Size([3])\n",
            "torch.Size([3, 2]) torch.Size([3])\n",
            "torch.Size([3, 2]) torch.Size([3])\n",
            "torch.Size([3, 2]) torch.Size([3])\n",
            "torch.Size([3, 2]) torch.Size([3])\n",
            "torch.Size([3, 2]) torch.Size([3])\n",
            "torch.Size([3, 2]) torch.Size([3])\n",
            "torch.Size([3, 2]) torch.Size([3])\n",
            "torch.Size([3, 2]) torch.Size([3])\n",
            "torch.Size([3, 2]) torch.Size([3])\n",
            "torch.Size([3, 2]) torch.Size([3])\n",
            "torch.Size([3, 2]) torch.Size([3])\n",
            "torch.Size([3, 2]) torch.Size([3])\n",
            "torch.Size([3, 2]) torch.Size([3])\n"
          ]
        }
      ]
    },
    {
      "cell_type": "code",
      "source": [
        "class StockDataset(Dataset):\n",
        "    def __init__(self, symbol, x_frames, y_frames, start, end):\n",
        "        self.symbol = symbol\n",
        "        self.x_frames = x_frames    # sequence of price fluctuations\n",
        "        self.y_frames = y_frames    # price prediction from t+1 to t+x\n",
        "        \n",
        "        self.start = datetime.datetime(*start)\n",
        "        self.end = datetime.datetime(*end)\n",
        "\n",
        "        # ==========================================================\n",
        "        # self.data = pdr.DataReader(self.symbol, 'yahoo', self.start, self.end)\n",
        "        # ==========================================================\n",
        "        # import yfinance as yfin\n",
        "        # yfin.pdr_override()\n",
        "        self.data = pdr.get_data_yahoo(tickers=self.symbol, start=self.start, end=self.end)\n",
        "        # ==========================================================\n",
        "        print(self.data.isna().sum())\n",
        "\n",
        "\n",
        "    def __len__(self):\n",
        "        return len(self.data) - (self.x_frames + self.y_frames) + 1\n",
        "    \n",
        "\n",
        "    def __getitem__(self, idx):\n",
        "        idx += self.x_frames\n",
        "\n",
        "        data = self.data.iloc[idx - self.x_frames : idx + self.y_frames]\n",
        "        data = data[['High', 'Low', 'Open', 'Close', 'Adj Close', 'Volume']]\n",
        "        data = data.apply(lambda x: np.log(x+1) - np.log(x[self.x_frames-1] + 1))\n",
        "        data = data.values      # data frame -> numpy array\n",
        "\n",
        "        X = data[:self.x_frames]\n",
        "        y = data[self.x_frames:]\n",
        "        \n",
        "        return X, y"
      ],
      "metadata": {
        "id": "FWxlo3rKxU76"
      },
      "execution_count": 52,
      "outputs": []
    },
    {
      "cell_type": "code",
      "source": [
        "dataset = StockDataset('028050.KS', 10, 5, (2001,1,1), (2005,1,1))\n",
        "print(dataset.data)"
      ],
      "metadata": {
        "colab": {
          "base_uri": "https://localhost:8080/"
        },
        "id": "zPOfvbQ1sxWa",
        "outputId": "ccbe2c70-3313-4895-98bd-378fb9e1ab41"
      },
      "execution_count": 53,
      "outputs": [
        {
          "output_type": "stream",
          "name": "stdout",
          "text": [
            "\r[*********************100%***********************]  1 of 1 completed\n",
            "Open         0\n",
            "High         0\n",
            "Low          0\n",
            "Close        0\n",
            "Adj Close    0\n",
            "Volume       0\n",
            "dtype: int64\n",
            "              Open    High     Low   Close    Adj Close   Volume\n",
            "Date                                                            \n",
            "2001-01-01  2300.0  2300.0  2300.0  2300.0  1773.588135        0\n",
            "2001-01-02  2280.0  2490.0  2280.0  2470.0  1904.679565   570800\n",
            "2001-01-03  2450.0  2450.0  2370.0  2420.0  1866.123291   366700\n",
            "2001-01-04  2580.0  2740.0  2510.0  2700.0  2082.037598   816400\n",
            "2001-01-05  2710.0  3105.0  2650.0  3100.0  2390.488281  2567400\n",
            "...            ...     ...     ...     ...          ...      ...\n",
            "2004-12-27  7400.0  7410.0  7100.0  7200.0  6000.610352   399500\n",
            "2004-12-28  7150.0  7280.0  7120.0  7190.0  5992.276367   295700\n",
            "2004-12-29  7100.0  7230.0  7080.0  7230.0  6242.674316   287000\n",
            "2004-12-30  7160.0  7460.0  7160.0  7460.0  6441.265137   287800\n",
            "2004-12-31  7460.0  7460.0  7460.0  7460.0  6441.265137        0\n",
            "\n",
            "[1045 rows x 6 columns]\n"
          ]
        }
      ]
    },
    {
      "cell_type": "code",
      "source": [
        "dataset.data"
      ],
      "metadata": {
        "colab": {
          "base_uri": "https://localhost:8080/",
          "height": 455
        },
        "id": "0tcLa4RCyVZ5",
        "outputId": "f9de59ca-31fe-442d-a17a-a4c027e55f5f"
      },
      "execution_count": 54,
      "outputs": [
        {
          "output_type": "execute_result",
          "data": {
            "text/plain": [
              "              Open    High     Low   Close    Adj Close   Volume\n",
              "Date                                                            \n",
              "2001-01-01  2300.0  2300.0  2300.0  2300.0  1773.588135        0\n",
              "2001-01-02  2280.0  2490.0  2280.0  2470.0  1904.679565   570800\n",
              "2001-01-03  2450.0  2450.0  2370.0  2420.0  1866.123291   366700\n",
              "2001-01-04  2580.0  2740.0  2510.0  2700.0  2082.037598   816400\n",
              "2001-01-05  2710.0  3105.0  2650.0  3100.0  2390.488281  2567400\n",
              "...            ...     ...     ...     ...          ...      ...\n",
              "2004-12-27  7400.0  7410.0  7100.0  7200.0  6000.610352   399500\n",
              "2004-12-28  7150.0  7280.0  7120.0  7190.0  5992.276367   295700\n",
              "2004-12-29  7100.0  7230.0  7080.0  7230.0  6242.674316   287000\n",
              "2004-12-30  7160.0  7460.0  7160.0  7460.0  6441.265137   287800\n",
              "2004-12-31  7460.0  7460.0  7460.0  7460.0  6441.265137        0\n",
              "\n",
              "[1045 rows x 6 columns]"
            ],
            "text/html": [
              "\n",
              "  <div id=\"df-9e9d8c4e-f132-43c6-be1d-01e069e893fb\">\n",
              "    <div class=\"colab-df-container\">\n",
              "      <div>\n",
              "<style scoped>\n",
              "    .dataframe tbody tr th:only-of-type {\n",
              "        vertical-align: middle;\n",
              "    }\n",
              "\n",
              "    .dataframe tbody tr th {\n",
              "        vertical-align: top;\n",
              "    }\n",
              "\n",
              "    .dataframe thead th {\n",
              "        text-align: right;\n",
              "    }\n",
              "</style>\n",
              "<table border=\"1\" class=\"dataframe\">\n",
              "  <thead>\n",
              "    <tr style=\"text-align: right;\">\n",
              "      <th></th>\n",
              "      <th>Open</th>\n",
              "      <th>High</th>\n",
              "      <th>Low</th>\n",
              "      <th>Close</th>\n",
              "      <th>Adj Close</th>\n",
              "      <th>Volume</th>\n",
              "    </tr>\n",
              "    <tr>\n",
              "      <th>Date</th>\n",
              "      <th></th>\n",
              "      <th></th>\n",
              "      <th></th>\n",
              "      <th></th>\n",
              "      <th></th>\n",
              "      <th></th>\n",
              "    </tr>\n",
              "  </thead>\n",
              "  <tbody>\n",
              "    <tr>\n",
              "      <th>2001-01-01</th>\n",
              "      <td>2300.0</td>\n",
              "      <td>2300.0</td>\n",
              "      <td>2300.0</td>\n",
              "      <td>2300.0</td>\n",
              "      <td>1773.588135</td>\n",
              "      <td>0</td>\n",
              "    </tr>\n",
              "    <tr>\n",
              "      <th>2001-01-02</th>\n",
              "      <td>2280.0</td>\n",
              "      <td>2490.0</td>\n",
              "      <td>2280.0</td>\n",
              "      <td>2470.0</td>\n",
              "      <td>1904.679565</td>\n",
              "      <td>570800</td>\n",
              "    </tr>\n",
              "    <tr>\n",
              "      <th>2001-01-03</th>\n",
              "      <td>2450.0</td>\n",
              "      <td>2450.0</td>\n",
              "      <td>2370.0</td>\n",
              "      <td>2420.0</td>\n",
              "      <td>1866.123291</td>\n",
              "      <td>366700</td>\n",
              "    </tr>\n",
              "    <tr>\n",
              "      <th>2001-01-04</th>\n",
              "      <td>2580.0</td>\n",
              "      <td>2740.0</td>\n",
              "      <td>2510.0</td>\n",
              "      <td>2700.0</td>\n",
              "      <td>2082.037598</td>\n",
              "      <td>816400</td>\n",
              "    </tr>\n",
              "    <tr>\n",
              "      <th>2001-01-05</th>\n",
              "      <td>2710.0</td>\n",
              "      <td>3105.0</td>\n",
              "      <td>2650.0</td>\n",
              "      <td>3100.0</td>\n",
              "      <td>2390.488281</td>\n",
              "      <td>2567400</td>\n",
              "    </tr>\n",
              "    <tr>\n",
              "      <th>...</th>\n",
              "      <td>...</td>\n",
              "      <td>...</td>\n",
              "      <td>...</td>\n",
              "      <td>...</td>\n",
              "      <td>...</td>\n",
              "      <td>...</td>\n",
              "    </tr>\n",
              "    <tr>\n",
              "      <th>2004-12-27</th>\n",
              "      <td>7400.0</td>\n",
              "      <td>7410.0</td>\n",
              "      <td>7100.0</td>\n",
              "      <td>7200.0</td>\n",
              "      <td>6000.610352</td>\n",
              "      <td>399500</td>\n",
              "    </tr>\n",
              "    <tr>\n",
              "      <th>2004-12-28</th>\n",
              "      <td>7150.0</td>\n",
              "      <td>7280.0</td>\n",
              "      <td>7120.0</td>\n",
              "      <td>7190.0</td>\n",
              "      <td>5992.276367</td>\n",
              "      <td>295700</td>\n",
              "    </tr>\n",
              "    <tr>\n",
              "      <th>2004-12-29</th>\n",
              "      <td>7100.0</td>\n",
              "      <td>7230.0</td>\n",
              "      <td>7080.0</td>\n",
              "      <td>7230.0</td>\n",
              "      <td>6242.674316</td>\n",
              "      <td>287000</td>\n",
              "    </tr>\n",
              "    <tr>\n",
              "      <th>2004-12-30</th>\n",
              "      <td>7160.0</td>\n",
              "      <td>7460.0</td>\n",
              "      <td>7160.0</td>\n",
              "      <td>7460.0</td>\n",
              "      <td>6441.265137</td>\n",
              "      <td>287800</td>\n",
              "    </tr>\n",
              "    <tr>\n",
              "      <th>2004-12-31</th>\n",
              "      <td>7460.0</td>\n",
              "      <td>7460.0</td>\n",
              "      <td>7460.0</td>\n",
              "      <td>7460.0</td>\n",
              "      <td>6441.265137</td>\n",
              "      <td>0</td>\n",
              "    </tr>\n",
              "  </tbody>\n",
              "</table>\n",
              "<p>1045 rows × 6 columns</p>\n",
              "</div>\n",
              "      <button class=\"colab-df-convert\" onclick=\"convertToInteractive('df-9e9d8c4e-f132-43c6-be1d-01e069e893fb')\"\n",
              "              title=\"Convert this dataframe to an interactive table.\"\n",
              "              style=\"display:none;\">\n",
              "        \n",
              "  <svg xmlns=\"http://www.w3.org/2000/svg\" height=\"24px\"viewBox=\"0 0 24 24\"\n",
              "       width=\"24px\">\n",
              "    <path d=\"M0 0h24v24H0V0z\" fill=\"none\"/>\n",
              "    <path d=\"M18.56 5.44l.94 2.06.94-2.06 2.06-.94-2.06-.94-.94-2.06-.94 2.06-2.06.94zm-11 1L8.5 8.5l.94-2.06 2.06-.94-2.06-.94L8.5 2.5l-.94 2.06-2.06.94zm10 10l.94 2.06.94-2.06 2.06-.94-2.06-.94-.94-2.06-.94 2.06-2.06.94z\"/><path d=\"M17.41 7.96l-1.37-1.37c-.4-.4-.92-.59-1.43-.59-.52 0-1.04.2-1.43.59L10.3 9.45l-7.72 7.72c-.78.78-.78 2.05 0 2.83L4 21.41c.39.39.9.59 1.41.59.51 0 1.02-.2 1.41-.59l7.78-7.78 2.81-2.81c.8-.78.8-2.07 0-2.86zM5.41 20L4 18.59l7.72-7.72 1.47 1.35L5.41 20z\"/>\n",
              "  </svg>\n",
              "      </button>\n",
              "      \n",
              "  <style>\n",
              "    .colab-df-container {\n",
              "      display:flex;\n",
              "      flex-wrap:wrap;\n",
              "      gap: 12px;\n",
              "    }\n",
              "\n",
              "    .colab-df-convert {\n",
              "      background-color: #E8F0FE;\n",
              "      border: none;\n",
              "      border-radius: 50%;\n",
              "      cursor: pointer;\n",
              "      display: none;\n",
              "      fill: #1967D2;\n",
              "      height: 32px;\n",
              "      padding: 0 0 0 0;\n",
              "      width: 32px;\n",
              "    }\n",
              "\n",
              "    .colab-df-convert:hover {\n",
              "      background-color: #E2EBFA;\n",
              "      box-shadow: 0px 1px 2px rgba(60, 64, 67, 0.3), 0px 1px 3px 1px rgba(60, 64, 67, 0.15);\n",
              "      fill: #174EA6;\n",
              "    }\n",
              "\n",
              "    [theme=dark] .colab-df-convert {\n",
              "      background-color: #3B4455;\n",
              "      fill: #D2E3FC;\n",
              "    }\n",
              "\n",
              "    [theme=dark] .colab-df-convert:hover {\n",
              "      background-color: #434B5C;\n",
              "      box-shadow: 0px 1px 3px 1px rgba(0, 0, 0, 0.15);\n",
              "      filter: drop-shadow(0px 1px 2px rgba(0, 0, 0, 0.3));\n",
              "      fill: #FFFFFF;\n",
              "    }\n",
              "  </style>\n",
              "\n",
              "      <script>\n",
              "        const buttonEl =\n",
              "          document.querySelector('#df-9e9d8c4e-f132-43c6-be1d-01e069e893fb button.colab-df-convert');\n",
              "        buttonEl.style.display =\n",
              "          google.colab.kernel.accessAllowed ? 'block' : 'none';\n",
              "\n",
              "        async function convertToInteractive(key) {\n",
              "          const element = document.querySelector('#df-9e9d8c4e-f132-43c6-be1d-01e069e893fb');\n",
              "          const dataTable =\n",
              "            await google.colab.kernel.invokeFunction('convertToInteractive',\n",
              "                                                     [key], {});\n",
              "          if (!dataTable) return;\n",
              "\n",
              "          const docLinkHtml = 'Like what you see? Visit the ' +\n",
              "            '<a target=\"_blank\" href=https://colab.research.google.com/notebooks/data_table.ipynb>data table notebook</a>'\n",
              "            + ' to learn more about interactive tables.';\n",
              "          element.innerHTML = '';\n",
              "          dataTable['output_type'] = 'display_data';\n",
              "          await google.colab.output.renderOutput(dataTable, element);\n",
              "          const docLink = document.createElement('div');\n",
              "          docLink.innerHTML = docLinkHtml;\n",
              "          element.appendChild(docLink);\n",
              "        }\n",
              "      </script>\n",
              "    </div>\n",
              "  </div>\n",
              "  "
            ]
          },
          "metadata": {},
          "execution_count": 54
        }
      ]
    },
    {
      "cell_type": "code",
      "source": [
        "dataset.data.iloc[0:2]"
      ],
      "metadata": {
        "colab": {
          "base_uri": "https://localhost:8080/",
          "height": 143
        },
        "id": "JzmVJH1u1VfB",
        "outputId": "643f7704-e671-4986-c03b-d0e4235ef31c"
      },
      "execution_count": 57,
      "outputs": [
        {
          "output_type": "execute_result",
          "data": {
            "text/plain": [
              "              Open    High     Low   Close    Adj Close  Volume\n",
              "Date                                                           \n",
              "2001-01-01  2300.0  2300.0  2300.0  2300.0  1773.588135       0\n",
              "2001-01-02  2280.0  2490.0  2280.0  2470.0  1904.679565  570800"
            ],
            "text/html": [
              "\n",
              "  <div id=\"df-1c46ea1a-b19c-48c4-9782-8de01e6828f5\">\n",
              "    <div class=\"colab-df-container\">\n",
              "      <div>\n",
              "<style scoped>\n",
              "    .dataframe tbody tr th:only-of-type {\n",
              "        vertical-align: middle;\n",
              "    }\n",
              "\n",
              "    .dataframe tbody tr th {\n",
              "        vertical-align: top;\n",
              "    }\n",
              "\n",
              "    .dataframe thead th {\n",
              "        text-align: right;\n",
              "    }\n",
              "</style>\n",
              "<table border=\"1\" class=\"dataframe\">\n",
              "  <thead>\n",
              "    <tr style=\"text-align: right;\">\n",
              "      <th></th>\n",
              "      <th>Open</th>\n",
              "      <th>High</th>\n",
              "      <th>Low</th>\n",
              "      <th>Close</th>\n",
              "      <th>Adj Close</th>\n",
              "      <th>Volume</th>\n",
              "    </tr>\n",
              "    <tr>\n",
              "      <th>Date</th>\n",
              "      <th></th>\n",
              "      <th></th>\n",
              "      <th></th>\n",
              "      <th></th>\n",
              "      <th></th>\n",
              "      <th></th>\n",
              "    </tr>\n",
              "  </thead>\n",
              "  <tbody>\n",
              "    <tr>\n",
              "      <th>2001-01-01</th>\n",
              "      <td>2300.0</td>\n",
              "      <td>2300.0</td>\n",
              "      <td>2300.0</td>\n",
              "      <td>2300.0</td>\n",
              "      <td>1773.588135</td>\n",
              "      <td>0</td>\n",
              "    </tr>\n",
              "    <tr>\n",
              "      <th>2001-01-02</th>\n",
              "      <td>2280.0</td>\n",
              "      <td>2490.0</td>\n",
              "      <td>2280.0</td>\n",
              "      <td>2470.0</td>\n",
              "      <td>1904.679565</td>\n",
              "      <td>570800</td>\n",
              "    </tr>\n",
              "  </tbody>\n",
              "</table>\n",
              "</div>\n",
              "      <button class=\"colab-df-convert\" onclick=\"convertToInteractive('df-1c46ea1a-b19c-48c4-9782-8de01e6828f5')\"\n",
              "              title=\"Convert this dataframe to an interactive table.\"\n",
              "              style=\"display:none;\">\n",
              "        \n",
              "  <svg xmlns=\"http://www.w3.org/2000/svg\" height=\"24px\"viewBox=\"0 0 24 24\"\n",
              "       width=\"24px\">\n",
              "    <path d=\"M0 0h24v24H0V0z\" fill=\"none\"/>\n",
              "    <path d=\"M18.56 5.44l.94 2.06.94-2.06 2.06-.94-2.06-.94-.94-2.06-.94 2.06-2.06.94zm-11 1L8.5 8.5l.94-2.06 2.06-.94-2.06-.94L8.5 2.5l-.94 2.06-2.06.94zm10 10l.94 2.06.94-2.06 2.06-.94-2.06-.94-.94-2.06-.94 2.06-2.06.94z\"/><path d=\"M17.41 7.96l-1.37-1.37c-.4-.4-.92-.59-1.43-.59-.52 0-1.04.2-1.43.59L10.3 9.45l-7.72 7.72c-.78.78-.78 2.05 0 2.83L4 21.41c.39.39.9.59 1.41.59.51 0 1.02-.2 1.41-.59l7.78-7.78 2.81-2.81c.8-.78.8-2.07 0-2.86zM5.41 20L4 18.59l7.72-7.72 1.47 1.35L5.41 20z\"/>\n",
              "  </svg>\n",
              "      </button>\n",
              "      \n",
              "  <style>\n",
              "    .colab-df-container {\n",
              "      display:flex;\n",
              "      flex-wrap:wrap;\n",
              "      gap: 12px;\n",
              "    }\n",
              "\n",
              "    .colab-df-convert {\n",
              "      background-color: #E8F0FE;\n",
              "      border: none;\n",
              "      border-radius: 50%;\n",
              "      cursor: pointer;\n",
              "      display: none;\n",
              "      fill: #1967D2;\n",
              "      height: 32px;\n",
              "      padding: 0 0 0 0;\n",
              "      width: 32px;\n",
              "    }\n",
              "\n",
              "    .colab-df-convert:hover {\n",
              "      background-color: #E2EBFA;\n",
              "      box-shadow: 0px 1px 2px rgba(60, 64, 67, 0.3), 0px 1px 3px 1px rgba(60, 64, 67, 0.15);\n",
              "      fill: #174EA6;\n",
              "    }\n",
              "\n",
              "    [theme=dark] .colab-df-convert {\n",
              "      background-color: #3B4455;\n",
              "      fill: #D2E3FC;\n",
              "    }\n",
              "\n",
              "    [theme=dark] .colab-df-convert:hover {\n",
              "      background-color: #434B5C;\n",
              "      box-shadow: 0px 1px 3px 1px rgba(0, 0, 0, 0.15);\n",
              "      filter: drop-shadow(0px 1px 2px rgba(0, 0, 0, 0.3));\n",
              "      fill: #FFFFFF;\n",
              "    }\n",
              "  </style>\n",
              "\n",
              "      <script>\n",
              "        const buttonEl =\n",
              "          document.querySelector('#df-1c46ea1a-b19c-48c4-9782-8de01e6828f5 button.colab-df-convert');\n",
              "        buttonEl.style.display =\n",
              "          google.colab.kernel.accessAllowed ? 'block' : 'none';\n",
              "\n",
              "        async function convertToInteractive(key) {\n",
              "          const element = document.querySelector('#df-1c46ea1a-b19c-48c4-9782-8de01e6828f5');\n",
              "          const dataTable =\n",
              "            await google.colab.kernel.invokeFunction('convertToInteractive',\n",
              "                                                     [key], {});\n",
              "          if (!dataTable) return;\n",
              "\n",
              "          const docLinkHtml = 'Like what you see? Visit the ' +\n",
              "            '<a target=\"_blank\" href=https://colab.research.google.com/notebooks/data_table.ipynb>data table notebook</a>'\n",
              "            + ' to learn more about interactive tables.';\n",
              "          element.innerHTML = '';\n",
              "          dataTable['output_type'] = 'display_data';\n",
              "          await google.colab.output.renderOutput(dataTable, element);\n",
              "          const docLink = document.createElement('div');\n",
              "          docLink.innerHTML = docLinkHtml;\n",
              "          element.appendChild(docLink);\n",
              "        }\n",
              "      </script>\n",
              "    </div>\n",
              "  </div>\n",
              "  "
            ]
          },
          "metadata": {},
          "execution_count": 57
        }
      ]
    },
    {
      "cell_type": "code",
      "source": [
        "print(type(dataset.data.iloc[0:5].values[:2]))"
      ],
      "metadata": {
        "colab": {
          "base_uri": "https://localhost:8080/"
        },
        "id": "U3m0LX642RML",
        "outputId": "d7e5cc87-160d-4ed3-aebd-06952a2ab9c5"
      },
      "execution_count": 59,
      "outputs": [
        {
          "output_type": "stream",
          "name": "stdout",
          "text": [
            "<class 'numpy.ndarray'>\n"
          ]
        }
      ]
    },
    {
      "cell_type": "code",
      "source": [
        "dataloader = DataLoader(dataset, 2)\n",
        "for X, y in dataloader:\n",
        "    print(X.shape, y.shape)\n",
        "    break"
      ],
      "metadata": {
        "colab": {
          "base_uri": "https://localhost:8080/"
        },
        "id": "k3VsSwi166BZ",
        "outputId": "82fd949c-7e39-434d-ef80-8fc3ba372f39"
      },
      "execution_count": 60,
      "outputs": [
        {
          "output_type": "stream",
          "name": "stdout",
          "text": [
            "torch.Size([2, 10, 6]) torch.Size([2, 5, 6])\n"
          ]
        }
      ]
    },
    {
      "cell_type": "markdown",
      "source": [
        "# Model Architecture"
      ],
      "metadata": {
        "id": "8W8jPoeYU5yB"
      }
    },
    {
      "cell_type": "code",
      "source": [
        "class LSTM(nn.Module):\n",
        "    def __init__(self, input_dim, hidden_dim, output_dim, num_layers, batch_size, dropout, use_bn):\n",
        "        super(LSTM, self).__init__()\n",
        "        self.input_dim = input_dim\n",
        "        self.hidden_dim = hidden_dim\n",
        "        self.output_dim = output_dim\n",
        "        self.num_layers = num_layers\n",
        "\n",
        "        self.batch_size = batch_size\n",
        "        self.dropout = dropout\n",
        "        self.use_bn = use_bn\n",
        "\n",
        "        self.lstm = nn.LSTM(self.input_dim, self.hidden_dim, self.num_layers)\n",
        "        self.hidden = self.init_hidden()\n",
        "        self.regressor = self.make_regressor()\n",
        "    \n",
        "\n",
        "    def init_hidden(self):\n",
        "        return (torch.zeros(self.num_layers, self.batch_size, self.hidden_dim),\n",
        "                torch.zeros(self.num_layers, self.batch_size, self.hidden_dim))\n",
        "    \n",
        "\n",
        "    def make_regressor(self):\n",
        "        layers = []\n",
        "        if self.use_bn:\n",
        "            layers.append(nn.BatchNorm1d(self.hidden_dim))\n",
        "        layers.append(nn.Dropout(self.dropout))\n",
        "\n",
        "        layers.append(nn.Linear(self.hidden_dim, self.hidden_dim // 2))\n",
        "        layers.append(nn.ReLU())\n",
        "        layers.append(nn.Linear(self.hidden_dim // 2, self.output_dim))\n",
        "        regressor = nn.Sequential(*layers)\n",
        "\n",
        "        return regressor\n",
        "    \n",
        "\n",
        "    def forward(self, x):\n",
        "        lstm_out, self.hidden = self.lstm(x, self.hidden)\n",
        "        y_pred = self.regressor(lstm_out[-1].view(self.batch_size, -1))\n",
        "\n",
        "        return y_pred"
      ],
      "metadata": {
        "id": "noPZHxfyQz9J"
      },
      "execution_count": 55,
      "outputs": []
    },
    {
      "cell_type": "code",
      "source": [
        "def metric(y_pred, y_true):\n",
        "    perc_y_pred = np.exp(y_pred.cpu().detach().numpy())\n",
        "    perc_y_true = np.exp(y_true.cpu().detach().numpy())\n",
        "    mae = mean_absolute_error(perc_y_true, perc_y_pred, multioutput='raw_values')\n",
        "\n",
        "    return mae*100"
      ],
      "metadata": {
        "id": "aSRF1Hcuv-qf"
      },
      "execution_count": 56,
      "outputs": []
    },
    {
      "cell_type": "markdown",
      "source": [
        "# Train, Validate, and Test\n",
        "- Data set: Give you the i-th record value.  \n",
        "- Data loader: When processing data, it is required in a batch manner. DataLoader of PyTorch performs the above role."
      ],
      "metadata": {
        "id": "Y8AXxxKiYi1m"
      }
    },
    {
      "cell_type": "code",
      "source": [
        "def train(model, partition, optimizer, loss_fn, args):\n",
        "    trainloader = DataLoader(partition['train'],\n",
        "                             batch_size=args.batch_size,\n",
        "                             shuffle=True, drop_last=True)\n",
        "\n",
        "    model.train()\n",
        "    model.zero_grad()\n",
        "    optimizer.zero_grad()\n",
        "\n",
        "    train_loss = 0.0\n",
        "    train_acc = 0.0\n",
        "    for i, (X, y) in enumerate(trainloader):\n",
        "        # X: [10, n, 6] -> [sequence length = 'n' days, batch size = 10, input dimension (= no. of columns) = 6]\n",
        "        # y: [10, m, 1] or [10, m]\n",
        "        # where n for the past days and m for the future\n",
        "        X = X.transpose(0, 1).float().to(args.device)\n",
        "        y_true = y[:, :, 3].float().to(args.device)\n",
        "        # print(torch.max(X[:, :, 3]), torch.max(y_true))\n",
        "\n",
        "        model.zero_grad()\n",
        "        optimizer.zero_grad()\n",
        "        model.hidden = [hidden.to(args.device) for hidden in model.init_hidden()]\n",
        "\n",
        "        y_pred = model(X)\n",
        "        loss = loss_fn(y_pred.view(-1), y_true.view(-1))\n",
        "        loss.backward()\n",
        "        optimizer.step()\n",
        "\n",
        "        train_loss += loss.item()\n",
        "        train_acc += metric(y_pred, y_true)[0]\n",
        "    \n",
        "    train_loss = train_loss / len(trainloader)\n",
        "    train_acc = train_acc / len(trainloader)\n",
        "\n",
        "    return model, train_loss, train_acc"
      ],
      "metadata": {
        "id": "nroyhSa-YZy-"
      },
      "execution_count": 61,
      "outputs": []
    },
    {
      "cell_type": "code",
      "source": [
        "def validate(model, partition, loss_fn, args):\n",
        "    valloader = DataLoader(partition['val'],\n",
        "                           batch_size=args.batch_size,\n",
        "                           shuffle=False, drop_last=True)\n",
        "    model.eval()\n",
        "\n",
        "    val_loss = 0.0\n",
        "    val_acc = 0.0\n",
        "    with torch.no_grad():\n",
        "        for i, (X, y) in enumerate(valloader):\n",
        "            X = X.transpose(0, 1).float().to(args.device)\n",
        "            y_true = y[:, :, 3].float().to(args.device)\n",
        "            model.hidden = [hidden.to(args.device) for hidden in model.init_hidden()]\n",
        "\n",
        "            y_pred = model(X)\n",
        "            loss = loss_fn(y_pred.view(-1), y_true.view(-1))\n",
        "\n",
        "            val_loss += loss.item()\n",
        "            val_acc += metric(y_pred, y_true)[0]\n",
        "\n",
        "    val_loss = val_loss / len(valloader)\n",
        "    val_acc = val_acc / len(valloader)\n",
        "\n",
        "    return val_loss, val_acc"
      ],
      "metadata": {
        "id": "K1GIMgcNYZ5M"
      },
      "execution_count": 71,
      "outputs": []
    },
    {
      "cell_type": "code",
      "source": [
        "def test(model, partition, args):\n",
        "    testloader = DataLoader(partition['test'],\n",
        "                            batch_size=args.batch_size,\n",
        "                            shuffle=False, drop_last=True)\n",
        "    model.eval()\n",
        "\n",
        "    test_acc = 0.0\n",
        "    with torch.no_grad():\n",
        "        for i, (X, y) in enumerate(testloader):\n",
        "            X = X.transpose(0, 1).float().to(args.device)\n",
        "            y_true = y[:, :, 3].float().to(args.device)\n",
        "            model.hidden = [hidden.to(args.device) for hidden in model.init_hidden()]\n",
        "\n",
        "            y_pred = model(X)\n",
        "            \n",
        "            test_acc += metric(y_pred, y_true)[0]\n",
        "        \n",
        "    test_acc = test_acc / len(testloader)\n",
        "\n",
        "    return test_acc"
      ],
      "metadata": {
        "id": "z8lpk8_NYZ-i"
      },
      "execution_count": 63,
      "outputs": []
    },
    {
      "cell_type": "code",
      "source": [
        "def experiment(partition, args):\n",
        "    model = LSTM(args.input_dim, args.hid_dim, args.y_frames, args.n_layers, args.batch_size, args.dropout, args.use_bn)\n",
        "    model.to(args.device)\n",
        "    loss_fn = torch.nn.MSELoss()\n",
        "\n",
        "    loss_fn = nn.MSELoss()\n",
        "    if args.optim == 'SGD':\n",
        "        optimizer = optim.RMSprop(model.parameters(), lr=args.lr, weight_decay=args.l2)\n",
        "    elif args.optim == 'RMSprop':\n",
        "        optimizer = optim.RMSprop(model.parameters(), lr=args.lr, weight_decay=args.l2)\n",
        "    elif args.optim == 'Adam':\n",
        "        optimizer = optim.Adam(model.parameters(), lr=args.lr, weight_decay=args.l2)\n",
        "    else:\n",
        "        raise ValueError('In-valid optimizer choice')\n",
        "    \n",
        "    # ===== List for epoch-wise data ===== #\n",
        "    train_losses = []\n",
        "    val_losses = []\n",
        "    train_accs = []\n",
        "    val_accs = []\n",
        "    # ========================= #\n",
        "        \n",
        "    for epoch in range(args.epoch):  # loop over the dataset multiple times\n",
        "        ts = time.time()\n",
        "        model, train_loss, train_acc = train(model, partition, optimizer, loss_fn, args)\n",
        "        val_loss, val_acc = validate(model, partition, loss_fn, args)\n",
        "        te = time.time()\n",
        "        \n",
        "        # ===== Add Epoch Data ===== #\n",
        "        train_losses.append(train_loss)\n",
        "        val_losses.append(val_loss)\n",
        "        train_accs.append(train_acc)\n",
        "        val_accs.append(val_acc)\n",
        "        # ==================== #\n",
        "        \n",
        "        print('Epoch {}, Acc(train/val): {:2.2f}/{:2.2f}, Loss(train/val) {:2.5f}/{:2.5f}. Took {:2.2f} sec'.format(epoch, train_acc, val_acc, train_loss, val_loss, te-ts))\n",
        "        \n",
        "    test_acc = test(model, partition, args)    \n",
        "    \n",
        "    # ======= Add Result to Dictionary ======= #\n",
        "    result = {}\n",
        "    result['train_losses'] = train_losses\n",
        "    result['val_losses'] = val_losses\n",
        "    result['train_accs'] = train_accs\n",
        "    result['val_accs'] = val_accs\n",
        "    result['train_acc'] = train_acc\n",
        "    result['val_acc'] = val_acc\n",
        "    result['test_acc'] = test_acc\n",
        "    \n",
        "    return vars(args), result"
      ],
      "metadata": {
        "id": "RgbYBzOvYaDy"
      },
      "execution_count": 64,
      "outputs": []
    },
    {
      "cell_type": "markdown",
      "source": [
        "# Manage Experiment"
      ],
      "metadata": {
        "id": "cKd7d-ondLbF"
      }
    },
    {
      "cell_type": "code",
      "source": [
        "import hashlib\n",
        "import json\n",
        "from os import listdir\n",
        "from os.path import isfile, join\n",
        "import pandas as pd\n",
        "\n",
        "def save_exp_result(setting, result):\n",
        "    exp_name = setting['exp_name']\n",
        "    del setting['epoch']\n",
        "\n",
        "    hash_key = hashlib.sha1(str(setting).encode()).hexdigest()[:6]\n",
        "    filename = './results/{}-{}.json'.format(exp_name, hash_key)\n",
        "    result.update(setting)\n",
        "    with open(filename, 'w') as f:\n",
        "        json.dump(result, f)\n",
        "\n",
        "    \n",
        "def load_exp_result(exp_name):\n",
        "    dir_path = './results'\n",
        "    filenames = [f for f in listdir(dir_path) if isfile(join(dir_path, f)) if '.json' in f]\n",
        "    list_result = []\n",
        "    for filename in filenames:\n",
        "        if exp_name in filename:\n",
        "            with open(join(dir_path, filename), 'r') as infile:\n",
        "                results = json.load(infile)\n",
        "                list_result.append(results)\n",
        "                \n",
        "    df = pd.DataFrame(list_result)  # .drop(columns=[])\n",
        "\n",
        "    return df"
      ],
      "metadata": {
        "id": "3759LURSYaI-"
      },
      "execution_count": 65,
      "outputs": []
    },
    {
      "cell_type": "code",
      "source": [
        "def plot_acc(var1, var2, df):\n",
        "    fig, ax = plt.subplots(1, 3)\n",
        "    fig.set_size_inches(15, 6)\n",
        "    sns.set_style(\"darkgrid\", {\"axes.facecolor\": \".9\"})\n",
        "\n",
        "    sns.barplot(x=var1, y='train_acc', hue=var2, data=df, ax=ax[0])\n",
        "    sns.barplot(x=var1, y='val_acc', hue=var2, data=df, ax=ax[1])\n",
        "    sns.barplot(x=var1, y='test_acc', hue=var2, data=df, ax=ax[2])\n",
        "    \n",
        "    ax[0].set_title('Train Accuracy')\n",
        "    ax[1].set_title('Validation Accuracy')\n",
        "    ax[2].set_title('Test Accuracy')\n",
        "\n",
        "    \n",
        "def plot_loss_variation(var1, var2, df, **kwargs):\n",
        "    list_v1 = df[var1].unique()\n",
        "    list_v2 = df[var2].unique()\n",
        "    list_data = []\n",
        "\n",
        "    for value1 in list_v1:\n",
        "        for value2 in list_v2:\n",
        "            row = df.loc[df[var1]==value1]\n",
        "            row = row.loc[df[var2]==value2]\n",
        "\n",
        "            train_losses = list(row.train_losses)[0]\n",
        "            val_losses = list(row.val_losses)[0]\n",
        "\n",
        "            for epoch, train_loss in enumerate(train_losses):\n",
        "                list_data.append({'type':'train', 'loss':train_loss, 'epoch':epoch, var1:value1, var2:value2})\n",
        "            for epoch, val_loss in enumerate(val_losses):\n",
        "                list_data.append({'type':'val', 'loss':val_loss, 'epoch':epoch, var1:value1, var2:value2})\n",
        "\n",
        "    df = pd.DataFrame(list_data)\n",
        "    g = sns.FacetGrid(df, row=var2, col=var1, hue='type', **kwargs)\n",
        "    g = g.map(plt.plot, 'epoch', 'loss', marker='.')\n",
        "    g.add_legend()\n",
        "    g.fig.suptitle('Train loss vs Val loss')\n",
        "    plt.subplots_adjust(top=0.89)   # 만약 Title이 그래프랑 겹친다면 top 값을 조정해주면 됩니다! 함수 인자로 받으면 그래프마다 조절할 수 있겠죠?\n",
        "\n",
        "\n",
        "def plot_acc_variation(var1, var2, df, **kwargs):\n",
        "    list_v1 = df[var1].unique()\n",
        "    list_v2 = df[var2].unique()\n",
        "    list_data = []\n",
        "\n",
        "    for value1 in list_v1:\n",
        "        for value2 in list_v2:\n",
        "            row = df.loc[df[var1]==value1]\n",
        "            row = row.loc[df[var2]==value2]\n",
        "\n",
        "            train_accs = list(row.train_accs)[0]\n",
        "            val_accs = list(row.val_accs)[0]\n",
        "            test_acc = list(row.test_acc)[0]\n",
        "\n",
        "            for epoch, train_acc in enumerate(train_accs):\n",
        "                list_data.append({'type':'train', 'Acc':train_acc, 'test_acc':test_acc, 'epoch':epoch, var1:value1, var2:value2})\n",
        "            for epoch, val_acc in enumerate(val_accs):\n",
        "                list_data.append({'type':'val', 'Acc':val_acc, 'test_acc':test_acc, 'epoch':epoch, var1:value1, var2:value2})\n",
        "\n",
        "    df = pd.DataFrame(list_data)\n",
        "    g = sns.FacetGrid(df, row=var2, col=var1, hue='type', **kwargs)\n",
        "    g = g.map(plt.plot, 'epoch', 'Acc', marker='.')\n",
        "\n",
        "\n",
        "    def show_acc(x, y, metric, **kwargs):\n",
        "        plt.scatter(x, y, alpha=0.3, s=1)\n",
        "        metric = \"Test Acc: {:1.3f}\".format(list(metric.values)[0])\n",
        "        plt.text(0.05, 0.95, metric,  horizontalalignment='left', verticalalignment='center', transform=plt.gca().transAxes, bbox=dict(facecolor='yellow', alpha=0.5, boxstyle=\"round,pad=0.1\"))\n",
        "    g = g.map(show_acc, 'epoch', 'Acc', 'test_acc')\n",
        "\n",
        "    g.add_legend()\n",
        "    g.fig.suptitle('Train Accuracy vs Val Accuracy')\n",
        "    plt.subplots_adjust(top=0.89)"
      ],
      "metadata": {
        "id": "KMjMVNBNYaOj"
      },
      "execution_count": 66,
      "outputs": []
    },
    {
      "cell_type": "code",
      "source": [
        "# ===== Random Seed Initialization ===== #\n",
        "seed = 666\n",
        "np.random.seed(seed)\n",
        "torch.manual_seed(seed)\n",
        "\n",
        "parser = argparse.ArgumentParser()\n",
        "args = parser.parse_args(\"\")\n",
        "args.exp_name = \"exp1_lr\"\n",
        "args.device = 'cuda' if torch.cuda.is_available() else 'cpu'\n",
        "\n",
        "# ===== Data Loading ===== #\n",
        "args.symbol = '028050.KS'\n",
        "args.batch_size = 128\n",
        "args.x_frames = 5\n",
        "args.y_frames = 5\n",
        "\n",
        "# ===== Model Capacity ===== #\n",
        "args.input_dim = 6\n",
        "args.hid_dim = 50\n",
        "args.n_layers = 2\n",
        "\n",
        "# ===== Regularization ===== #\n",
        "args.l2 = 0.00001\n",
        "args.dropout = 0.0\n",
        "args.use_bn = True\n",
        "\n",
        "# ===== Optimizer & Training ===== #\n",
        "args.optim = 'RMSprop'  # SGD, RMSprop, Adam, ...\n",
        "args.lr = 0.0001\n",
        "args.epoch = 2\n",
        "\n",
        "\n",
        "\n",
        "trainset = StockDataset(args.symbol, args.x_frames, args.y_frames, (2000,1,1), (2012,1,1))\n",
        "valset = StockDataset(args.symbol, args.x_frames, args.y_frames, (2012,1,1), (2016,1,1))\n",
        "testset = StockDataset(args.symbol, args.x_frames, args.y_frames, (2016,1,1), (2019,2,1))\n",
        "partition = {'train': trainset, 'val':valset, 'test':testset}"
      ],
      "metadata": {
        "id": "EHWwe-XgYaTS",
        "colab": {
          "base_uri": "https://localhost:8080/"
        },
        "outputId": "35cef2e2-7364-41c8-979c-041c58e3778f"
      },
      "execution_count": 69,
      "outputs": [
        {
          "output_type": "stream",
          "name": "stdout",
          "text": [
            "[*********************100%***********************]  1 of 1 completed\n",
            "Open         0\n",
            "High         0\n",
            "Low          0\n",
            "Close        0\n",
            "Adj Close    0\n",
            "Volume       0\n",
            "dtype: int64\n",
            "[*********************100%***********************]  1 of 1 completed\n",
            "Open         0\n",
            "High         0\n",
            "Low          0\n",
            "Close        0\n",
            "Adj Close    0\n",
            "Volume       0\n",
            "dtype: int64\n",
            "[*********************100%***********************]  1 of 1 completed\n",
            "Open         0\n",
            "High         0\n",
            "Low          0\n",
            "Close        0\n",
            "Adj Close    0\n",
            "Volume       0\n",
            "dtype: int64\n"
          ]
        }
      ]
    },
    {
      "cell_type": "code",
      "source": [
        "!mkdir results"
      ],
      "metadata": {
        "id": "9VHw-TnE_gHP"
      },
      "execution_count": 73,
      "outputs": []
    },
    {
      "cell_type": "code",
      "source": [
        "# ===== Experiment Variable ===== #\n",
        "name_var1 = 'lr'\n",
        "name_var2 = 'n_layers'\n",
        "list_var1 = [0.001, 0.0001, 0.00001]\n",
        "list_var2 = [1, 2, 3]\n",
        "\n",
        "for var1 in list_var1:\n",
        "    for var2 in list_var2:\n",
        "        setattr(args, name_var1, var1)\n",
        "        setattr(args, name_var2, var2)\n",
        "        print(args)\n",
        "                \n",
        "        setting, result = experiment(partition, deepcopy(args))\n",
        "        save_exp_result(setting, result)"
      ],
      "metadata": {
        "id": "giHSmJisYaXb",
        "colab": {
          "base_uri": "https://localhost:8080/"
        },
        "outputId": "cd9f5568-9ef6-493a-fe4c-f6e9b982dd1f"
      },
      "execution_count": 74,
      "outputs": [
        {
          "output_type": "stream",
          "name": "stdout",
          "text": [
            "Namespace(batch_size=128, device='cuda', dropout=0.0, epoch=2, exp_name='exp1_lr', hid_dim=50, input_dim=6, l2=1e-05, lr=0.001, n_layers=1, optim='RMSprop', symbol='028050.KS', use_bn=True, x_frames=5, y_frames=5)\n",
            "Epoch 0, Acc(train/val): 5.90/3.63, Loss(train/val) 0.01141/0.00453. Took 11.52 sec\n",
            "Epoch 1, Acc(train/val): 2.85/2.81, Loss(train/val) 0.00368/0.00330. Took 12.21 sec\n",
            "Namespace(batch_size=128, device='cuda', dropout=0.0, epoch=2, exp_name='exp1_lr', hid_dim=50, input_dim=6, l2=1e-05, lr=0.001, n_layers=2, optim='RMSprop', symbol='028050.KS', use_bn=True, x_frames=5, y_frames=5)\n",
            "Epoch 0, Acc(train/val): 5.94/1.98, Loss(train/val) 0.01390/0.00587. Took 11.46 sec\n",
            "Epoch 1, Acc(train/val): 2.56/1.95, Loss(train/val) 0.00356/0.00469. Took 11.67 sec\n",
            "Namespace(batch_size=128, device='cuda', dropout=0.0, epoch=2, exp_name='exp1_lr', hid_dim=50, input_dim=6, l2=1e-05, lr=0.001, n_layers=3, optim='RMSprop', symbol='028050.KS', use_bn=True, x_frames=5, y_frames=5)\n",
            "Epoch 0, Acc(train/val): 4.61/5.01, Loss(train/val) 0.00949/0.00698. Took 11.48 sec\n",
            "Epoch 1, Acc(train/val): 2.84/4.81, Loss(train/val) 0.00352/0.00616. Took 11.28 sec\n",
            "Namespace(batch_size=128, device='cuda', dropout=0.0, epoch=2, exp_name='exp1_lr', hid_dim=50, input_dim=6, l2=1e-05, lr=0.0001, n_layers=1, optim='RMSprop', symbol='028050.KS', use_bn=True, x_frames=5, y_frames=5)\n",
            "Epoch 0, Acc(train/val): 16.32/9.77, Loss(train/val) 0.04437/0.02449. Took 13.04 sec\n",
            "Epoch 1, Acc(train/val): 12.77/10.35, Loss(train/val) 0.02455/0.02000. Took 11.34 sec\n",
            "Namespace(batch_size=128, device='cuda', dropout=0.0, epoch=2, exp_name='exp1_lr', hid_dim=50, input_dim=6, l2=1e-05, lr=0.0001, n_layers=2, optim='RMSprop', symbol='028050.KS', use_bn=True, x_frames=5, y_frames=5)\n",
            "Epoch 0, Acc(train/val): 8.83/16.91, Loss(train/val) 0.03312/0.02273. Took 11.36 sec\n",
            "Epoch 1, Acc(train/val): 7.14/15.16, Loss(train/val) 0.01811/0.02004. Took 11.66 sec\n",
            "Namespace(batch_size=128, device='cuda', dropout=0.0, epoch=2, exp_name='exp1_lr', hid_dim=50, input_dim=6, l2=1e-05, lr=0.0001, n_layers=3, optim='RMSprop', symbol='028050.KS', use_bn=True, x_frames=5, y_frames=5)\n",
            "Epoch 0, Acc(train/val): 17.59/20.48, Loss(train/val) 0.01681/0.02055. Took 11.48 sec\n",
            "Epoch 1, Acc(train/val): 9.46/19.16, Loss(train/val) 0.00737/0.01811. Took 12.09 sec\n",
            "Namespace(batch_size=128, device='cuda', dropout=0.0, epoch=2, exp_name='exp1_lr', hid_dim=50, input_dim=6, l2=1e-05, lr=1e-05, n_layers=1, optim='RMSprop', symbol='028050.KS', use_bn=True, x_frames=5, y_frames=5)\n",
            "Epoch 0, Acc(train/val): 15.06/21.76, Loss(train/val) 0.05001/0.01908. Took 11.82 sec\n",
            "Epoch 1, Acc(train/val): 14.36/20.85, Loss(train/val) 0.04279/0.01914. Took 11.77 sec\n",
            "Namespace(batch_size=128, device='cuda', dropout=0.0, epoch=2, exp_name='exp1_lr', hid_dim=50, input_dim=6, l2=1e-05, lr=1e-05, n_layers=2, optim='RMSprop', symbol='028050.KS', use_bn=True, x_frames=5, y_frames=5)\n",
            "Epoch 0, Acc(train/val): 27.11/18.80, Loss(train/val) 0.04352/0.01520. Took 11.77 sec\n",
            "Epoch 1, Acc(train/val): 23.75/18.88, Loss(train/val) 0.03342/0.01539. Took 11.56 sec\n",
            "Namespace(batch_size=128, device='cuda', dropout=0.0, epoch=2, exp_name='exp1_lr', hid_dim=50, input_dim=6, l2=1e-05, lr=1e-05, n_layers=3, optim='RMSprop', symbol='028050.KS', use_bn=True, x_frames=5, y_frames=5)\n",
            "Epoch 0, Acc(train/val): 37.32/15.66, Loss(train/val) 0.06690/0.01787. Took 11.48 sec\n",
            "Epoch 1, Acc(train/val): 26.73/15.21, Loss(train/val) 0.04356/0.01768. Took 11.42 sec\n"
          ]
        }
      ]
    },
    {
      "cell_type": "code",
      "source": [
        "var1 = 'lr'\n",
        "var2 = 'n_layers'\n",
        "df = load_exp_result('exp1')\n",
        "\n",
        "plot_acc(var1, var2, df)\n",
        "plot_loss_variation(var1, var2, df, sharey=False)   # sharey를 True로 하면 모둔 subplot의 y축의 스케일이 같아집니다.\n",
        "plot_acc_variation(var1, var2, df, margin_titles=True, sharey=True)"
      ],
      "metadata": {
        "id": "23jX0wGydW3k",
        "colab": {
          "base_uri": "https://localhost:8080/",
          "height": 1000
        },
        "outputId": "deeeaca7-b098-4b28-8ba2-ab1760de9c1d"
      },
      "execution_count": 75,
      "outputs": [
        {
          "output_type": "display_data",
          "data": {
            "text/plain": [
              "<Figure size 1080x432 with 3 Axes>"
            ],
            "image/png": "[encoded data removed]"
          },
          "metadata": {
            "needs_background": "light"
          }
        },
        {
          "output_type": "display_data",
          "data": {
            "text/plain": [
              "<Figure size 707.375x648 with 9 Axes>"
            ],
            "image/png": "[encoded data removed]"
          },
          "metadata": {}
        },
        {
          "output_type": "display_data",
          "data": {
            "text/plain": [
              "<Figure size 707.375x648 with 9 Axes>"
            ],
            "image/png": "[encoded data removed]"
          },
          "metadata": {}
        }
      ]
    }
  ]
}