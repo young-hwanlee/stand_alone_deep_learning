{
  "nbformat": 4,
  "nbformat_minor": 0,
  "metadata": {
    "colab": {
      "name": "#15_Lab_How_to_Write_Well-Organized_DL_Code_from_Scratch.ipynb",
      "provenance": [],
      "authorship_tag": "ABX9TyMLSYlY0Azn32tYs7oGkQyl",
      "include_colab_link": true
    },
    "kernelspec": {
      "name": "python3",
      "display_name": "Python 3"
    },
    "language_info": {
      "name": "python"
    },
    "accelerator": "GPU",
    "gpuClass": "standard",
    "widgets": {
      "application/vnd.jupyter.widget-state+json": {
        "ee8ca5e601de41f5962e1ea5beb203c1": {
          "model_module": "@jupyter-widgets/controls",
          "model_name": "HBoxModel",
          "model_module_version": "1.5.0",
          "state": {
            "_dom_classes": [],
            "_model_module": "@jupyter-widgets/controls",
            "_model_module_version": "1.5.0",
            "_model_name": "HBoxModel",
            "_view_count": null,
            "_view_module": "@jupyter-widgets/controls",
            "_view_module_version": "1.5.0",
            "_view_name": "HBoxView",
            "box_style": "",
            "children": [
              "IPY_MODEL_c6fc036c799e42d999320c533e904205",
              "IPY_MODEL_5a1abd6829a1487a978c0794592aff72",
              "IPY_MODEL_1be8c61683bf4af5b4fb7a2480025d60"
            ],
            "layout": "IPY_MODEL_b5abdf7ffc444eed9d6ed517de310ea9"
          }
        },
        "c6fc036c799e42d999320c533e904205": {
          "model_module": "@jupyter-widgets/controls",
          "model_name": "HTMLModel",
          "model_module_version": "1.5.0",
          "state": {
            "_dom_classes": [],
            "_model_module": "@jupyter-widgets/controls",
            "_model_module_version": "1.5.0",
            "_model_name": "HTMLModel",
            "_view_count": null,
            "_view_module": "@jupyter-widgets/controls",
            "_view_module_version": "1.5.0",
            "_view_name": "HTMLView",
            "description": "",
            "description_tooltip": null,
            "layout": "IPY_MODEL_3584b86342c84a188905dc90a2da7bcc",
            "placeholder": "​",
            "style": "IPY_MODEL_1d4b33b7f4b94563b77d4aff923e41c9",
            "value": "100%"
          }
        },
        "5a1abd6829a1487a978c0794592aff72": {
          "model_module": "@jupyter-widgets/controls",
          "model_name": "FloatProgressModel",
          "model_module_version": "1.5.0",
          "state": {
            "_dom_classes": [],
            "_model_module": "@jupyter-widgets/controls",
            "_model_module_version": "1.5.0",
            "_model_name": "FloatProgressModel",
            "_view_count": null,
            "_view_module": "@jupyter-widgets/controls",
            "_view_module_version": "1.5.0",
            "_view_name": "ProgressView",
            "bar_style": "success",
            "description": "",
            "description_tooltip": null,
            "layout": "IPY_MODEL_b5d7e1ab3f214364b1c3afb9961ea618",
            "max": 170498071,
            "min": 0,
            "orientation": "horizontal",
            "style": "IPY_MODEL_232ec2de77774211b6a5e1a275835281",
            "value": 170498071
          }
        },
        "1be8c61683bf4af5b4fb7a2480025d60": {
          "model_module": "@jupyter-widgets/controls",
          "model_name": "HTMLModel",
          "model_module_version": "1.5.0",
          "state": {
            "_dom_classes": [],
            "_model_module": "@jupyter-widgets/controls",
            "_model_module_version": "1.5.0",
            "_model_name": "HTMLModel",
            "_view_count": null,
            "_view_module": "@jupyter-widgets/controls",
            "_view_module_version": "1.5.0",
            "_view_name": "HTMLView",
            "description": "",
            "description_tooltip": null,
            "layout": "IPY_MODEL_8bee24bedfc748d39bebd183d5433ef1",
            "placeholder": "​",
            "style": "IPY_MODEL_3c9fdbf32c5b4e9c96eb34e0c3ae9033",
            "value": " 170498071/170498071 [00:13&lt;00:00, 14268165.32it/s]"
          }
        },
        "b5abdf7ffc444eed9d6ed517de310ea9": {
          "model_module": "@jupyter-widgets/base",
          "model_name": "LayoutModel",
          "model_module_version": "1.2.0",
          "state": {
            "_model_module": "@jupyter-widgets/base",
            "_model_module_version": "1.2.0",
            "_model_name": "LayoutModel",
            "_view_count": null,
            "_view_module": "@jupyter-widgets/base",
            "_view_module_version": "1.2.0",
            "_view_name": "LayoutView",
            "align_content": null,
            "align_items": null,
            "align_self": null,
            "border": null,
            "bottom": null,
            "display": null,
            "flex": null,
            "flex_flow": null,
            "grid_area": null,
            "grid_auto_columns": null,
            "grid_auto_flow": null,
            "grid_auto_rows": null,
            "grid_column": null,
            "grid_gap": null,
            "grid_row": null,
            "grid_template_areas": null,
            "grid_template_columns": null,
            "grid_template_rows": null,
            "height": null,
            "justify_content": null,
            "justify_items": null,
            "left": null,
            "margin": null,
            "max_height": null,
            "max_width": null,
            "min_height": null,
            "min_width": null,
            "object_fit": null,
            "object_position": null,
            "order": null,
            "overflow": null,
            "overflow_x": null,
            "overflow_y": null,
            "padding": null,
            "right": null,
            "top": null,
            "visibility": null,
            "width": null
          }
        },
        "3584b86342c84a188905dc90a2da7bcc": {
          "model_module": "@jupyter-widgets/base",
          "model_name": "LayoutModel",
          "model_module_version": "1.2.0",
          "state": {
            "_model_module": "@jupyter-widgets/base",
            "_model_module_version": "1.2.0",
            "_model_name": "LayoutModel",
            "_view_count": null,
            "_view_module": "@jupyter-widgets/base",
            "_view_module_version": "1.2.0",
            "_view_name": "LayoutView",
            "align_content": null,
            "align_items": null,
            "align_self": null,
            "border": null,
            "bottom": null,
            "display": null,
            "flex": null,
            "flex_flow": null,
            "grid_area": null,
            "grid_auto_columns": null,
            "grid_auto_flow": null,
            "grid_auto_rows": null,
            "grid_column": null,
            "grid_gap": null,
            "grid_row": null,
            "grid_template_areas": null,
            "grid_template_columns": null,
            "grid_template_rows": null,
            "height": null,
            "justify_content": null,
            "justify_items": null,
            "left": null,
            "margin": null,
            "max_height": null,
            "max_width": null,
            "min_height": null,
            "min_width": null,
            "object_fit": null,
            "object_position": null,
            "order": null,
            "overflow": null,
            "overflow_x": null,
            "overflow_y": null,
            "padding": null,
            "right": null,
            "top": null,
            "visibility": null,
            "width": null
          }
        },
        "1d4b33b7f4b94563b77d4aff923e41c9": {
          "model_module": "@jupyter-widgets/controls",
          "model_name": "DescriptionStyleModel",
          "model_module_version": "1.5.0",
          "state": {
            "_model_module": "@jupyter-widgets/controls",
            "_model_module_version": "1.5.0",
            "_model_name": "DescriptionStyleModel",
            "_view_count": null,
            "_view_module": "@jupyter-widgets/base",
            "_view_module_version": "1.2.0",
            "_view_name": "StyleView",
            "description_width": ""
          }
        },
        "b5d7e1ab3f214364b1c3afb9961ea618": {
          "model_module": "@jupyter-widgets/base",
          "model_name": "LayoutModel",
          "model_module_version": "1.2.0",
          "state": {
            "_model_module": "@jupyter-widgets/base",
            "_model_module_version": "1.2.0",
            "_model_name": "LayoutModel",
            "_view_count": null,
            "_view_module": "@jupyter-widgets/base",
            "_view_module_version": "1.2.0",
            "_view_name": "LayoutView",
            "align_content": null,
            "align_items": null,
            "align_self": null,
            "border": null,
            "bottom": null,
            "display": null,
            "flex": null,
            "flex_flow": null,
            "grid_area": null,
            "grid_auto_columns": null,
            "grid_auto_flow": null,
            "grid_auto_rows": null,
            "grid_column": null,
            "grid_gap": null,
            "grid_row": null,
            "grid_template_areas": null,
            "grid_template_columns": null,
            "grid_template_rows": null,
            "height": null,
            "justify_content": null,
            "justify_items": null,
            "left": null,
            "margin": null,
            "max_height": null,
            "max_width": null,
            "min_height": null,
            "min_width": null,
            "object_fit": null,
            "object_position": null,
            "order": null,
            "overflow": null,
            "overflow_x": null,
            "overflow_y": null,
            "padding": null,
            "right": null,
            "top": null,
            "visibility": null,
            "width": null
          }
        },
        "232ec2de77774211b6a5e1a275835281": {
          "model_module": "@jupyter-widgets/controls",
          "model_name": "ProgressStyleModel",
          "model_module_version": "1.5.0",
          "state": {
            "_model_module": "@jupyter-widgets/controls",
            "_model_module_version": "1.5.0",
            "_model_name": "ProgressStyleModel",
            "_view_count": null,
            "_view_module": "@jupyter-widgets/base",
            "_view_module_version": "1.2.0",
            "_view_name": "StyleView",
            "bar_color": null,
            "description_width": ""
          }
        },
        "8bee24bedfc748d39bebd183d5433ef1": {
          "model_module": "@jupyter-widgets/base",
          "model_name": "LayoutModel",
          "model_module_version": "1.2.0",
          "state": {
            "_model_module": "@jupyter-widgets/base",
            "_model_module_version": "1.2.0",
            "_model_name": "LayoutModel",
            "_view_count": null,
            "_view_module": "@jupyter-widgets/base",
            "_view_module_version": "1.2.0",
            "_view_name": "LayoutView",
            "align_content": null,
            "align_items": null,
            "align_self": null,
            "border": null,
            "bottom": null,
            "display": null,
            "flex": null,
            "flex_flow": null,
            "grid_area": null,
            "grid_auto_columns": null,
            "grid_auto_flow": null,
            "grid_auto_rows": null,
            "grid_column": null,
            "grid_gap": null,
            "grid_row": null,
            "grid_template_areas": null,
            "grid_template_columns": null,
            "grid_template_rows": null,
            "height": null,
            "justify_content": null,
            "justify_items": null,
            "left": null,
            "margin": null,
            "max_height": null,
            "max_width": null,
            "min_height": null,
            "min_width": null,
            "object_fit": null,
            "object_position": null,
            "order": null,
            "overflow": null,
            "overflow_x": null,
            "overflow_y": null,
            "padding": null,
            "right": null,
            "top": null,
            "visibility": null,
            "width": null
          }
        },
        "3c9fdbf32c5b4e9c96eb34e0c3ae9033": {
          "model_module": "@jupyter-widgets/controls",
          "model_name": "DescriptionStyleModel",
          "model_module_version": "1.5.0",
          "state": {
            "_model_module": "@jupyter-widgets/controls",
            "_model_module_version": "1.5.0",
            "_model_name": "DescriptionStyleModel",
            "_view_count": null,
            "_view_module": "@jupyter-widgets/base",
            "_view_module_version": "1.2.0",
            "_view_name": "StyleView",
            "description_width": ""
          }
        }
      }
    }
  },
  "cells": [
    {
      "cell_type": "markdown",
      "metadata": {
        "id": "view-in-github",
        "colab_type": "text"
      },
      "source": [
        "<a href=\"https://colab.research.google.com/github/young-hwanlee/stand_alone_deep_learning/blob/main/%2315_Lab_How_to_Write_Well_Organized_DL_Code_from_Scratch.ipynb\" target=\"_parent\"><img src=\"https://colab.research.google.com/assets/colab-badge.svg\" alt=\"Open In Colab\"/></a>"
      ]
    },
    {
      "cell_type": "markdown",
      "source": [
        "Refer to : https://pytorch.org/tutorials/beginner/blitz/cifar10_tutorial.html"
      ],
      "metadata": {
        "id": "jmxcGNlbXr3Z"
      }
    },
    {
      "cell_type": "code",
      "source": [
        "# !pip install -q torch==1.0.0 torchvision\n",
        "import torch\n",
        "print(torch.__version__)"
      ],
      "metadata": {
        "colab": {
          "base_uri": "https://localhost:8080/"
        },
        "id": "Z9tD5HYnEKyT",
        "outputId": "6ecab11c-5e1c-424b-b909-bc17c450aa4b"
      },
      "execution_count": 1,
      "outputs": [
        {
          "output_type": "stream",
          "name": "stdout",
          "text": [
            "1.12.0+cu113\n"
          ]
        }
      ]
    },
    {
      "cell_type": "code",
      "execution_count": 2,
      "metadata": {
        "id": "laySo3smepkd"
      },
      "outputs": [],
      "source": [
        "import torch\n",
        "import torchvision\n",
        "import torchvision.transforms as transforms"
      ]
    },
    {
      "cell_type": "code",
      "source": [
        "# to make the image files into the PyTorch tensor\n",
        "transform = transforms.Compose(\n",
        "    [transforms.ToTensor(),                                                   # RGB : [0~255] -> [0~1]\n",
        "     transforms.Normalize((0.5, 0.5, 0.5), (0.5, 0.5, 0.5))])   # RGB : [0~1] -> [-0.5~0.5], and then divide by std = 0.5\n",
        "batch_size = 4\n",
        "\n",
        "trainset = torchvision.datasets.CIFAR10(root='./data', train=True,\n",
        "                                        download=True, transform=transform)\n",
        "# -----------------------------------------------------------------------------------------------------------------------------------\n",
        "trainset, valset = torch.utils.data.random_split(trainset, [40000, 10000])\n",
        "# -----------------------------------------------------------------------------------------------------------------------------------\n",
        "testset = torchvision.datasets.CIFAR10(root='./data', train=False,\n",
        "                                       download=True, transform=transform)\n",
        "\n",
        "trainloader = torch.utils.data.DataLoader(trainset, batch_size=batch_size,\n",
        "                                          shuffle=True, num_workers=2)\n",
        "# -----------------------------------------------------------------------------------------------------------------------------------\n",
        "valloader = torch.utils.data.DataLoader(valset, batch_size=batch_size, shuffle=False)\n",
        "# -----------------------------------------------------------------------------------------------------------------------------------\n",
        "testloader = torch.utils.data.DataLoader(testset, batch_size=batch_size,\n",
        "                                         shuffle=False, num_workers=2)\n",
        "\n",
        "classes = ('plane', 'car', 'bird', 'cat',\n",
        "           'deer', 'dog', 'frog', 'horse', 'ship', 'truck')"
      ],
      "metadata": {
        "colab": {
          "base_uri": "https://localhost:8080/",
          "height": 103,
          "referenced_widgets": [
            "ee8ca5e601de41f5962e1ea5beb203c1",
            "c6fc036c799e42d999320c533e904205",
            "5a1abd6829a1487a978c0794592aff72",
            "1be8c61683bf4af5b4fb7a2480025d60",
            "b5abdf7ffc444eed9d6ed517de310ea9",
            "3584b86342c84a188905dc90a2da7bcc",
            "1d4b33b7f4b94563b77d4aff923e41c9",
            "b5d7e1ab3f214364b1c3afb9961ea618",
            "232ec2de77774211b6a5e1a275835281",
            "8bee24bedfc748d39bebd183d5433ef1",
            "3c9fdbf32c5b4e9c96eb34e0c3ae9033"
          ]
        },
        "id": "17JLtum4D7uE",
        "outputId": "ac6319ec-40c1-442e-cf3c-2b02f90c577c"
      },
      "execution_count": 3,
      "outputs": [
        {
          "output_type": "stream",
          "name": "stdout",
          "text": [
            "Downloading https://www.cs.toronto.edu/~kriz/cifar-10-python.tar.gz to ./data/cifar-10-python.tar.gz\n"
          ]
        },
        {
          "output_type": "display_data",
          "data": {
            "text/plain": [
              "  0%|          | 0/170498071 [00:00<?, ?it/s]"
            ],
            "application/vnd.jupyter.widget-view+json": {
              "version_major": 2,
              "version_minor": 0,
              "model_id": "ee8ca5e601de41f5962e1ea5beb203c1"
            }
          },
          "metadata": {}
        },
        {
          "output_type": "stream",
          "name": "stdout",
          "text": [
            "Extracting ./data/cifar-10-python.tar.gz to ./data\n",
            "Files already downloaded and verified\n"
          ]
        }
      ]
    },
    {
      "cell_type": "code",
      "source": [
        "import numpy as np\n",
        "print(np.min(testset.data), np.max(testset.data))"
      ],
      "metadata": {
        "id": "qKkJYYPqD74U",
        "colab": {
          "base_uri": "https://localhost:8080/"
        },
        "outputId": "e53cc9c5-3a09-4f81-a6d7-549955f26ae2"
      },
      "execution_count": 4,
      "outputs": [
        {
          "output_type": "stream",
          "name": "stdout",
          "text": [
            "0 255\n"
          ]
        }
      ]
    },
    {
      "cell_type": "code",
      "source": [
        "import matplotlib.pyplot as plt\n",
        "import numpy as np\n",
        "\n",
        "# functions to show an image\n",
        "def imshow(img):\n",
        "    img = img / 2 + 0.5     # unnormalize\n",
        "    npimg = img.numpy()\n",
        "    plt.imshow(np.transpose(npimg, (1, 2, 0)))\n",
        "    plt.show()\n",
        "\n",
        "# get some random training images\n",
        "dataiter = iter(trainloader)\n",
        "images, labels = dataiter.next()\n",
        "\n",
        "# show images\n",
        "imshow(torchvision.utils.make_grid(images))\n",
        "\n",
        "# print labels\n",
        "print(' '.join('%5s' % classes[labels[j]] for j in range(batch_size)))\n",
        "# print(' '.join(f'{classes[labels[j]]:5s}' for j in range(batch_size)))"
      ],
      "metadata": {
        "id": "CvGBY3WhD7_i",
        "colab": {
          "base_uri": "https://localhost:8080/",
          "height": 156
        },
        "outputId": "e3bd9bd9-0d74-45fd-cbf9-483c12aff8cd"
      },
      "execution_count": 5,
      "outputs": [
        {
          "output_type": "display_data",
          "data": {
            "text/plain": [
              "<Figure size 432x288 with 1 Axes>"
            ],
            "image/png": "[encoded data removed]"
          },
          "metadata": {
            "needs_background": "light"
          }
        },
        {
          "output_type": "stream",
          "name": "stdout",
          "text": [
            "  dog plane  deer  deer\n"
          ]
        }
      ]
    },
    {
      "cell_type": "code",
      "source": [
        "print(type(images))\n",
        "print(images.shape)     # [batch_size = 4, no. of channel (RGB) = 3, image size = 32 X 32]\n",
        "\n",
        "print(labels)                  # classes = ('plane', 'car', 'bird', 'cat', 'deer', 'dog', 'frog', 'horse', 'ship', 'truck')\n",
        "print(type(labels))\n",
        "print(labels.shape)"
      ],
      "metadata": {
        "id": "ywowZGCrD8Ev",
        "colab": {
          "base_uri": "https://localhost:8080/"
        },
        "outputId": "cdc8b9a0-83cb-4aba-a3b8-f94730a2ab9a"
      },
      "execution_count": 6,
      "outputs": [
        {
          "output_type": "stream",
          "name": "stdout",
          "text": [
            "<class 'torch.Tensor'>\n",
            "torch.Size([4, 3, 32, 32])\n",
            "tensor([5, 0, 4, 4])\n",
            "<class 'torch.Tensor'>\n",
            "torch.Size([4])\n"
          ]
        }
      ]
    },
    {
      "cell_type": "code",
      "source": [
        "import torch.nn as nn\n",
        "import torch.nn.functional as F\n",
        "\n",
        "# -----------------------------------------------------------------------------------------------------------------------------------\n",
        "class MLP(nn.Module):\n",
        "    def __init__(self, in_dim, out_dim, hid_dim, n_layer, act):\n",
        "        super(MLP, self).__init__()\n",
        "        \n",
        "        self.in_dim = in_dim\n",
        "        self.out_dim = out_dim\n",
        "        self.hid_dim = hid_dim\n",
        "        self.n_layer = n_layer\n",
        "        self.act = act\n",
        "\n",
        "        self.fc = nn.Linear(self.in_dim, self.hid_dim)\n",
        "        self.linears = nn.ModuleList()\n",
        "        \n",
        "        for i in range(self.n_layer - 1):\n",
        "            self.linears.append(nn.Linear(self.hid_dim, self.hid_dim))\n",
        "        self.fc2 = nn.Linear(self.hid_dim, self.out_dim)\n",
        "\n",
        "        if self.act == 'relu':\n",
        "            self.act = nn.ReLU()\n",
        "\n",
        "    def forward(self, x):\n",
        "        x = self.act(self.fc(x))\n",
        "        for fc in self.linears:\n",
        "            x = self.act(fc(x))\n",
        "        x = self.fc2(x)\n",
        "\n",
        "        return x\n",
        "# -----------------------------------------------------------------------------------------------------------------------------------"
      ],
      "metadata": {
        "id": "HezXzogiD8Ke"
      },
      "execution_count": 7,
      "outputs": []
    },
    {
      "cell_type": "code",
      "source": [
        "net = MLP(in_dim=3072, out_dim=10, hid_dim=100, n_layer=4, act='relu')\n",
        "print(net)"
      ],
      "metadata": {
        "colab": {
          "base_uri": "https://localhost:8080/"
        },
        "id": "wRXxfJcxHb7k",
        "outputId": "547e4caa-05ac-44d2-b983-a39bf3407c42"
      },
      "execution_count": 8,
      "outputs": [
        {
          "output_type": "stream",
          "name": "stdout",
          "text": [
            "MLP(\n",
            "  (fc): Linear(in_features=3072, out_features=100, bias=True)\n",
            "  (linears): ModuleList(\n",
            "    (0): Linear(in_features=100, out_features=100, bias=True)\n",
            "    (1): Linear(in_features=100, out_features=100, bias=True)\n",
            "    (2): Linear(in_features=100, out_features=100, bias=True)\n",
            "  )\n",
            "  (fc2): Linear(in_features=100, out_features=10, bias=True)\n",
            "  (act): ReLU()\n",
            ")\n"
          ]
        }
      ]
    },
    {
      "cell_type": "code",
      "source": [
        "import torch.optim as optim\n",
        "\n",
        "# criterion = nn.CrossEntropyLoss()\n",
        "# optimizer = optim.SGD(net.parameters(), lr=0.001, momentum=0.9)\n",
        "\n",
        "# print(criterion)\n",
        "# print(optimizer)"
      ],
      "metadata": {
        "id": "hBywRwmIHcDj"
      },
      "execution_count": 9,
      "outputs": []
    },
    {
      "cell_type": "code",
      "source": [
        "# # ===== Train ===== #\n",
        "\n",
        "# for epoch in range(2):  # loop over the dataset multiple times\n",
        "\n",
        "#     running_loss = 0.0\n",
        "#     for i, data in enumerate(trainloader, 0):\n",
        "#         # get the inputs; data is a list of [inputs, labels]\n",
        "#         inputs, labels = data\n",
        "#         # ----------------------------------------------------------------------------------------------------------------------------\n",
        "#         inputs = inputs.view(-1, 3072)\n",
        "#         # ----------------------------------------------------------------------------------------------------------------------------\n",
        "\n",
        "#         # zero the parameter gradients\n",
        "#         optimizer.zero_grad()\n",
        "\n",
        "#         # forward + backward + optimize\n",
        "#         outputs = net(inputs)\n",
        "#         loss = criterion(outputs, labels)\n",
        "#         loss.backward()\n",
        "#         optimizer.step()\n",
        "\n",
        "#         # print statistics\n",
        "#         running_loss += loss.item()\n",
        "#         if i % 2000 == 1999:    # print every 2000 mini-batches\n",
        "#             print(f'[{epoch + 1}, {i + 1:5d}] loss: {running_loss / 2000:.3f}')\n",
        "#             running_loss = 0.0\n",
        "\n",
        "# print('Finished Training')"
      ],
      "metadata": {
        "id": "dMBfhWPXHcK_"
      },
      "execution_count": 10,
      "outputs": []
    },
    {
      "cell_type": "code",
      "source": [
        "# dataiter = iter(testloader)\n",
        "# images, labels = dataiter.next()\n",
        "\n",
        "# # print images\n",
        "# imshow(torchvision.utils.make_grid(images))\n",
        "# print('GroundTruth: ', ' '.join(f'{classes[labels[j]]:5s}' for j in range(4)))"
      ],
      "metadata": {
        "id": "L76qAcGlTYB6"
      },
      "execution_count": 11,
      "outputs": []
    },
    {
      "cell_type": "code",
      "source": [
        "# # -----------------------------------------------------------------------------------------------------------------------------------\n",
        "# # ===== Validation ===== #\n",
        "\n",
        "# correct = 0\n",
        "# total = 0\n",
        "# val_loss = 0\n",
        "\n",
        "# # since we're not training, we don't need to calculate the gradients for our outputs\n",
        "# with torch.no_grad():\n",
        "#     for data in valloader:\n",
        "#         images, labels = data\n",
        "#         images = images.view(-1, 3072)\n",
        "\n",
        "#         # calculate outputs by running images through the network\n",
        "#         outputs = net(images)\n",
        "#         loss = criterion(outputs, labels)\n",
        "#         val_loss += loss.item()\n",
        "\n",
        "#         # the class with the highest energy is what we choose as prediction\n",
        "#         _, predicted = torch.max(outputs.data, 1)\n",
        "#         total += labels.size(0)\n",
        "#         correct += (predicted == labels).sum().item()\n",
        "\n",
        "#     val_loss = val_loss / len(valloader)\n",
        "#     # print(f'Validation loss: {val_loss}')\n",
        "#     # print('Validation loss: {}'.format(val_loss))\n",
        "\n",
        "# # print(f'Accuracy of the network on the 10000 test images: {100 * correct // total} %')\n",
        "\n",
        "# acc = 100 * correct // total\n",
        "# print('Accuracy of the network on the 10000 test images: {:2.2f} %'.format(acc))\n",
        "# print('Validation loss: {:2.2f}'.format(val_loss))\n",
        "# # -----------------------------------------------------------------------------------------------------------------------------------"
      ],
      "metadata": {
        "id": "YVZEFazuZWRJ"
      },
      "execution_count": 12,
      "outputs": []
    },
    {
      "cell_type": "code",
      "source": [
        "# # ===== Test ===== #\n",
        "\n",
        "# correct = 0\n",
        "# total = 0\n",
        "\n",
        "# # since we're not training, we don't need to calculate the gradients for our outputs\n",
        "# with torch.no_grad():\n",
        "#     for data in testloader:\n",
        "#         images, labels = data\n",
        "#         # ----------------------------------------------------------------------------------------------------------------------------\n",
        "#         images = images.view(-1, 3072)\n",
        "#         # ----------------------------------------------------------------------------------------------------------------------------\n",
        "\n",
        "#         # calculate outputs by running images through the network\n",
        "#         outputs = net(images)\n",
        "\n",
        "#         # the class with the highest energy is what we choose as prediction\n",
        "#         _, predicted = torch.max(outputs.data, 1)\n",
        "#         total += labels.size(0)\n",
        "#         correct += (predicted == labels).sum().item()\n",
        "\n",
        "# print(f'Accuracy of the network on the 10000 test images: {100 * correct // total} %')"
      ],
      "metadata": {
        "id": "T1_cqYr8TYIp"
      },
      "execution_count": 13,
      "outputs": []
    },
    {
      "cell_type": "code",
      "source": [
        "# -----------------------------------------------------------------------------------------------------------------------------------\n",
        "# ===== Experiment ===== #\n",
        "\n",
        "def experiment(args):\n",
        "    net = MLP(args.in_dim, args.out_dim, args.hid_dim, args.n_layer, args.act)\n",
        "    net.cuda()\n",
        "    print(net)\n",
        "\n",
        "    criterion = nn.CrossEntropyLoss()\n",
        "    optimizer = optim.SGD(net.parameters(), lr=args.lr, momentum=args.momentum)\n",
        "\n",
        "    # ===== Train ===== #\n",
        "    for epoch in range(args.epoch):      # loop over the dataset multiple times\n",
        "        train_loss = 0.0\n",
        "        running_loss = 0.0\n",
        "\n",
        "        for i, data in enumerate(trainloader, 0):\n",
        "            # get the inputs\n",
        "            inputs, labels = data\n",
        "            inputs = inputs.view(-1, 3072)\n",
        "            inputs = inputs.cuda()\n",
        "            labels = labels.cuda()\n",
        "\n",
        "            # zero the parameter gradients\n",
        "            optimizer.zero_grad()\n",
        "\n",
        "            # forward + backward + optimize\n",
        "            outputs = net(inputs)\n",
        "            loss = criterion(outputs, labels)\n",
        "            loss.backward()\n",
        "            optimizer.step()\n",
        "\n",
        "            # print statistics\n",
        "            train_loss += loss.item()\n",
        "            \n",
        "            running_loss += loss.item()\n",
        "            if i % 2000 == 1999:        # print every 2000 mini-batches\n",
        "                print('[{}, {:5d}] Loss: {:.3f}'.format(epoch + 1, i + 1, running_loss / 2000))\n",
        "                running_loss = 0.0\n",
        "        \n",
        "        # ===== Validation ===== #\n",
        "        correct = 0\n",
        "        total = 0\n",
        "        val_loss = 0\n",
        "        with torch.no_grad():\n",
        "            for data in valloader:\n",
        "                images, labels = data\n",
        "                images = images.view(-1, 3072)\n",
        "                images = images.cuda()\n",
        "                labels = labels.cuda()\n",
        "\n",
        "                outputs = net(images)\n",
        "\n",
        "                loss = criterion(outputs, labels)\n",
        "                val_loss += loss.item()\n",
        "\n",
        "                _, predicted = torch.max(outputs.data, 1)\n",
        "                total += labels.size(0)\n",
        "                correct += (predicted == labels).sum().item()\n",
        "\n",
        "            val_loss = val_loss / len(valloader)\n",
        "            val_acc = 100 * correct / total\n",
        "\n",
        "        print('Epoch: {}, Train Loss: {:2.2f}, Validation Loss: {:2.2f}, Validation Accuracy: {:2.2f}'.format(epoch, train_loss, val_loss, val_acc))\n",
        "\n",
        "    # ===== Test ===== #\n",
        "    correct = 0\n",
        "    total = 0\n",
        "    with torch.no_grad():\n",
        "        for data in testloader:\n",
        "            images, labels = data\n",
        "            images = images.view(-1, 3072)\n",
        "            images = images.cuda()\n",
        "            labels = labels.cuda()\n",
        "\n",
        "            outputs = net(images)\n",
        "            _, predicted = torch.max(outputs.data, 1)\n",
        "            total += labels.size(0)\n",
        "            correct += (predicted == labels).sum().item()\n",
        "        \n",
        "        test_acc = 100 * correct / total\n",
        "# -----------------------------------------------------------------------------------------------------------------------------------"
      ],
      "metadata": {
        "id": "oEpUbI0oTYpp"
      },
      "execution_count": 14,
      "outputs": []
    },
    {
      "cell_type": "code",
      "source": [
        "# -----------------------------------------------------------------------------------------------------------------------------------\n",
        "import argparse\n",
        "\n",
        "seed = 123\n",
        "np.random.seed(seed)\n",
        "torch.manual_seed(seed)\n",
        "\n",
        "parser = argparse.ArgumentParser()\n",
        "args = parser.parse_args(\"\")\n",
        "print(args)\n",
        "\n",
        "args.n_layer = 5\n",
        "args.in_dim = 3072\n",
        "args.out_dim = 10\n",
        "args.hid_dim = 100\n",
        "args.act = 'relu'\n",
        "\n",
        "args.lr = 0.001\n",
        "args.momentum = 0.9\n",
        "\n",
        "args.epoch = 2\n",
        "\n",
        "list_var1 = [4, 5, 6]\n",
        "list_var2 = [50, 100, 150]\n",
        "\n",
        "for var1 in list_var1:\n",
        "    for var2 in list_var2:\n",
        "        args.n_layer = var1\n",
        "        args.hid_dim = var2\n",
        "        result = experiment(args)\n",
        "        print(result)\n",
        "# -----------------------------------------------------------------------------------------------------------------------------------"
      ],
      "metadata": {
        "colab": {
          "base_uri": "https://localhost:8080/"
        },
        "id": "JCA5Lu7STYOK",
        "outputId": "67a4496b-7bdb-463b-c12c-5fb7271e77e7"
      },
      "execution_count": 15,
      "outputs": [
        {
          "output_type": "stream",
          "name": "stdout",
          "text": [
            "Namespace()\n",
            "MLP(\n",
            "  (fc): Linear(in_features=3072, out_features=50, bias=True)\n",
            "  (linears): ModuleList(\n",
            "    (0): Linear(in_features=50, out_features=50, bias=True)\n",
            "    (1): Linear(in_features=50, out_features=50, bias=True)\n",
            "    (2): Linear(in_features=50, out_features=50, bias=True)\n",
            "  )\n",
            "  (fc2): Linear(in_features=50, out_features=10, bias=True)\n",
            "  (act): ReLU()\n",
            ")\n",
            "[1,  2000] Loss: 2.196\n",
            "[1,  4000] Loss: 1.879\n",
            "[1,  6000] Loss: 1.791\n",
            "[1,  8000] Loss: 1.709\n",
            "[1, 10000] Loss: 1.672\n",
            "Epoch: 0, Train Loss: 18495.79, Validation Loss: 1.71, Validation Accuracy: 38.04\n",
            "[2,  2000] Loss: 1.613\n",
            "[2,  4000] Loss: 1.618\n",
            "[2,  6000] Loss: 1.563\n",
            "[2,  8000] Loss: 1.586\n",
            "[2, 10000] Loss: 1.559\n",
            "Epoch: 1, Train Loss: 15878.98, Validation Loss: 1.60, Validation Accuracy: 43.73\n",
            "None\n",
            "MLP(\n",
            "  (fc): Linear(in_features=3072, out_features=100, bias=True)\n",
            "  (linears): ModuleList(\n",
            "    (0): Linear(in_features=100, out_features=100, bias=True)\n",
            "    (1): Linear(in_features=100, out_features=100, bias=True)\n",
            "    (2): Linear(in_features=100, out_features=100, bias=True)\n",
            "  )\n",
            "  (fc2): Linear(in_features=100, out_features=10, bias=True)\n",
            "  (act): ReLU()\n",
            ")\n",
            "[1,  2000] Loss: 2.204\n",
            "[1,  4000] Loss: 1.914\n",
            "[1,  6000] Loss: 1.787\n",
            "[1,  8000] Loss: 1.710\n",
            "[1, 10000] Loss: 1.666\n",
            "Epoch: 0, Train Loss: 18565.02, Validation Loss: 1.69, Validation Accuracy: 40.34\n",
            "[2,  2000] Loss: 1.600\n",
            "[2,  4000] Loss: 1.575\n",
            "[2,  6000] Loss: 1.563\n",
            "[2,  8000] Loss: 1.531\n",
            "[2, 10000] Loss: 1.505\n",
            "Epoch: 1, Train Loss: 15548.74, Validation Loss: 1.57, Validation Accuracy: 45.14\n",
            "None\n",
            "MLP(\n",
            "  (fc): Linear(in_features=3072, out_features=150, bias=True)\n",
            "  (linears): ModuleList(\n",
            "    (0): Linear(in_features=150, out_features=150, bias=True)\n",
            "    (1): Linear(in_features=150, out_features=150, bias=True)\n",
            "    (2): Linear(in_features=150, out_features=150, bias=True)\n",
            "  )\n",
            "  (fc2): Linear(in_features=150, out_features=10, bias=True)\n",
            "  (act): ReLU()\n",
            ")\n",
            "[1,  2000] Loss: 2.195\n",
            "[1,  4000] Loss: 1.901\n",
            "[1,  6000] Loss: 1.760\n",
            "[1,  8000] Loss: 1.682\n",
            "[1, 10000] Loss: 1.635\n",
            "Epoch: 0, Train Loss: 18345.31, Validation Loss: 1.66, Validation Accuracy: 40.42\n",
            "[2,  2000] Loss: 1.581\n",
            "[2,  4000] Loss: 1.550\n",
            "[2,  6000] Loss: 1.532\n",
            "[2,  8000] Loss: 1.514\n",
            "[2, 10000] Loss: 1.506\n",
            "Epoch: 1, Train Loss: 15366.81, Validation Loss: 1.51, Validation Accuracy: 46.62\n",
            "None\n",
            "MLP(\n",
            "  (fc): Linear(in_features=3072, out_features=50, bias=True)\n",
            "  (linears): ModuleList(\n",
            "    (0): Linear(in_features=50, out_features=50, bias=True)\n",
            "    (1): Linear(in_features=50, out_features=50, bias=True)\n",
            "    (2): Linear(in_features=50, out_features=50, bias=True)\n",
            "    (3): Linear(in_features=50, out_features=50, bias=True)\n",
            "  )\n",
            "  (fc2): Linear(in_features=50, out_features=10, bias=True)\n",
            "  (act): ReLU()\n",
            ")\n",
            "[1,  2000] Loss: 2.286\n",
            "[1,  4000] Loss: 2.033\n",
            "[1,  6000] Loss: 1.918\n",
            "[1,  8000] Loss: 1.832\n",
            "[1, 10000] Loss: 1.763\n",
            "Epoch: 0, Train Loss: 19664.90, Validation Loss: 1.78, Validation Accuracy: 35.59\n",
            "[2,  2000] Loss: 1.686\n",
            "[2,  4000] Loss: 1.664\n",
            "[2,  6000] Loss: 1.632\n",
            "[2,  8000] Loss: 1.617\n",
            "[2, 10000] Loss: 1.603\n",
            "Epoch: 1, Train Loss: 16405.47, Validation Loss: 1.61, Validation Accuracy: 43.21\n",
            "None\n",
            "MLP(\n",
            "  (fc): Linear(in_features=3072, out_features=100, bias=True)\n",
            "  (linears): ModuleList(\n",
            "    (0): Linear(in_features=100, out_features=100, bias=True)\n",
            "    (1): Linear(in_features=100, out_features=100, bias=True)\n",
            "    (2): Linear(in_features=100, out_features=100, bias=True)\n",
            "    (3): Linear(in_features=100, out_features=100, bias=True)\n",
            "  )\n",
            "  (fc2): Linear(in_features=100, out_features=10, bias=True)\n",
            "  (act): ReLU()\n",
            ")\n",
            "[1,  2000] Loss: 2.299\n",
            "[1,  4000] Loss: 2.074\n",
            "[1,  6000] Loss: 1.908\n",
            "[1,  8000] Loss: 1.833\n",
            "[1, 10000] Loss: 1.743\n",
            "Epoch: 0, Train Loss: 19715.51, Validation Loss: 1.71, Validation Accuracy: 37.87\n",
            "[2,  2000] Loss: 1.669\n",
            "[2,  4000] Loss: 1.644\n",
            "[2,  6000] Loss: 1.611\n",
            "[2,  8000] Loss: 1.591\n",
            "[2, 10000] Loss: 1.562\n",
            "Epoch: 1, Train Loss: 16154.23, Validation Loss: 1.55, Validation Accuracy: 44.82\n",
            "None\n",
            "MLP(\n",
            "  (fc): Linear(in_features=3072, out_features=150, bias=True)\n",
            "  (linears): ModuleList(\n",
            "    (0): Linear(in_features=150, out_features=150, bias=True)\n",
            "    (1): Linear(in_features=150, out_features=150, bias=True)\n",
            "    (2): Linear(in_features=150, out_features=150, bias=True)\n",
            "    (3): Linear(in_features=150, out_features=150, bias=True)\n",
            "  )\n",
            "  (fc2): Linear(in_features=150, out_features=10, bias=True)\n",
            "  (act): ReLU()\n",
            ")\n",
            "[1,  2000] Loss: 2.293\n",
            "[1,  4000] Loss: 2.065\n",
            "[1,  6000] Loss: 1.909\n",
            "[1,  8000] Loss: 1.822\n",
            "[1, 10000] Loss: 1.729\n",
            "Epoch: 0, Train Loss: 19636.22, Validation Loss: 1.70, Validation Accuracy: 39.06\n",
            "[2,  2000] Loss: 1.653\n",
            "[2,  4000] Loss: 1.621\n",
            "[2,  6000] Loss: 1.588\n",
            "[2,  8000] Loss: 1.579\n",
            "[2, 10000] Loss: 1.563\n",
            "Epoch: 1, Train Loss: 16007.71, Validation Loss: 1.57, Validation Accuracy: 43.99\n",
            "None\n",
            "MLP(\n",
            "  (fc): Linear(in_features=3072, out_features=50, bias=True)\n",
            "  (linears): ModuleList(\n",
            "    (0): Linear(in_features=50, out_features=50, bias=True)\n",
            "    (1): Linear(in_features=50, out_features=50, bias=True)\n",
            "    (2): Linear(in_features=50, out_features=50, bias=True)\n",
            "    (3): Linear(in_features=50, out_features=50, bias=True)\n",
            "    (4): Linear(in_features=50, out_features=50, bias=True)\n",
            "  )\n",
            "  (fc2): Linear(in_features=50, out_features=10, bias=True)\n",
            "  (act): ReLU()\n",
            ")\n",
            "[1,  2000] Loss: 2.303\n",
            "[1,  4000] Loss: 2.288\n",
            "[1,  6000] Loss: 2.104\n",
            "[1,  8000] Loss: 2.003\n",
            "[1, 10000] Loss: 1.890\n",
            "Epoch: 0, Train Loss: 21175.62, Validation Loss: 1.88, Validation Accuracy: 28.28\n",
            "[2,  2000] Loss: 1.841\n",
            "[2,  4000] Loss: 1.810\n",
            "[2,  6000] Loss: 1.763\n",
            "[2,  8000] Loss: 1.755\n",
            "[2, 10000] Loss: 1.726\n",
            "Epoch: 1, Train Loss: 17790.39, Validation Loss: 1.73, Validation Accuracy: 35.83\n",
            "None\n",
            "MLP(\n",
            "  (fc): Linear(in_features=3072, out_features=100, bias=True)\n",
            "  (linears): ModuleList(\n",
            "    (0): Linear(in_features=100, out_features=100, bias=True)\n",
            "    (1): Linear(in_features=100, out_features=100, bias=True)\n",
            "    (2): Linear(in_features=100, out_features=100, bias=True)\n",
            "    (3): Linear(in_features=100, out_features=100, bias=True)\n",
            "    (4): Linear(in_features=100, out_features=100, bias=True)\n",
            "  )\n",
            "  (fc2): Linear(in_features=100, out_features=10, bias=True)\n",
            "  (act): ReLU()\n",
            ")\n",
            "[1,  2000] Loss: 2.304\n",
            "[1,  4000] Loss: 2.301\n",
            "[1,  6000] Loss: 2.201\n",
            "[1,  8000] Loss: 1.994\n",
            "[1, 10000] Loss: 1.908\n",
            "Epoch: 0, Train Loss: 21413.79, Validation Loss: 1.91, Validation Accuracy: 27.98\n",
            "[2,  2000] Loss: 1.839\n",
            "[2,  4000] Loss: 1.769\n",
            "[2,  6000] Loss: 1.737\n",
            "[2,  8000] Loss: 1.657\n",
            "[2, 10000] Loss: 1.650\n",
            "Epoch: 1, Train Loss: 17304.73, Validation Loss: 1.66, Validation Accuracy: 40.16\n",
            "None\n",
            "MLP(\n",
            "  (fc): Linear(in_features=3072, out_features=150, bias=True)\n",
            "  (linears): ModuleList(\n",
            "    (0): Linear(in_features=150, out_features=150, bias=True)\n",
            "    (1): Linear(in_features=150, out_features=150, bias=True)\n",
            "    (2): Linear(in_features=150, out_features=150, bias=True)\n",
            "    (3): Linear(in_features=150, out_features=150, bias=True)\n",
            "    (4): Linear(in_features=150, out_features=150, bias=True)\n",
            "  )\n",
            "  (fc2): Linear(in_features=150, out_features=10, bias=True)\n",
            "  (act): ReLU()\n",
            ")\n",
            "[1,  2000] Loss: 2.303\n",
            "[1,  4000] Loss: 2.275\n",
            "[1,  6000] Loss: 2.068\n",
            "[1,  8000] Loss: 1.983\n",
            "[1, 10000] Loss: 1.899\n",
            "Epoch: 0, Train Loss: 21056.34, Validation Loss: 1.91, Validation Accuracy: 26.50\n",
            "[2,  2000] Loss: 1.835\n",
            "[2,  4000] Loss: 1.788\n",
            "[2,  6000] Loss: 1.714\n",
            "[2,  8000] Loss: 1.650\n",
            "[2, 10000] Loss: 1.624\n",
            "Epoch: 1, Train Loss: 17221.21, Validation Loss: 1.64, Validation Accuracy: 41.16\n",
            "None\n"
          ]
        }
      ]
    }
  ]
}