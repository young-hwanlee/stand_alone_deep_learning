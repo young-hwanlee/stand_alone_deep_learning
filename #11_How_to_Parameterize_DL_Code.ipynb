{
  "nbformat": 4,
  "nbformat_minor": 0,
  "metadata": {
    "colab": {
      "name": "#11_How_to_Parameterize_DL_Code.ipynb",
      "provenance": [],
      "authorship_tag": "ABX9TyOmb1xi3SuYzBT7ZKRj5PLl",
      "include_colab_link": true
    },
    "kernelspec": {
      "name": "python3",
      "display_name": "Python 3"
    },
    "language_info": {
      "name": "python"
    }
  },
  "cells": [
    {
      "cell_type": "markdown",
      "metadata": {
        "id": "view-in-github",
        "colab_type": "text"
      },
      "source": [
        "<a href=\"https://colab.research.google.com/github/young-hwanlee/stand_alone_deep_learning/blob/main/%2311_How_to_Parameterize_DL_Code.ipynb\" target=\"_parent\"><img src=\"https://colab.research.google.com/assets/colab-badge.svg\" alt=\"Open In Colab\"/></a>"
      ]
    },
    {
      "cell_type": "code",
      "execution_count": 1,
      "metadata": {
        "colab": {
          "base_uri": "https://localhost:8080/"
        },
        "id": "nlFGgr210NPO",
        "outputId": "609ea9e7-7e13-4ec8-cd9a-b966647681f8"
      },
      "outputs": [
        {
          "output_type": "stream",
          "name": "stdout",
          "text": [
            "Namespace()\n",
            "Namespace(batch_size=100)\n",
            "100\n",
            "256\n",
            "128\n",
            "Namespace(batch_size=100, in_dim=128)\n"
          ]
        }
      ],
      "source": [
        "import argparse\n",
        "parser = argparse.ArgumentParser()\n",
        "args = parser.parse_args(\"\")\n",
        "\n",
        "print(args)\n",
        "args.batch_size = 100\n",
        "print(args)\n",
        "print(args.batch_size)\n",
        "\n",
        "args.in_dim = 256\n",
        "print(args.in_dim)\n",
        "args.in_dim = 128\n",
        "print(args.in_dim)\n",
        "print(args)"
      ]
    },
    {
      "cell_type": "code",
      "source": [
        "args.num_layer = 5\n",
        "print(args)"
      ],
      "metadata": {
        "colab": {
          "base_uri": "https://localhost:8080/"
        },
        "id": "IbLzXTxUrMVt",
        "outputId": "c3b54306-a9b7-4569-df39-a5ba5bd31300"
      },
      "execution_count": 2,
      "outputs": [
        {
          "output_type": "stream",
          "name": "stdout",
          "text": [
            "Namespace(batch_size=100, in_dim=128, num_layer=5)\n"
          ]
        }
      ]
    },
    {
      "cell_type": "code",
      "source": [
        "linears = []\n",
        "for i in range(args.num_layer):\n",
        "    linears.append(i)\n",
        "\n",
        "print(linears)"
      ],
      "metadata": {
        "colab": {
          "base_uri": "https://localhost:8080/"
        },
        "id": "2Xo-90PerNgm",
        "outputId": "cd2b80c8-e7b6-4433-b696-b456fed9965c"
      },
      "execution_count": 3,
      "outputs": [
        {
          "output_type": "stream",
          "name": "stdout",
          "text": [
            "[0, 1, 2, 3, 4]\n"
          ]
        }
      ]
    },
    {
      "cell_type": "code",
      "source": [
        "# to make 'argparse' into 'dict'\n",
        "print(type(args))\n",
        "\n",
        "dic = vars(args)\n",
        "print(dic, type(dic))"
      ],
      "metadata": {
        "colab": {
          "base_uri": "https://localhost:8080/"
        },
        "id": "UxlSY01UrNqN",
        "outputId": "ddbb0b66-fb83-47a7-f767-fd5f0ca13ac4"
      },
      "execution_count": 4,
      "outputs": [
        {
          "output_type": "stream",
          "name": "stdout",
          "text": [
            "<class 'argparse.Namespace'>\n",
            "{'batch_size': 100, 'in_dim': 128, 'num_layer': 5} <class 'dict'>\n"
          ]
        }
      ]
    }
  ]
}